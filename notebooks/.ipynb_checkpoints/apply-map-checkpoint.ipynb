{
 "cells": [
  {
   "cell_type": "code",
   "execution_count": 1,
   "metadata": {},
   "outputs": [],
   "source": [
    "import pandas as pd\n",
    "import numpy as np\n",
    "\n",
    "def create_sample_dataframe(n_rows=1000000, n_cols=100):\n",
    "    \"\"\"\n",
    "    Create a pandas dataframe containing n_rows rows and n_cols columns\n",
    "    and mess up with it by changing the dots (.) by commas (,).\n",
    "    \"\"\"\n",
    "    cpf = np.random.randint(1, 999999999, size=n_rows)\n",
    "    variables = {f'column_{col_number}': np.random.random(n_rows) for col_number in range(n_cols)}\n",
    "    variables.update({'CPF': cpf})  \n",
    "\n",
    "    return pd.DataFrame(variables).applymap(lambda x : str(x).replace('.',','))\n",
    "\n",
    "df = create_sample_dataframe()"
   ]
  },
  {
   "cell_type": "code",
   "execution_count": 2,
   "metadata": {},
   "outputs": [
    {
     "name": "stdout",
     "output_type": "stream",
     "text": [
      "CPU times: user 1min 2s, sys: 11.9 s, total: 1min 14s\n",
      "Wall time: 1min 18s\n"
     ]
    }
   ],
   "source": [
    "%%time\n",
    "\n",
    "# applymap executes the results in a vectorized manner (in chunks of 1024 at a time)\n",
    "results_float = df.applymap(lambda x : float(x.replace(',','.')))"
   ]
  },
  {
   "cell_type": "code",
   "execution_count": 11,
   "metadata": {},
   "outputs": [
    {
     "name": "stdout",
     "output_type": "stream",
     "text": [
      "CPU times: user 1min 11s, sys: 1min 14s, total: 2min 26s\n",
      "Wall time: 3min 26s\n"
     ]
    }
   ],
   "source": [
    "%%time\n",
    "\n",
    "results_astype = df.applymap(lambda x : x.replace(',','.')).astype(float)"
   ]
  },
  {
   "cell_type": "code",
   "execution_count": 3,
   "metadata": {},
   "outputs": [
    {
     "name": "stderr",
     "output_type": "stream",
     "text": [
      "/Library/Frameworks/Python.framework/Versions/3.8/lib/python3.8/site-packages/tqdm/std.py:658: FutureWarning: The Panel class is removed from pandas. Accessing it from the top-level namespace will also be removed in the next version\n",
      "  from pandas import Panel\n"
     ]
    },
    {
     "data": {
      "application/vnd.jupyter.widget-view+json": {
       "model_id": "48810ec2d0a24b6ca1dda3cb1d9bf08f",
       "version_major": 2,
       "version_minor": 0
      },
      "text/plain": [
       "HBox(children=(FloatProgress(value=0.0, description='Applying transformation', max=101000000.0, style=Progress…"
      ]
     },
     "metadata": {},
     "output_type": "display_data"
    },
    {
     "name": "stdout",
     "output_type": "stream",
     "text": [
      "\n"
     ]
    }
   ],
   "source": [
    "from tqdm.auto import tqdm\n",
    "tqdm.pandas(desc=\"Applying transformation\")\n",
    "# now you canse use the method .progress_applymap\n",
    "results_tqdm = df.progress_applymap(lambda x : float(x.replace(',','.')))"
   ]
  },
  {
   "cell_type": "code",
   "execution_count": 8,
   "metadata": {},
   "outputs": [],
   "source": [
    "import swifter"
   ]
  },
  {
   "cell_type": "code",
   "execution_count": null,
   "metadata": {},
   "outputs": [],
   "source": [
    "from tqdm.auto import tqdm\n",
    "import re\n",
    "\n",
    "tqdm.pandas(desc=\"Applying transformation\")\n",
    "# now you canse use the method .progress_applymap\n",
    "results_tqdm = df.swifter.progress_applymap(lambda x : float(re.sub(x, ',','.')))"
   ]
  },
  {
   "cell_type": "code",
   "execution_count": null,
   "metadata": {},
   "outputs": [],
   "source": []
  },
  {
   "cell_type": "code",
   "execution_count": null,
   "metadata": {},
   "outputs": [],
   "source": [
    "from tqdm.auto import tqdm\n",
    "import re\n",
    "\n",
    "tqdm.pandas(desc=\"Applying transformation\")\n",
    "# now you canse use the method .progress_applymap\n",
    "results_tqdm = df.swifter.progress_applymap(lambda x : float(re.sub(x, ',','.')))"
   ]
  },
  {
   "cell_type": "code",
   "execution_count": 2,
   "metadata": {},
   "outputs": [
    {
     "name": "stdout",
     "output_type": "stream",
     "text": [
      "CPU times: user 1min 11s, sys: 1min 7s, total: 2min 19s\n",
      "Wall time: 3min 7s\n"
     ]
    }
   ],
   "source": [
    "%%time\n",
    "\n",
    "# applymap executes the results in a vectorized manner (in chunks of 1024 at a time)\n",
    "results = df.applymap(lambda x : x.replace(',','.')).astype(float)"
   ]
  },
  {
   "cell_type": "code",
   "execution_count": 3,
   "metadata": {},
   "outputs": [
    {
     "name": "stdout",
     "output_type": "stream",
     "text": [
      "CPU times: user 1min 3s, sys: 14.1 s, total: 1min 17s\n",
      "Wall time: 1min 27s\n"
     ]
    }
   ],
   "source": [
    "%%time\n",
    "\n",
    "# applymap executes the results in a vectorized manner (in chunks of 1024 at a time)\n",
    "results_float = df.applymap(lambda x : float(x.replace(',','.')))"
   ]
  },
  {
   "cell_type": "code",
   "execution_count": 6,
   "metadata": {},
   "outputs": [],
   "source": [
    "import swifter"
   ]
  },
  {
   "cell_type": "code",
   "execution_count": 5,
   "metadata": {},
   "outputs": [
    {
     "data": {
      "text/html": [
       "<div>\n",
       "<style scoped>\n",
       "    .dataframe tbody tr th:only-of-type {\n",
       "        vertical-align: middle;\n",
       "    }\n",
       "\n",
       "    .dataframe tbody tr th {\n",
       "        vertical-align: top;\n",
       "    }\n",
       "\n",
       "    .dataframe thead th {\n",
       "        text-align: right;\n",
       "    }\n",
       "</style>\n",
       "<table border=\"1\" class=\"dataframe\">\n",
       "  <thead>\n",
       "    <tr style=\"text-align: right;\">\n",
       "      <th></th>\n",
       "      <th>column_0</th>\n",
       "      <th>column_1</th>\n",
       "      <th>column_2</th>\n",
       "      <th>column_3</th>\n",
       "      <th>column_4</th>\n",
       "      <th>column_5</th>\n",
       "      <th>column_6</th>\n",
       "      <th>column_7</th>\n",
       "      <th>column_8</th>\n",
       "      <th>column_9</th>\n",
       "      <th>...</th>\n",
       "      <th>column_91</th>\n",
       "      <th>column_92</th>\n",
       "      <th>column_93</th>\n",
       "      <th>column_94</th>\n",
       "      <th>column_95</th>\n",
       "      <th>column_96</th>\n",
       "      <th>column_97</th>\n",
       "      <th>column_98</th>\n",
       "      <th>column_99</th>\n",
       "      <th>CPF</th>\n",
       "    </tr>\n",
       "  </thead>\n",
       "  <tbody>\n",
       "    <tr>\n",
       "      <th>0</th>\n",
       "      <td>0,008944059737095</td>\n",
       "      <td>0,5681785827371026</td>\n",
       "      <td>0,7383304922962252</td>\n",
       "      <td>0,4011156405363565</td>\n",
       "      <td>0,3883991464218194</td>\n",
       "      <td>0,7403460143795301</td>\n",
       "      <td>0,6789134664944976</td>\n",
       "      <td>0,06454792524540731</td>\n",
       "      <td>0,5973447838822474</td>\n",
       "      <td>0,9093396495190387</td>\n",
       "      <td>...</td>\n",
       "      <td>0,20078413245212745</td>\n",
       "      <td>0,638813896903054</td>\n",
       "      <td>0,32572724048072055</td>\n",
       "      <td>0,628891495265339</td>\n",
       "      <td>0,7173676040506948</td>\n",
       "      <td>0,7141608953458511</td>\n",
       "      <td>0,9546820579643402</td>\n",
       "      <td>0,6761977692318312</td>\n",
       "      <td>0,48698139905629756</td>\n",
       "      <td>282103147</td>\n",
       "    </tr>\n",
       "    <tr>\n",
       "      <th>1</th>\n",
       "      <td>0,2864605597067462</td>\n",
       "      <td>0,05960995273531611</td>\n",
       "      <td>0,5848902820009593</td>\n",
       "      <td>0,8507212275581756</td>\n",
       "      <td>0,4160479518195267</td>\n",
       "      <td>0,26952187892745416</td>\n",
       "      <td>0,984567546754045</td>\n",
       "      <td>0,09691684542991319</td>\n",
       "      <td>0,387243360420228</td>\n",
       "      <td>0,580906132326933</td>\n",
       "      <td>...</td>\n",
       "      <td>0,6895151307030839</td>\n",
       "      <td>0,3177412870171712</td>\n",
       "      <td>0,17310886125306968</td>\n",
       "      <td>0,25133895523434724</td>\n",
       "      <td>0,27499701459683423</td>\n",
       "      <td>0,9391867343283499</td>\n",
       "      <td>0,496642819174105</td>\n",
       "      <td>0,8260141594475012</td>\n",
       "      <td>0,8032838912406364</td>\n",
       "      <td>808018254</td>\n",
       "    </tr>\n",
       "    <tr>\n",
       "      <th>2</th>\n",
       "      <td>0,8572805870949307</td>\n",
       "      <td>0,21293803700021596</td>\n",
       "      <td>0,07024097357738357</td>\n",
       "      <td>0,41111824249806206</td>\n",
       "      <td>0,42871668791853335</td>\n",
       "      <td>0,4702733717161294</td>\n",
       "      <td>0,7750936602559269</td>\n",
       "      <td>0,5375866547014164</td>\n",
       "      <td>0,018446808757978106</td>\n",
       "      <td>0,15440360640075423</td>\n",
       "      <td>...</td>\n",
       "      <td>0,111702738217479</td>\n",
       "      <td>0,8200482439758889</td>\n",
       "      <td>0,9123305277989886</td>\n",
       "      <td>0,17023948862046634</td>\n",
       "      <td>0,0008508441569368141</td>\n",
       "      <td>0,6464777086957889</td>\n",
       "      <td>0,9247043146516686</td>\n",
       "      <td>0,5320035580357477</td>\n",
       "      <td>0,47885892036018707</td>\n",
       "      <td>688301128</td>\n",
       "    </tr>\n",
       "    <tr>\n",
       "      <th>3</th>\n",
       "      <td>0,33578700091268154</td>\n",
       "      <td>0,7312039746114422</td>\n",
       "      <td>0,7478343706042496</td>\n",
       "      <td>0,008594402075664087</td>\n",
       "      <td>0,43482935080050533</td>\n",
       "      <td>0,4274366757324706</td>\n",
       "      <td>0,2958175381631045</td>\n",
       "      <td>0,7316339869818789</td>\n",
       "      <td>0,07061935055444601</td>\n",
       "      <td>0,34516877552351566</td>\n",
       "      <td>...</td>\n",
       "      <td>0,9756653318443067</td>\n",
       "      <td>0,31671130071217846</td>\n",
       "      <td>0,4611728568168547</td>\n",
       "      <td>0,039120153514870415</td>\n",
       "      <td>0,6181653763205216</td>\n",
       "      <td>0,6372414425765245</td>\n",
       "      <td>0,2311577494178002</td>\n",
       "      <td>0,05135578013342201</td>\n",
       "      <td>0,00816438066095404</td>\n",
       "      <td>330626865</td>\n",
       "    </tr>\n",
       "    <tr>\n",
       "      <th>4</th>\n",
       "      <td>0,6246383312332069</td>\n",
       "      <td>0,24270179178224294</td>\n",
       "      <td>0,4610584253361256</td>\n",
       "      <td>0,8681442796035721</td>\n",
       "      <td>0,5797251557288722</td>\n",
       "      <td>0,8963976926950546</td>\n",
       "      <td>0,004934501978239636</td>\n",
       "      <td>0,4268207780426093</td>\n",
       "      <td>0,2962149555880804</td>\n",
       "      <td>0,7880665363187249</td>\n",
       "      <td>...</td>\n",
       "      <td>0,054795184606254654</td>\n",
       "      <td>0,6592300357149661</td>\n",
       "      <td>0,01217410577764233</td>\n",
       "      <td>0,07030885605555837</td>\n",
       "      <td>0,9707525108176613</td>\n",
       "      <td>0,185167974031611</td>\n",
       "      <td>0,41372045072057917</td>\n",
       "      <td>0,17769071916766443</td>\n",
       "      <td>0,21620651852206618</td>\n",
       "      <td>874593677</td>\n",
       "    </tr>\n",
       "  </tbody>\n",
       "</table>\n",
       "<p>5 rows × 101 columns</p>\n",
       "</div>"
      ],
      "text/plain": [
       "              column_0             column_1             column_2  \\\n",
       "0    0,008944059737095   0,5681785827371026   0,7383304922962252   \n",
       "1   0,2864605597067462  0,05960995273531611   0,5848902820009593   \n",
       "2   0,8572805870949307  0,21293803700021596  0,07024097357738357   \n",
       "3  0,33578700091268154   0,7312039746114422   0,7478343706042496   \n",
       "4   0,6246383312332069  0,24270179178224294   0,4610584253361256   \n",
       "\n",
       "               column_3             column_4             column_5  \\\n",
       "0    0,4011156405363565   0,3883991464218194   0,7403460143795301   \n",
       "1    0,8507212275581756   0,4160479518195267  0,26952187892745416   \n",
       "2   0,41111824249806206  0,42871668791853335   0,4702733717161294   \n",
       "3  0,008594402075664087  0,43482935080050533   0,4274366757324706   \n",
       "4    0,8681442796035721   0,5797251557288722   0,8963976926950546   \n",
       "\n",
       "               column_6             column_7              column_8  \\\n",
       "0    0,6789134664944976  0,06454792524540731    0,5973447838822474   \n",
       "1     0,984567546754045  0,09691684542991319     0,387243360420228   \n",
       "2    0,7750936602559269   0,5375866547014164  0,018446808757978106   \n",
       "3    0,2958175381631045   0,7316339869818789   0,07061935055444601   \n",
       "4  0,004934501978239636   0,4268207780426093    0,2962149555880804   \n",
       "\n",
       "              column_9  ...             column_91            column_92  \\\n",
       "0   0,9093396495190387  ...   0,20078413245212745    0,638813896903054   \n",
       "1    0,580906132326933  ...    0,6895151307030839   0,3177412870171712   \n",
       "2  0,15440360640075423  ...     0,111702738217479   0,8200482439758889   \n",
       "3  0,34516877552351566  ...    0,9756653318443067  0,31671130071217846   \n",
       "4   0,7880665363187249  ...  0,054795184606254654   0,6592300357149661   \n",
       "\n",
       "             column_93             column_94              column_95  \\\n",
       "0  0,32572724048072055     0,628891495265339     0,7173676040506948   \n",
       "1  0,17310886125306968   0,25133895523434724    0,27499701459683423   \n",
       "2   0,9123305277989886   0,17023948862046634  0,0008508441569368141   \n",
       "3   0,4611728568168547  0,039120153514870415     0,6181653763205216   \n",
       "4  0,01217410577764233   0,07030885605555837     0,9707525108176613   \n",
       "\n",
       "            column_96            column_97            column_98  \\\n",
       "0  0,7141608953458511   0,9546820579643402   0,6761977692318312   \n",
       "1  0,9391867343283499    0,496642819174105   0,8260141594475012   \n",
       "2  0,6464777086957889   0,9247043146516686   0,5320035580357477   \n",
       "3  0,6372414425765245   0,2311577494178002  0,05135578013342201   \n",
       "4   0,185167974031611  0,41372045072057917  0,17769071916766443   \n",
       "\n",
       "             column_99        CPF  \n",
       "0  0,48698139905629756  282103147  \n",
       "1   0,8032838912406364  808018254  \n",
       "2  0,47885892036018707  688301128  \n",
       "3  0,00816438066095404  330626865  \n",
       "4  0,21620651852206618  874593677  \n",
       "\n",
       "[5 rows x 101 columns]"
      ]
     },
     "execution_count": 5,
     "metadata": {},
     "output_type": "execute_result"
    }
   ],
   "source": [
    "df.head()"
   ]
  },
  {
   "cell_type": "code",
   "execution_count": 8,
   "metadata": {},
   "outputs": [
    {
     "name": "stdout",
     "output_type": "stream",
     "text": [
      "CPU times: user 5.3 s, sys: 17.6 s, total: 22.9 s\n",
      "Wall time: 27.5 s\n"
     ]
    }
   ],
   "source": [
    "%%time\n",
    "\n",
    "results_swifter = df.swifter.applymap(lambda x : x.replace(',','.'))"
   ]
  },
  {
   "cell_type": "code",
   "execution_count": 12,
   "metadata": {},
   "outputs": [],
   "source": [
    "df_bkp = df.copy()"
   ]
  },
  {
   "cell_type": "code",
   "execution_count": 14,
   "metadata": {},
   "outputs": [
    {
     "data": {
      "application/vnd.jupyter.widget-view+json": {
       "model_id": "b1cf44268b4c4352bac7f35520e5c292",
       "version_major": 2,
       "version_minor": 0
      },
      "text/plain": [
       "HBox(children=(FloatProgress(value=0.0, max=101.0), HTML(value='')))"
      ]
     },
     "metadata": {},
     "output_type": "display_data"
    },
    {
     "name": "stdout",
     "output_type": "stream",
     "text": [
      "\n"
     ]
    }
   ],
   "source": [
    "from tqdm.auto import tqdm\n",
    "\n",
    "for col in tqdm(df.columns):\n",
    "    df[col].apply(lambda x : x.replace(',','.'))"
   ]
  },
  {
   "cell_type": "code",
   "execution_count": 36,
   "metadata": {},
   "outputs": [
    {
     "name": "stderr",
     "output_type": "stream",
     "text": [
      "/Library/Frameworks/Python.framework/Versions/3.8/lib/python3.8/site-packages/tqdm/std.py:658: FutureWarning: The Panel class is removed from pandas. Accessing it from the top-level namespace will also be removed in the next version\n",
      "  from pandas import Panel\n"
     ]
    },
    {
     "data": {
      "application/vnd.jupyter.widget-view+json": {
       "model_id": "e527ef58c5c7436e875b7ce86e1cfd15",
       "version_major": 2,
       "version_minor": 0
      },
      "text/plain": [
       "HBox(children=(FloatProgress(value=0.0, description='Pandas Apply', max=1000000.0, style=ProgressStyle(descrip…"
      ]
     },
     "metadata": {},
     "output_type": "display_data"
    },
    {
     "name": "stdout",
     "output_type": "stream",
     "text": [
      "\n"
     ]
    },
    {
     "data": {
      "text/plain": [
       "0          0.5681785827371026\n",
       "1         0.05960995273531611\n",
       "2         0.21293803700021596\n",
       "3          0.7312039746114422\n",
       "4         0.24270179178224294\n",
       "                 ...         \n",
       "999995    0.05998580364287465\n",
       "999996     0.5956784202268005\n",
       "999997     0.2082541154143227\n",
       "999998    0.07290311300121666\n",
       "999999     0.5625249460169565\n",
       "Name: column_1, Length: 1000000, dtype: object"
      ]
     },
     "execution_count": 36,
     "metadata": {},
     "output_type": "execute_result"
    }
   ],
   "source": [
    "df[['column_3','column_1','column_2']].column_1.swifter.apply(lambda x : x.replace(',','.'))"
   ]
  },
  {
   "cell_type": "code",
   "execution_count": 17,
   "metadata": {},
   "outputs": [
    {
     "name": "stdout",
     "output_type": "stream",
     "text": [
      "289 ms ± 3.14 ms per loop (mean ± std. dev. of 7 runs, 1 loop each)\n"
     ]
    }
   ],
   "source": [
    "%%timeit\n",
    "\n",
    "df['column_0'].apply(lambda x : x.replace(',','.'), )"
   ]
  },
  {
   "cell_type": "code",
   "execution_count": 24,
   "metadata": {},
   "outputs": [
    {
     "name": "stdout",
     "output_type": "stream",
     "text": [
      " "
     ]
    }
   ],
   "source": [
    "%%prun \n",
    "\n",
    "df['column_0'] = df['column_0'].str.replace(',','.').astype(float)"
   ]
  },
  {
   "cell_type": "code",
   "execution_count": 40,
   "metadata": {},
   "outputs": [
    {
     "name": "stdout",
     "output_type": "stream",
     "text": [
      " "
     ]
    }
   ],
   "source": [
    "\n",
    "df['column_1'].apply(lambda x : float(x.replace(',','.')))"
   ]
  },
  {
   "cell_type": "code",
   "execution_count": 38,
   "metadata": {},
   "outputs": [
    {
     "name": "stdout",
     "output_type": "stream",
     "text": [
      " "
     ]
    }
   ],
   "source": [
    "%%prun \n",
    "\n",
    "pd.to_numeric(df['column_1'].apply(lambda x : x.replace(',','.')))"
   ]
  },
  {
   "cell_type": "code",
   "execution_count": null,
   "metadata": {},
   "outputs": [],
   "source": []
  },
  {
   "cell_type": "code",
   "execution_count": null,
   "metadata": {},
   "outputs": [],
   "source": [
    "# To see tqdm bar in the applymap method: (~twice as slow, though) \n",
    "from tqdm.auto import tqdm\n",
    "tqdm.pandas(desc=\"Applying transformation\")\n",
    "# now you canse use the method .progress_applymap\n",
    "results_tqdm = df.progress_applymap(lambda x : x.replace(',','.')).astype(float)\n",
    "\n",
    "                          "
   ]
  }
 ],
 "metadata": {
  "kernelspec": {
   "display_name": "Python 3",
   "language": "python",
   "name": "python3"
  },
  "language_info": {
   "codemirror_mode": {
    "name": "ipython",
    "version": 3
   },
   "file_extension": ".py",
   "mimetype": "text/x-python",
   "name": "python",
   "nbconvert_exporter": "python",
   "pygments_lexer": "ipython3",
   "version": "3.8.0"
  },
  "toc": {
   "base_numbering": 1,
   "nav_menu": {},
   "number_sections": true,
   "sideBar": true,
   "skip_h1_title": false,
   "title_cell": "Table of Contents",
   "title_sidebar": "Contents",
   "toc_cell": false,
   "toc_position": {},
   "toc_section_display": true,
   "toc_window_display": false
  }
 },
 "nbformat": 4,
 "nbformat_minor": 2
}
