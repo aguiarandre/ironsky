{
 "cells": [
  {
   "cell_type": "code",
   "execution_count": 1,
   "metadata": {},
   "outputs": [
    {
     "name": "stderr",
     "output_type": "stream",
     "text": [
      "/Library/Frameworks/Python.framework/Versions/3.8/lib/python3.8/site-packages/statsmodels/tools/_testing.py:19: FutureWarning: pandas.util.testing is deprecated. Use the functions in the public API at pandas.testing instead.\n",
      "  import pandas.util.testing as tm\n"
     ]
    }
   ],
   "source": [
    "import seaborn as sns\n",
    "import matplotlib.pyplot as plt\n",
    "import pandas as pd\n",
    "import numpy as np\n",
    "import re\n",
    "\n",
    "from google.cloud.exceptions import GatewayTimeout\n",
    "from google.api_core.exceptions import AlreadyExists, NotFound\n",
    "from google.cloud import bigquery"
   ]
  },
  {
   "cell_type": "code",
   "execution_count": 2,
   "metadata": {},
   "outputs": [],
   "source": [
    "import logging"
   ]
  },
  {
   "cell_type": "code",
   "execution_count": 3,
   "metadata": {},
   "outputs": [],
   "source": [
    "from logging.handlers import RotatingFileHandler"
   ]
  },
  {
   "cell_type": "code",
   "execution_count": 4,
   "metadata": {},
   "outputs": [],
   "source": [
    "logging.basicConfig()"
   ]
  },
  {
   "cell_type": "code",
   "execution_count": 5,
   "metadata": {},
   "outputs": [],
   "source": [
    "logging.basicConfig(level=logging.INFO)"
   ]
  },
  {
   "cell_type": "code",
   "execution_count": 6,
   "metadata": {},
   "outputs": [],
   "source": [
    "import logging\n",
    "\n",
    "from logging.handlers import RotatingFileHandler\n",
    "import sys\n",
    "\n",
    "class IronLog:\n",
    "\n",
    "    def __init__(self, logger_name = None, logfile : str = 'general.log', **kwargs):\n",
    "        self.LOG_FILE = logfile\n",
    "\n",
    "        self.FORMATTER = logging.Formatter(\"%(asctime)s - %(name)s - %(levelname)s - %(funcName)s - line: %(lineno)s - %(message)s\",\n",
    "                                          \"%Y-%m-%d %H:%M:%S\")\n",
    "        \n",
    "        self.logger = logging.getLogger(logger_name)\n",
    "        self.logger.setLevel(logging.INFO)\n",
    "        \n",
    "        self.mb = kwargs.get('mb', 4)\n",
    "        self.n_files = kwargs.get('n_files', 5)\n",
    "        \n",
    "        self.logger.handlers = []\n",
    "        self.logger.addHandler(\n",
    "            self._get_rotating_file_handler(self.mb, self.n_files)\n",
    "        )\n",
    "\n",
    "    def getLogger(self):\n",
    "        return self.logger\n",
    "        \n",
    "    def _get_console_handler(self):\n",
    "        \"\"\"Return a simple stream handler to provide standard output.\"\"\"\n",
    "        console_handler = logging.StreamHandler(sys.stdout)\n",
    "        console_handler.setFormatter(self.FORMATTER)\n",
    "        return console_handler\n",
    "\n",
    "    def _get_rotating_file_handler(self, mb, n_files):\n",
    "        \"\"\"\n",
    "        Return a rotative log file handler. \n",
    "        It will create a file named `LOG_FILE` and as soon as the file starts to reach \n",
    "        the defined maxBytes, it will be renamed to LOG_FILE.1 up to LOG_FILE.n_files.\n",
    "        The LOG_FILE.n_files is thrown to trash to give space for a new log file.\n",
    "        \n",
    "        So if you have mb = 4 MegaBytes and n_files = 5, the maximum space allowed would be \n",
    "        5 copies of 4MB each + the original log file --> 24 MB max.\n",
    "        \n",
    "        \"\"\"\n",
    "        file_handler = RotatingFileHandler(self.LOG_FILE, \n",
    "                                           maxBytes= mb * 1024**2, \n",
    "                                           backupCount=n_files)\n",
    "        file_handler.setFormatter(self.FORMATTER)\n",
    "        file_handler.setLevel(level=logging.DEBUG)\n",
    "        return file_handler"
   ]
  },
  {
   "cell_type": "code",
   "execution_count": 22,
   "metadata": {},
   "outputs": [],
   "source": [
    "from pandas import DataFrame\n",
    "import re\n",
    "\n",
    "from google.cloud import bigquery\n",
    "from google.api_core.exceptions import AlreadyExists, NotFound, BadRequest\n",
    "\n",
    "from functools import wraps\n",
    "\n",
    "\n",
    "class IronSky:\n",
    "\n",
    "    def __init__(self, dataset='ironhack_database'):\n",
    "        self.client = bigquery.Client()\n",
    "        self.dataset = dataset\n",
    "        self.stats = IronStats(self, self.dataset)\n",
    "        self.plot = IronPlot(self, self.dataset)\n",
    "        \n",
    "        return\n",
    "\n",
    "    def tables(self, pattern=None, by_desc=None):\n",
    "        \"\"\"\n",
    "        Return a dataframe containing the tables from the connected dataset.\n",
    "        \"\"\"\n",
    "        # get list of dataset's tables and create the dataframe\n",
    "        ds_list = self.client.list_tables(self.dataset)\n",
    "        result = DataFrame(dict(\n",
    "            table_name=[table.table_id for table in ds_list]\n",
    "        ))\n",
    "        \n",
    "        # filter tables using regular expression\n",
    "        if pattern:\n",
    "            result = result.loc[result.table_name.str.contains(pattern)]\n",
    "\n",
    "        return result\n",
    "\n",
    "    def cost(self, sql, verbose=True):\n",
    "        \"\"\"\n",
    "        Estimate the cost of a query in BigQuery considering each Gb costs $0.02 cents.\n",
    "        \"\"\"\n",
    "        logger = IronLog('bq').getLogger()\n",
    "        \n",
    "        job_config = bigquery.QueryJobConfig()\n",
    "        job_config.dry_run = True\n",
    "        job_config.use_query_cache = False\n",
    "        \n",
    "        try:\n",
    "            job = self.client.query(sql, location='US', job_config=job_config)\n",
    "        except BadRequest as error:\n",
    "            \"Check if the person forgot to put the dataset name (dataset.table_name)\"\n",
    "            msg = error.message\n",
    "            # log the error message and say what you're trying to do.\n",
    "            logger.warning(msg)\n",
    "            logger.warning('Trying to correct the mistake by inputing the dataset name.')\n",
    "\n",
    "            if re.findall('(missing dataset)', msg):\n",
    "                tentative_sql = re.sub('(FROM +)' , f'FROM {self.dataset}.', sql)\n",
    "                logger.info('Running the following query:')\n",
    "                logger.info(tentative_sql)\n",
    "                job = self.client.query(tentative_sql, location='US', job_config=job_config)\n",
    "            \n",
    "        mb = job.total_bytes_processed / 1024**2\n",
    "\n",
    "        # 0.02 cents for each GB processed.\n",
    "        dollar = (job.total_bytes_processed / 1024**3) * 0.02\n",
    "\n",
    "        if verbose:\n",
    "            logger.info(f'Processing {mb:2,.0f} MB, which costs US$ {dollar:,.2f}')\n",
    "            \n",
    "        return dollar\n",
    "\n",
    "    def head(self, table, nrows=5):\n",
    "        \"\"\"\n",
    "        Fetch the table from BigQuery and show the top nrows\n",
    "        in a dataframe format.\"\"\"\n",
    "        table = self.client.get_table(table)\n",
    "        return self.client.list_rows(table, max_results=nrows).to_dataframe()\n",
    "\n",
    "    def partitions(self, table):\n",
    "        \"Return the ids of the partitions of a table.\"\n",
    "        table = self.client.get_table(table)\n",
    "        return self.client.list_partitions(table)\n",
    "\n",
    "\n",
    "    def query(self, sql, verbose=True):\n",
    "        \"\"\"\n",
    "        Send a query to bigquery and return the result as a dataframe.\n",
    "        \n",
    "        Estimate the cost of the query\n",
    "        \"\"\"\n",
    "        job = self.client.query(sql)\n",
    "        result = job.result().to_dataframe()\n",
    "        \n",
    "        if verbose and job.total_bytes_billed is not None:\n",
    "            mb = job.total_bytes_billed / 1024**2\n",
    "            dollar = job.total_bytes_billed / 1024**3 * 0.02\n",
    "            logger = IronLog('bq').getLogger()\n",
    "            logger.info(f'Processing {mb:2,.0f} MB, which costs US$ {dollar:,.2f}')\n",
    "            \n",
    "        return result\n",
    "\n",
    "    def download(self, table):\n",
    "        \"\"\"\n",
    "        Download the table to a dataframe.\n",
    "        \"\"\"\n",
    "        table = self.client.get_table(table)\n",
    "        return self.client.list_rows(table).to_dataframe()\n",
    "\n",
    "    def upload(self, data : DataFrame, table_name : str, overwrite=False):\n",
    "        \"\"\"\n",
    "        Upload a dataframe to the bigquery dataset.\n",
    "        \"\"\"\n",
    "        logger = IronLog('bq').getLogger()\n",
    "\n",
    "        if overwrite:\n",
    "            tables = self.client.tables()\n",
    "        \n",
    "        try:\n",
    "            self.client.load_table_from_dataframe(data, table_name)\n",
    "        except ValueError as error:\n",
    "            \"\"\" \n",
    "            ValueError is usually the case when the user forgot to specify the\n",
    "            `dataset.` prefix.\n",
    "            \n",
    "            The fix here is to try to infer the dataset and input into as the\n",
    "            prefix of the table_name (as `dataset.table_name`)\n",
    "            \"\"\"\n",
    "            logger.warning(error.args[0])\n",
    "            if re.findall('(project.dataset.table_id)', error.args[0]):\n",
    "                logger.warning('Infering the dataset and repeating the action.')\n",
    "                self.client.load_table_from_dataframe(data, f'{self.dataset}.' + table_name)\n",
    "        \n",
    "        logger.info(f'{table_name} uploaded.')\n",
    "\n",
    "        return\n"
   ]
  },
  {
   "cell_type": "code",
   "execution_count": 379,
   "metadata": {},
   "outputs": [],
   "source": [
    "class IronPlot:\n",
    "    import matplotlib.pyplot as plt\n",
    "    import seaborn as sns\n",
    "    \n",
    "    def __init__(self, client, dataset):\n",
    "        self.client = client\n",
    "        self.dataset = dataset\n",
    "        \n",
    "    def cum_freq(self, table_name, col_name : Union[str, List], verbose=True):\n",
    "        data = self.client.stats.freq(table_name, col_name).data\n",
    "        selected_cols = [col for col in data.columns if col.startswith('qt')]\n",
    "        return data\n"
   ]
  },
  {
   "cell_type": "code",
   "execution_count": 380,
   "metadata": {},
   "outputs": [],
   "source": [
    "X = pd.DataFrame().style"
   ]
  },
  {
   "cell_type": "code",
   "execution_count": 381,
   "metadata": {},
   "outputs": [],
   "source": [
    "class IronStyle:\n",
    "    \n",
    "    def __init__(self, dataframe : DataFrame, \n",
    "                       bg_color : Union[None, str] = 'green', \n",
    "                       highlight : Union[None, str] = None, \n",
    "                       caption : Union[None, str] = None, \n",
    "                       selected_cols : Union[List[str], List] = []):\n",
    "        \"\"\"\n",
    "        Gets a dataframe and apply some layout.\n",
    "        \n",
    "        bg_color : Either None (which means no background color should be selected) \n",
    "                   or a colormap. The list of colormaps can be found using `plt.colormaps()`\n",
    "        highlight: Either None (which means no highligh will be done) or a string representing \n",
    "                   a color, for example 'red' or 'yellow'\n",
    "        caption:   Either None (which means the dataframe will not be captioned) or the string\n",
    "                   you want above the representation of the dataframe\n",
    "                   \n",
    "        \"\"\"\n",
    "        self.dataframe = dataframe\n",
    "        self.bg_color = bg_color\n",
    "        self.highlight = highlight\n",
    "        self.caption = caption\n",
    "        self.selected_cols = selected_cols\n",
    "                \n",
    "    def apply_style(self):\n",
    "        \"\"\"\n",
    "        Return a styler dataframe with the desired styling. \n",
    "        \n",
    "        For the current implementation, apply_style performs background_gradient \n",
    "        and highlight for some specific columns via the argument `selected_cols` \n",
    "        or, if no column is specified, color the columns that starts with `qt` or `vl`.\n",
    "        \"\"\"\n",
    "        styler = self.dataframe.style\n",
    "        if not self.selected_cols: \n",
    "            self.selected_cols = [col for col in self.dataframe.columns \n",
    "                                  if col.startswith('qt') or col.startswith('vl')]\n",
    "\n",
    "        print(self.selected_cols)\n",
    "        if self.bg_color:\n",
    "            cm = sns.light_palette(self.bg_color, as_cmap=True)\n",
    "            styler = styler.background_gradient(cmap=cm, subset=self.selected_cols)\n",
    "        if self.highlight:\n",
    "            styler = styler.highlight_max(subset=self.selected_cols, color =self.highlight)\n",
    "        if self.caption:\n",
    "            styler = styler.set_caption(self.caption)\n",
    "            \n",
    "        return styler\n",
    "            \n",
    "    def _plot_all_cmaps(self):\n",
    "        import matplotlib as mpl\n",
    "        import matplotlib.pyplot as plt\n",
    "\n",
    "        def plot_cmaps(cmap):\n",
    "\n",
    "            fig, ax = plt.subplots(figsize=(4,0.4))\n",
    "            col_map = plt.get_cmap(cmap)\n",
    "            mpl.colorbar.ColorbarBase(ax, cmap=col_map, orientation = 'horizontal')\n",
    "\n",
    "            plt.show()\n",
    "\n",
    "        for cmap_id in plt.colormaps():\n",
    "            print(cmap_id)\n",
    "            plot_cmaps(cmap_id)\n",
    "\n",
    "    def _plot_specific_cmap(self, cmap):\n",
    "        import matplotlib as mpl\n",
    "        import matplotlib.pyplot as plt\n",
    "\n",
    "        def plot_cmaps(cmap):\n",
    "\n",
    "            fig, ax = plt.subplots(figsize=(4,0.4))\n",
    "            col_map = plt.get_cmap(cmap)\n",
    "            mpl.colorbar.ColorbarBase(ax, cmap=col_map, orientation = 'horizontal')\n",
    "\n",
    "            plt.show()\n",
    "            \n",
    "        print(cmap)\n",
    "        plot_cmaps(cmap)\n",
    "\n",
    "    "
   ]
  },
  {
   "cell_type": "code",
   "execution_count": 394,
   "metadata": {},
   "outputs": [
    {
     "data": {
      "text/plain": [
       "['perc_survived', 'perc_pclass']"
      ]
     },
     "execution_count": 394,
     "metadata": {},
     "output_type": "execute_result"
    }
   ],
   "source": []
  },
  {
   "cell_type": "code",
   "execution_count": 411,
   "metadata": {},
   "outputs": [],
   "source": [
    "from typing import List, Union\n",
    "from IPython.display import display, Markdown\n",
    "\n",
    "class IronStats:\n",
    "    \n",
    "    def __init__(self, client, dataset):\n",
    "        self.client = client\n",
    "        self.dataset = dataset\n",
    "    \n",
    "    def freq(self, \n",
    "             table_name, \n",
    "             col_name : Union[str, List], \n",
    "             verbose=True, \n",
    "             order_by_freq=False, \n",
    "             ascending=True):\n",
    "        \"\"\"\n",
    "        Return a dataframe (styler) containing the frequency table of the `col_name` \n",
    "        (which can be a list of columns) specified.\n",
    "        \"\"\"\n",
    "        if not isinstance(col_name, list) or not isinstance(col_name,tuple):\n",
    "            col_name = list(col_name)\n",
    "        \n",
    "        query_str = self._freq_query(table_name, col_name,verbose)\n",
    "        cols_str = ' and '.join(col_name)\n",
    "        caption = f'''Frequency table for {table_name}<br>Grouped by {cols_str}'''\n",
    "        \n",
    "        \"\"\"\n",
    "                    keys = ', \\n\\t\\t'.join(col_name)\n",
    "                    counts = [f'COUNT({col}) AS qtd_{col.lower()}' for col in col_name]\n",
    "                    cols_str = ' and '.join(col_name)\n",
    "                    caption = f'''Frequency table for {table_name}<br>Grouped by {cols_str}'''\n",
    "                    aggregations = ',\\n\\t\\t'.join(counts)\n",
    "                    query_str = f'''\n",
    "         SELECT {keys},\n",
    "                {aggregations}\n",
    "           FROM {self.dataset}.{table_name}\n",
    "          GROUP BY {keys}\n",
    "        '''\n",
    "        \"\"\"      \n",
    "            \n",
    "        if verbose:\n",
    "            display(Markdown(f'''```sql {query_str}```'''))\n",
    "        \n",
    "        if order_by_freq:\n",
    "            freq_cols = [col.replace('qtd','perc') for col in col_name]\n",
    "            print(freq_cols)\n",
    "            result = self.client.query(query_str).sort_values(by=freq_cols, \n",
    "                                                              ascending=ascending)\n",
    "        else:\n",
    "            result = self.client.query(query_str).sort_values(by=col_name, \n",
    "                                                              ascending=ascending)\n",
    "        \n",
    "        return IronStyle(result, caption=caption).apply_style()\n",
    "        \n",
    "        \n",
    "    def _freq_query(self, table_name, col_name, verbose):\n",
    "        keys = col_name\n",
    "        counts = [f'''COUNT({col_name}) AS qtd_{col_name.lower()},\\n\n",
    "                      COUNT({col_name})/(SUM(COUNT(*)) OVER()) AS perc_{col_name.lower()}'''\n",
    "                 for col in col_name]\n",
    "        caption = f'''Frequency table for {table_name}<br>Grouped by {col_name}'''\n",
    "        aggregations = ',\\n\\t\\t'.join(counts)\n",
    "        query_str = (f'''\n",
    "                     SELECT {keys},\n",
    "                            {aggregations}\n",
    "                       FROM {self.dataset}.{table_name}\n",
    "                      GROUP BY {keys}\n",
    "                    ''')\n",
    "        \n",
    "        return query_str"
   ]
  },
  {
   "cell_type": "markdown",
   "metadata": {},
   "source": [
    "# Instantiating the client"
   ]
  },
  {
   "cell_type": "code",
   "execution_count": 412,
   "metadata": {},
   "outputs": [],
   "source": [
    "bq = IronSky()"
   ]
  },
  {
   "cell_type": "code",
   "execution_count": 413,
   "metadata": {},
   "outputs": [
    {
     "ename": "AttributeError",
     "evalue": "'list' object has no attribute 'lower'",
     "output_type": "error",
     "traceback": [
      "\u001b[0;31m---------------------------------------------------------------------------\u001b[0m",
      "\u001b[0;31mAttributeError\u001b[0m                            Traceback (most recent call last)",
      "\u001b[0;32m<ipython-input-413-96ca48ea1e9a>\u001b[0m in \u001b[0;36m<module>\u001b[0;34m\u001b[0m\n\u001b[0;32m----> 1\u001b[0;31m \u001b[0mbq\u001b[0m\u001b[0;34m.\u001b[0m\u001b[0mstats\u001b[0m\u001b[0;34m.\u001b[0m\u001b[0mfreq\u001b[0m\u001b[0;34m(\u001b[0m\u001b[0;34m'titanic'\u001b[0m\u001b[0;34m,\u001b[0m\u001b[0;34m'Survived'\u001b[0m\u001b[0;34m)\u001b[0m\u001b[0;34m\u001b[0m\u001b[0;34m\u001b[0m\u001b[0m\n\u001b[0m",
      "\u001b[0;32m<ipython-input-411-68cfbaccc19e>\u001b[0m in \u001b[0;36mfreq\u001b[0;34m(self, table_name, col_name, verbose, order_by_freq, ascending)\u001b[0m\n\u001b[1;32m     21\u001b[0m             \u001b[0mcol_name\u001b[0m \u001b[0;34m=\u001b[0m \u001b[0mlist\u001b[0m\u001b[0;34m(\u001b[0m\u001b[0mcol_name\u001b[0m\u001b[0;34m)\u001b[0m\u001b[0;34m\u001b[0m\u001b[0;34m\u001b[0m\u001b[0m\n\u001b[1;32m     22\u001b[0m \u001b[0;34m\u001b[0m\u001b[0m\n\u001b[0;32m---> 23\u001b[0;31m         \u001b[0mquery_str\u001b[0m \u001b[0;34m=\u001b[0m \u001b[0mself\u001b[0m\u001b[0;34m.\u001b[0m\u001b[0m_freq_one_col\u001b[0m\u001b[0;34m(\u001b[0m\u001b[0mtable_name\u001b[0m\u001b[0;34m,\u001b[0m \u001b[0mcol_name\u001b[0m\u001b[0;34m,\u001b[0m\u001b[0mverbose\u001b[0m\u001b[0;34m)\u001b[0m\u001b[0;34m\u001b[0m\u001b[0;34m\u001b[0m\u001b[0m\n\u001b[0m\u001b[1;32m     24\u001b[0m         \u001b[0mcols_str\u001b[0m \u001b[0;34m=\u001b[0m \u001b[0;34m' and '\u001b[0m\u001b[0;34m.\u001b[0m\u001b[0mjoin\u001b[0m\u001b[0;34m(\u001b[0m\u001b[0mcol_name\u001b[0m\u001b[0;34m)\u001b[0m\u001b[0;34m\u001b[0m\u001b[0;34m\u001b[0m\u001b[0m\n\u001b[1;32m     25\u001b[0m         \u001b[0mcaption\u001b[0m \u001b[0;34m=\u001b[0m \u001b[0;34mf'''Frequency table for {table_name}<br>Grouped by {cols_str}'''\u001b[0m\u001b[0;34m\u001b[0m\u001b[0;34m\u001b[0m\u001b[0m\n",
      "\u001b[0;32m<ipython-input-411-68cfbaccc19e>\u001b[0m in \u001b[0;36m_freq_one_col\u001b[0;34m(self, table_name, col_name, verbose)\u001b[0m\n\u001b[1;32m     56\u001b[0m     \u001b[0;32mdef\u001b[0m \u001b[0m_freq_one_col\u001b[0m\u001b[0;34m(\u001b[0m\u001b[0mself\u001b[0m\u001b[0;34m,\u001b[0m \u001b[0mtable_name\u001b[0m\u001b[0;34m,\u001b[0m \u001b[0mcol_name\u001b[0m\u001b[0;34m,\u001b[0m \u001b[0mverbose\u001b[0m\u001b[0;34m)\u001b[0m\u001b[0;34m:\u001b[0m\u001b[0;34m\u001b[0m\u001b[0;34m\u001b[0m\u001b[0m\n\u001b[1;32m     57\u001b[0m         \u001b[0mkeys\u001b[0m \u001b[0;34m=\u001b[0m \u001b[0mcol_name\u001b[0m\u001b[0;34m\u001b[0m\u001b[0;34m\u001b[0m\u001b[0m\n\u001b[0;32m---> 58\u001b[0;31m         counts = [f'''COUNT({col_name}) AS qtd_{col_name.lower()},\\n\n\u001b[0m\u001b[1;32m     59\u001b[0m                       COUNT({col_name})/(SUM(COUNT(*)) OVER()) AS perc_{col_name.lower()}''']\n\u001b[1;32m     60\u001b[0m         \u001b[0mcaption\u001b[0m \u001b[0;34m=\u001b[0m \u001b[0;34mf'''Frequency table for {table_name}<br>Grouped by {col_name}'''\u001b[0m\u001b[0;34m\u001b[0m\u001b[0;34m\u001b[0m\u001b[0m\n",
      "\u001b[0;31mAttributeError\u001b[0m: 'list' object has no attribute 'lower'"
     ]
    }
   ],
   "source": [
    "bq.stats.freq('titanic','Survived')"
   ]
  },
  {
   "cell_type": "code",
   "execution_count": 406,
   "metadata": {},
   "outputs": [
    {
     "data": {
      "text/markdown": [
       "```sql \n",
       "                     SELECT Survived,\n",
       "                            COUNT(Survived) AS qtd_survived,\n",
       "\n",
       "                      COUNT(Survived)/(SUM(COUNT(*)) OVER()) AS perc_survived\n",
       "                       FROM ironhack_database.titanic\n",
       "                      GROUP BY Survived\n",
       "                    ```"
      ],
      "text/plain": [
       "<IPython.core.display.Markdown object>"
      ]
     },
     "metadata": {},
     "output_type": "display_data"
    },
    {
     "name": "stderr",
     "output_type": "stream",
     "text": [
      "INFO:bq:Processing  0 MB, which costs US$ 0.00\n"
     ]
    },
    {
     "ename": "KeyError",
     "evalue": "'S'",
     "output_type": "error",
     "traceback": [
      "\u001b[0;31m---------------------------------------------------------------------------\u001b[0m",
      "\u001b[0;31mKeyError\u001b[0m                                  Traceback (most recent call last)",
      "\u001b[0;32m<ipython-input-406-272a42828c33>\u001b[0m in \u001b[0;36m<module>\u001b[0;34m\u001b[0m\n\u001b[0;32m----> 1\u001b[0;31m \u001b[0mbq\u001b[0m\u001b[0;34m.\u001b[0m\u001b[0mstats\u001b[0m\u001b[0;34m.\u001b[0m\u001b[0mfreq\u001b[0m\u001b[0;34m(\u001b[0m\u001b[0;34m'titanic'\u001b[0m\u001b[0;34m,\u001b[0m\u001b[0;34m'Survived'\u001b[0m\u001b[0;34m,\u001b[0m \u001b[0morder_by_freq\u001b[0m\u001b[0;34m=\u001b[0m\u001b[0;32mTrue\u001b[0m\u001b[0;34m)\u001b[0m\u001b[0;34m\u001b[0m\u001b[0;34m\u001b[0m\u001b[0m\n\u001b[0m",
      "\u001b[0;32m<ipython-input-403-301860ff15ea>\u001b[0m in \u001b[0;36mfreq\u001b[0;34m(self, table_name, col_name, verbose, order_by_freq, ascending)\u001b[0m\n\u001b[1;32m     35\u001b[0m         \u001b[0;32mif\u001b[0m \u001b[0morder_by_freq\u001b[0m\u001b[0;34m:\u001b[0m\u001b[0;34m\u001b[0m\u001b[0;34m\u001b[0m\u001b[0m\n\u001b[1;32m     36\u001b[0m             \u001b[0mfreq_cols\u001b[0m \u001b[0;34m=\u001b[0m \u001b[0;34m[\u001b[0m\u001b[0mcol\u001b[0m\u001b[0;34m.\u001b[0m\u001b[0mreplace\u001b[0m\u001b[0;34m(\u001b[0m\u001b[0;34m'qtd'\u001b[0m\u001b[0;34m,\u001b[0m\u001b[0;34m'perc'\u001b[0m\u001b[0;34m)\u001b[0m \u001b[0;32mfor\u001b[0m \u001b[0mcol\u001b[0m \u001b[0;32min\u001b[0m \u001b[0mcol_name\u001b[0m\u001b[0;34m]\u001b[0m\u001b[0;34m\u001b[0m\u001b[0;34m\u001b[0m\u001b[0m\n\u001b[0;32m---> 37\u001b[0;31m             result = self.client.query(query_str).sort_values(by=freq_cols, \n\u001b[0m\u001b[1;32m     38\u001b[0m                                                               ascending=ascending)\n\u001b[1;32m     39\u001b[0m         \u001b[0;32melse\u001b[0m\u001b[0;34m:\u001b[0m\u001b[0;34m\u001b[0m\u001b[0;34m\u001b[0m\u001b[0m\n",
      "\u001b[0;32m/Library/Frameworks/Python.framework/Versions/3.8/lib/python3.8/site-packages/pandas/core/frame.py\u001b[0m in \u001b[0;36msort_values\u001b[0;34m(self, by, axis, ascending, inplace, kind, na_position, ignore_index)\u001b[0m\n\u001b[1;32m   4918\u001b[0m             \u001b[0;32mfrom\u001b[0m \u001b[0mpandas\u001b[0m\u001b[0;34m.\u001b[0m\u001b[0mcore\u001b[0m\u001b[0;34m.\u001b[0m\u001b[0msorting\u001b[0m \u001b[0;32mimport\u001b[0m \u001b[0mlexsort_indexer\u001b[0m\u001b[0;34m\u001b[0m\u001b[0;34m\u001b[0m\u001b[0m\n\u001b[1;32m   4919\u001b[0m \u001b[0;34m\u001b[0m\u001b[0m\n\u001b[0;32m-> 4920\u001b[0;31m             \u001b[0mkeys\u001b[0m \u001b[0;34m=\u001b[0m \u001b[0;34m[\u001b[0m\u001b[0mself\u001b[0m\u001b[0;34m.\u001b[0m\u001b[0m_get_label_or_level_values\u001b[0m\u001b[0;34m(\u001b[0m\u001b[0mx\u001b[0m\u001b[0;34m,\u001b[0m \u001b[0maxis\u001b[0m\u001b[0;34m=\u001b[0m\u001b[0maxis\u001b[0m\u001b[0;34m)\u001b[0m \u001b[0;32mfor\u001b[0m \u001b[0mx\u001b[0m \u001b[0;32min\u001b[0m \u001b[0mby\u001b[0m\u001b[0;34m]\u001b[0m\u001b[0;34m\u001b[0m\u001b[0;34m\u001b[0m\u001b[0m\n\u001b[0m\u001b[1;32m   4921\u001b[0m             \u001b[0mindexer\u001b[0m \u001b[0;34m=\u001b[0m \u001b[0mlexsort_indexer\u001b[0m\u001b[0;34m(\u001b[0m\u001b[0mkeys\u001b[0m\u001b[0;34m,\u001b[0m \u001b[0morders\u001b[0m\u001b[0;34m=\u001b[0m\u001b[0mascending\u001b[0m\u001b[0;34m,\u001b[0m \u001b[0mna_position\u001b[0m\u001b[0;34m=\u001b[0m\u001b[0mna_position\u001b[0m\u001b[0;34m)\u001b[0m\u001b[0;34m\u001b[0m\u001b[0;34m\u001b[0m\u001b[0m\n\u001b[1;32m   4922\u001b[0m             \u001b[0mindexer\u001b[0m \u001b[0;34m=\u001b[0m \u001b[0mensure_platform_int\u001b[0m\u001b[0;34m(\u001b[0m\u001b[0mindexer\u001b[0m\u001b[0;34m)\u001b[0m\u001b[0;34m\u001b[0m\u001b[0;34m\u001b[0m\u001b[0m\n",
      "\u001b[0;32m/Library/Frameworks/Python.framework/Versions/3.8/lib/python3.8/site-packages/pandas/core/frame.py\u001b[0m in \u001b[0;36m<listcomp>\u001b[0;34m(.0)\u001b[0m\n\u001b[1;32m   4918\u001b[0m             \u001b[0;32mfrom\u001b[0m \u001b[0mpandas\u001b[0m\u001b[0;34m.\u001b[0m\u001b[0mcore\u001b[0m\u001b[0;34m.\u001b[0m\u001b[0msorting\u001b[0m \u001b[0;32mimport\u001b[0m \u001b[0mlexsort_indexer\u001b[0m\u001b[0;34m\u001b[0m\u001b[0;34m\u001b[0m\u001b[0m\n\u001b[1;32m   4919\u001b[0m \u001b[0;34m\u001b[0m\u001b[0m\n\u001b[0;32m-> 4920\u001b[0;31m             \u001b[0mkeys\u001b[0m \u001b[0;34m=\u001b[0m \u001b[0;34m[\u001b[0m\u001b[0mself\u001b[0m\u001b[0;34m.\u001b[0m\u001b[0m_get_label_or_level_values\u001b[0m\u001b[0;34m(\u001b[0m\u001b[0mx\u001b[0m\u001b[0;34m,\u001b[0m \u001b[0maxis\u001b[0m\u001b[0;34m=\u001b[0m\u001b[0maxis\u001b[0m\u001b[0;34m)\u001b[0m \u001b[0;32mfor\u001b[0m \u001b[0mx\u001b[0m \u001b[0;32min\u001b[0m \u001b[0mby\u001b[0m\u001b[0;34m]\u001b[0m\u001b[0;34m\u001b[0m\u001b[0;34m\u001b[0m\u001b[0m\n\u001b[0m\u001b[1;32m   4921\u001b[0m             \u001b[0mindexer\u001b[0m \u001b[0;34m=\u001b[0m \u001b[0mlexsort_indexer\u001b[0m\u001b[0;34m(\u001b[0m\u001b[0mkeys\u001b[0m\u001b[0;34m,\u001b[0m \u001b[0morders\u001b[0m\u001b[0;34m=\u001b[0m\u001b[0mascending\u001b[0m\u001b[0;34m,\u001b[0m \u001b[0mna_position\u001b[0m\u001b[0;34m=\u001b[0m\u001b[0mna_position\u001b[0m\u001b[0;34m)\u001b[0m\u001b[0;34m\u001b[0m\u001b[0;34m\u001b[0m\u001b[0m\n\u001b[1;32m   4922\u001b[0m             \u001b[0mindexer\u001b[0m \u001b[0;34m=\u001b[0m \u001b[0mensure_platform_int\u001b[0m\u001b[0;34m(\u001b[0m\u001b[0mindexer\u001b[0m\u001b[0;34m)\u001b[0m\u001b[0;34m\u001b[0m\u001b[0;34m\u001b[0m\u001b[0m\n",
      "\u001b[0;32m/Library/Frameworks/Python.framework/Versions/3.8/lib/python3.8/site-packages/pandas/core/generic.py\u001b[0m in \u001b[0;36m_get_label_or_level_values\u001b[0;34m(self, key, axis)\u001b[0m\n\u001b[1;32m   1690\u001b[0m             \u001b[0mvalues\u001b[0m \u001b[0;34m=\u001b[0m \u001b[0mself\u001b[0m\u001b[0;34m.\u001b[0m\u001b[0maxes\u001b[0m\u001b[0;34m[\u001b[0m\u001b[0maxis\u001b[0m\u001b[0;34m]\u001b[0m\u001b[0;34m.\u001b[0m\u001b[0mget_level_values\u001b[0m\u001b[0;34m(\u001b[0m\u001b[0mkey\u001b[0m\u001b[0;34m)\u001b[0m\u001b[0;34m.\u001b[0m\u001b[0m_values\u001b[0m\u001b[0;34m\u001b[0m\u001b[0;34m\u001b[0m\u001b[0m\n\u001b[1;32m   1691\u001b[0m         \u001b[0;32melse\u001b[0m\u001b[0;34m:\u001b[0m\u001b[0;34m\u001b[0m\u001b[0;34m\u001b[0m\u001b[0m\n\u001b[0;32m-> 1692\u001b[0;31m             \u001b[0;32mraise\u001b[0m \u001b[0mKeyError\u001b[0m\u001b[0;34m(\u001b[0m\u001b[0mkey\u001b[0m\u001b[0;34m)\u001b[0m\u001b[0;34m\u001b[0m\u001b[0;34m\u001b[0m\u001b[0m\n\u001b[0m\u001b[1;32m   1693\u001b[0m \u001b[0;34m\u001b[0m\u001b[0m\n\u001b[1;32m   1694\u001b[0m         \u001b[0;31m# Check for duplicates\u001b[0m\u001b[0;34m\u001b[0m\u001b[0;34m\u001b[0m\u001b[0;34m\u001b[0m\u001b[0m\n",
      "\u001b[0;31mKeyError\u001b[0m: 'S'"
     ]
    }
   ],
   "source": [
    "bq.stats.freq('titanic','Survived', order_by_freq=True)"
   ]
  },
  {
   "cell_type": "code",
   "execution_count": null,
   "metadata": {},
   "outputs": [],
   "source": []
  },
  {
   "cell_type": "markdown",
   "metadata": {},
   "source": [
    "## Plot.cum_freq"
   ]
  },
  {
   "cell_type": "code",
   "execution_count": 361,
   "metadata": {},
   "outputs": [
    {
     "data": {
      "text/markdown": [
       "```sql \n",
       " SELECT Survived,\n",
       "        COUNT(Survived) AS qtd_survived\n",
       "   FROM ironhack_database.titanic\n",
       "  GROUP BY Survived\n",
       "```"
      ],
      "text/plain": [
       "<IPython.core.display.Markdown object>"
      ]
     },
     "metadata": {},
     "output_type": "display_data"
    },
    {
     "name": "stderr",
     "output_type": "stream",
     "text": [
      "INFO:bq:Processing  0 MB, which costs US$ 0.00\n"
     ]
    },
    {
     "name": "stdout",
     "output_type": "stream",
     "text": [
      "['qtd_survived']\n"
     ]
    },
    {
     "data": {
      "text/html": [
       "<div>\n",
       "<style scoped>\n",
       "    .dataframe tbody tr th:only-of-type {\n",
       "        vertical-align: middle;\n",
       "    }\n",
       "\n",
       "    .dataframe tbody tr th {\n",
       "        vertical-align: top;\n",
       "    }\n",
       "\n",
       "    .dataframe thead th {\n",
       "        text-align: right;\n",
       "    }\n",
       "</style>\n",
       "<table border=\"1\" class=\"dataframe\">\n",
       "  <thead>\n",
       "    <tr style=\"text-align: right;\">\n",
       "      <th></th>\n",
       "      <th>Survived</th>\n",
       "      <th>qtd_survived</th>\n",
       "    </tr>\n",
       "  </thead>\n",
       "  <tbody>\n",
       "    <tr>\n",
       "      <th>1</th>\n",
       "      <td>0</td>\n",
       "      <td>1272</td>\n",
       "    </tr>\n",
       "    <tr>\n",
       "      <th>0</th>\n",
       "      <td>1</td>\n",
       "      <td>864</td>\n",
       "    </tr>\n",
       "  </tbody>\n",
       "</table>\n",
       "</div>"
      ],
      "text/plain": [
       "   Survived  qtd_survived\n",
       "1         0          1272\n",
       "0         1           864"
      ]
     },
     "execution_count": 361,
     "metadata": {},
     "output_type": "execute_result"
    }
   ],
   "source": [
    "bq.plot.cum_freq('titanic','Survived', order_by_freq=False, )"
   ]
  },
  {
   "cell_type": "code",
   "execution_count": 362,
   "metadata": {},
   "outputs": [],
   "source": [
    "df = Out[361]"
   ]
  },
  {
   "cell_type": "code",
   "execution_count": 363,
   "metadata": {},
   "outputs": [
    {
     "data": {
      "text/html": [
       "<div>\n",
       "<style scoped>\n",
       "    .dataframe tbody tr th:only-of-type {\n",
       "        vertical-align: middle;\n",
       "    }\n",
       "\n",
       "    .dataframe tbody tr th {\n",
       "        vertical-align: top;\n",
       "    }\n",
       "\n",
       "    .dataframe thead th {\n",
       "        text-align: right;\n",
       "    }\n",
       "</style>\n",
       "<table border=\"1\" class=\"dataframe\">\n",
       "  <thead>\n",
       "    <tr style=\"text-align: right;\">\n",
       "      <th></th>\n",
       "      <th>Survived</th>\n",
       "      <th>qtd_survived</th>\n",
       "    </tr>\n",
       "  </thead>\n",
       "  <tbody>\n",
       "    <tr>\n",
       "      <th>0</th>\n",
       "      <td>1</td>\n",
       "      <td>864</td>\n",
       "    </tr>\n",
       "    <tr>\n",
       "      <th>1</th>\n",
       "      <td>0</td>\n",
       "      <td>1272</td>\n",
       "    </tr>\n",
       "  </tbody>\n",
       "</table>\n",
       "</div>"
      ],
      "text/plain": [
       "   Survived  qtd_survived\n",
       "0         1           864\n",
       "1         0          1272"
      ]
     },
     "execution_count": 363,
     "metadata": {},
     "output_type": "execute_result"
    }
   ],
   "source": [
    "df.sort_values(by='qtd_survived')"
   ]
  },
  {
   "cell_type": "code",
   "execution_count": 364,
   "metadata": {},
   "outputs": [
    {
     "data": {
      "text/html": [
       "<div>\n",
       "<style scoped>\n",
       "    .dataframe tbody tr th:only-of-type {\n",
       "        vertical-align: middle;\n",
       "    }\n",
       "\n",
       "    .dataframe tbody tr th {\n",
       "        vertical-align: top;\n",
       "    }\n",
       "\n",
       "    .dataframe thead th {\n",
       "        text-align: right;\n",
       "    }\n",
       "</style>\n",
       "<table border=\"1\" class=\"dataframe\">\n",
       "  <thead>\n",
       "    <tr style=\"text-align: right;\">\n",
       "      <th></th>\n",
       "      <th>0</th>\n",
       "    </tr>\n",
       "  </thead>\n",
       "  <tbody>\n",
       "    <tr>\n",
       "      <th>0</th>\n",
       "      <td>0</td>\n",
       "    </tr>\n",
       "    <tr>\n",
       "      <th>1</th>\n",
       "      <td>864</td>\n",
       "    </tr>\n",
       "    <tr>\n",
       "      <th>2</th>\n",
       "      <td>1272</td>\n",
       "    </tr>\n",
       "  </tbody>\n",
       "</table>\n",
       "</div>"
      ],
      "text/plain": [
       "      0\n",
       "0     0\n",
       "1   864\n",
       "2  1272"
      ]
     },
     "execution_count": 364,
     "metadata": {},
     "output_type": "execute_result"
    }
   ],
   "source": [
    "pd.concat([pd.DataFrame([0]), df.sort_values(by='qtd_survived')['qtd_survived']]).reset_index(drop=True)"
   ]
  },
  {
   "cell_type": "code",
   "execution_count": 365,
   "metadata": {},
   "outputs": [
    {
     "data": {
      "text/plain": [
       "[<matplotlib.lines.Line2D at 0x126bddeb0>]"
      ]
     },
     "execution_count": 365,
     "metadata": {},
     "output_type": "execute_result"
    },
    {
     "data": {
      "image/png": "[encoded data removed]",
      "text/plain": [
       "<Figure size 432x288 with 1 Axes>"
      ]
     },
     "metadata": {
      "needs_background": "light"
     },
     "output_type": "display_data"
    }
   ],
   "source": [
    "sns.barplot(x=[0,1], y=df.sort_values(by='qtd_survived')['qtd_survived'])\n",
    "plt.plot([0,1], df.sort_values(by='qtd_survived')['qtd_survived'], '-s')"
   ]
  },
  {
   "cell_type": "code",
   "execution_count": 349,
   "metadata": {},
   "outputs": [
    {
     "data": {
      "text/plain": [
       "[<matplotlib.lines.Line2D at 0x1269692b0>]"
      ]
     },
     "execution_count": 349,
     "metadata": {},
     "output_type": "execute_result"
    },
    {
     "data": {
      "image/png": "[encoded data removed]",
      "text/plain": [
       "<Figure size 432x288 with 1 Axes>"
      ]
     },
     "metadata": {
      "needs_background": "light"
     },
     "output_type": "display_data"
    }
   ],
   "source": [
    "\n",
    "plt.plot([0,1,2,3],[3,5,7,8], '--')"
   ]
  },
  {
   "cell_type": "code",
   "execution_count": null,
   "metadata": {},
   "outputs": [],
   "source": []
  },
  {
   "cell_type": "code",
   "execution_count": null,
   "metadata": {},
   "outputs": [],
   "source": []
  },
  {
   "cell_type": "markdown",
   "metadata": {},
   "source": [
    "# Stats.freq"
   ]
  },
  {
   "cell_type": "code",
   "execution_count": 307,
   "metadata": {},
   "outputs": [
    {
     "data": {
      "text/markdown": [
       "```sql \n",
       " SELECT Survived,\n",
       "        COUNT(Survived) AS qtd_survived\n",
       "   FROM ironhack_database.titanic\n",
       "  GROUP BY Survived\n",
       "```"
      ],
      "text/plain": [
       "<IPython.core.display.Markdown object>"
      ]
     },
     "metadata": {},
     "output_type": "display_data"
    },
    {
     "name": "stderr",
     "output_type": "stream",
     "text": [
      "INFO:bq:Processing  0 MB, which costs US$ 0.00\n"
     ]
    },
    {
     "name": "stdout",
     "output_type": "stream",
     "text": [
      "['qtd_survived']\n"
     ]
    },
    {
     "data": {
      "text/html": [
       "<style  type=\"text/css\" >\n",
       "    #T_2736e29a_624f_11ea_9545_88e9fe65c4d8row0_col1 {\n",
       "            background-color:  #008000;\n",
       "            color:  #f1f1f1;\n",
       "        }    #T_2736e29a_624f_11ea_9545_88e9fe65c4d8row1_col1 {\n",
       "            background-color:  #e5ffe5;\n",
       "            color:  #000000;\n",
       "        }</style><table id=\"T_2736e29a_624f_11ea_9545_88e9fe65c4d8\" ><caption>Frequency table for titanic<br>Grouped by Survived</caption><thead>    <tr>        <th class=\"blank level0\" ></th>        <th class=\"col_heading level0 col0\" >Survived</th>        <th class=\"col_heading level0 col1\" >qtd_survived</th>    </tr></thead><tbody>\n",
       "                <tr>\n",
       "                        <th id=\"T_2736e29a_624f_11ea_9545_88e9fe65c4d8level0_row0\" class=\"row_heading level0 row0\" >1</th>\n",
       "                        <td id=\"T_2736e29a_624f_11ea_9545_88e9fe65c4d8row0_col0\" class=\"data row0 col0\" >0</td>\n",
       "                        <td id=\"T_2736e29a_624f_11ea_9545_88e9fe65c4d8row0_col1\" class=\"data row0 col1\" >1272</td>\n",
       "            </tr>\n",
       "            <tr>\n",
       "                        <th id=\"T_2736e29a_624f_11ea_9545_88e9fe65c4d8level0_row1\" class=\"row_heading level0 row1\" >0</th>\n",
       "                        <td id=\"T_2736e29a_624f_11ea_9545_88e9fe65c4d8row1_col0\" class=\"data row1 col0\" >1</td>\n",
       "                        <td id=\"T_2736e29a_624f_11ea_9545_88e9fe65c4d8row1_col1\" class=\"data row1 col1\" >864</td>\n",
       "            </tr>\n",
       "    </tbody></table>"
      ],
      "text/plain": [
       "<pandas.io.formats.style.Styler at 0x125d62040>"
      ]
     },
     "execution_count": 307,
     "metadata": {},
     "output_type": "execute_result"
    }
   ],
   "source": [
    "bq.stats.freq('titanic', 'Survived', )"
   ]
  },
  {
   "cell_type": "code",
   "execution_count": 308,
   "metadata": {
    "scrolled": true
   },
   "outputs": [
    {
     "data": {
      "text/markdown": [
       "```sql \n",
       " SELECT Survived,\n",
       "        COUNT(Survived) AS qtd_survived\n",
       "   FROM ironhack_database.titanic\n",
       "  GROUP BY Survived\n",
       "```"
      ],
      "text/plain": [
       "<IPython.core.display.Markdown object>"
      ]
     },
     "metadata": {},
     "output_type": "display_data"
    },
    {
     "name": "stderr",
     "output_type": "stream",
     "text": [
      "INFO:bq:Processing  0 MB, which costs US$ 0.00\n"
     ]
    },
    {
     "name": "stdout",
     "output_type": "stream",
     "text": [
      "['qtd_survived']\n"
     ]
    },
    {
     "data": {
      "text/html": [
       "<style  type=\"text/css\" >\n",
       "    #T_28d22dda_624f_11ea_9545_88e9fe65c4d8row0_col1 {\n",
       "            background-color:  #008000;\n",
       "            color:  #f1f1f1;\n",
       "        }    #T_28d22dda_624f_11ea_9545_88e9fe65c4d8row1_col1 {\n",
       "            background-color:  #e5ffe5;\n",
       "            color:  #000000;\n",
       "        }</style><table id=\"T_28d22dda_624f_11ea_9545_88e9fe65c4d8\" ><caption>Frequency table for titanic<br>Grouped by Survived</caption><thead>    <tr>        <th class=\"blank level0\" ></th>        <th class=\"col_heading level0 col0\" >Survived</th>        <th class=\"col_heading level0 col1\" >qtd_survived</th>    </tr></thead><tbody>\n",
       "                <tr>\n",
       "                        <th id=\"T_28d22dda_624f_11ea_9545_88e9fe65c4d8level0_row0\" class=\"row_heading level0 row0\" >1</th>\n",
       "                        <td id=\"T_28d22dda_624f_11ea_9545_88e9fe65c4d8row0_col0\" class=\"data row0 col0\" >0</td>\n",
       "                        <td id=\"T_28d22dda_624f_11ea_9545_88e9fe65c4d8row0_col1\" class=\"data row0 col1\" >1272</td>\n",
       "            </tr>\n",
       "            <tr>\n",
       "                        <th id=\"T_28d22dda_624f_11ea_9545_88e9fe65c4d8level0_row1\" class=\"row_heading level0 row1\" >0</th>\n",
       "                        <td id=\"T_28d22dda_624f_11ea_9545_88e9fe65c4d8row1_col0\" class=\"data row1 col0\" >1</td>\n",
       "                        <td id=\"T_28d22dda_624f_11ea_9545_88e9fe65c4d8row1_col1\" class=\"data row1 col1\" >864</td>\n",
       "            </tr>\n",
       "    </tbody></table>"
      ],
      "text/plain": [
       "<pandas.io.formats.style.Styler at 0x1253d7490>"
      ]
     },
     "execution_count": 308,
     "metadata": {},
     "output_type": "execute_result"
    }
   ],
   "source": [
    "bq.stats.freq('titanic', ['Survived'])"
   ]
  },
  {
   "cell_type": "code",
   "execution_count": 309,
   "metadata": {},
   "outputs": [
    {
     "data": {
      "text/markdown": [
       "```sql \n",
       " SELECT Survived, \n",
       "\t\tPclass,\n",
       "        COUNT(Survived) AS qtd_survived,\n",
       "\t\tCOUNT(Pclass) AS qtd_pclass\n",
       "   FROM ironhack_database.titanic\n",
       "  GROUP BY Survived, \n",
       "\t\tPclass\n",
       "```"
      ],
      "text/plain": [
       "<IPython.core.display.Markdown object>"
      ]
     },
     "metadata": {},
     "output_type": "display_data"
    },
    {
     "name": "stderr",
     "output_type": "stream",
     "text": [
      "INFO:bq:Processing  0 MB, which costs US$ 0.00\n"
     ]
    },
    {
     "name": "stdout",
     "output_type": "stream",
     "text": [
      "['qtd_survived', 'qtd_pclass']\n"
     ]
    },
    {
     "data": {
      "text/html": [
       "<style  type=\"text/css\" >\n",
       "    #T_2a7c8824_624f_11ea_9545_88e9fe65c4d8row0_col2 {\n",
       "            background-color:  #e5ffe5;\n",
       "            color:  #000000;\n",
       "        }    #T_2a7c8824_624f_11ea_9545_88e9fe65c4d8row0_col3 {\n",
       "            background-color:  #e5ffe5;\n",
       "            color:  #000000;\n",
       "        }    #T_2a7c8824_624f_11ea_9545_88e9fe65c4d8row1_col2 {\n",
       "            background-color:  #c9efc9;\n",
       "            color:  #000000;\n",
       "        }    #T_2a7c8824_624f_11ea_9545_88e9fe65c4d8row1_col3 {\n",
       "            background-color:  #c9efc9;\n",
       "            color:  #000000;\n",
       "        }    #T_2a7c8824_624f_11ea_9545_88e9fe65c4d8row2_col2 {\n",
       "            background-color:  #008000;\n",
       "            color:  #f1f1f1;\n",
       "        }    #T_2a7c8824_624f_11ea_9545_88e9fe65c4d8row2_col3 {\n",
       "            background-color:  #008000;\n",
       "            color:  #f1f1f1;\n",
       "        }    #T_2a7c8824_624f_11ea_9545_88e9fe65c4d8row3_col2 {\n",
       "            background-color:  #a7dda7;\n",
       "            color:  #000000;\n",
       "        }    #T_2a7c8824_624f_11ea_9545_88e9fe65c4d8row3_col3 {\n",
       "            background-color:  #a7dda7;\n",
       "            color:  #000000;\n",
       "        }    #T_2a7c8824_624f_11ea_9545_88e9fe65c4d8row4_col2 {\n",
       "            background-color:  #d1f4d1;\n",
       "            color:  #000000;\n",
       "        }    #T_2a7c8824_624f_11ea_9545_88e9fe65c4d8row4_col3 {\n",
       "            background-color:  #d1f4d1;\n",
       "            color:  #000000;\n",
       "        }    #T_2a7c8824_624f_11ea_9545_88e9fe65c4d8row5_col2 {\n",
       "            background-color:  #cef2ce;\n",
       "            color:  #000000;\n",
       "        }    #T_2a7c8824_624f_11ea_9545_88e9fe65c4d8row5_col3 {\n",
       "            background-color:  #cef2ce;\n",
       "            color:  #000000;\n",
       "        }</style><table id=\"T_2a7c8824_624f_11ea_9545_88e9fe65c4d8\" ><caption>Frequency table for titanic<br>Grouped by Survived and Pclass</caption><thead>    <tr>        <th class=\"blank level0\" ></th>        <th class=\"col_heading level0 col0\" >Survived</th>        <th class=\"col_heading level0 col1\" >Pclass</th>        <th class=\"col_heading level0 col2\" >qtd_survived</th>        <th class=\"col_heading level0 col3\" >qtd_pclass</th>    </tr></thead><tbody>\n",
       "                <tr>\n",
       "                        <th id=\"T_2a7c8824_624f_11ea_9545_88e9fe65c4d8level0_row0\" class=\"row_heading level0 row0\" >3</th>\n",
       "                        <td id=\"T_2a7c8824_624f_11ea_9545_88e9fe65c4d8row0_col0\" class=\"data row0 col0\" >0</td>\n",
       "                        <td id=\"T_2a7c8824_624f_11ea_9545_88e9fe65c4d8row0_col1\" class=\"data row0 col1\" >1</td>\n",
       "                        <td id=\"T_2a7c8824_624f_11ea_9545_88e9fe65c4d8row0_col2\" class=\"data row0 col2\" >192</td>\n",
       "                        <td id=\"T_2a7c8824_624f_11ea_9545_88e9fe65c4d8row0_col3\" class=\"data row0 col3\" >192</td>\n",
       "            </tr>\n",
       "            <tr>\n",
       "                        <th id=\"T_2a7c8824_624f_11ea_9545_88e9fe65c4d8level0_row1\" class=\"row_heading level0 row1\" >5</th>\n",
       "                        <td id=\"T_2a7c8824_624f_11ea_9545_88e9fe65c4d8row1_col0\" class=\"data row1 col0\" >0</td>\n",
       "                        <td id=\"T_2a7c8824_624f_11ea_9545_88e9fe65c4d8row1_col1\" class=\"data row1 col1\" >2</td>\n",
       "                        <td id=\"T_2a7c8824_624f_11ea_9545_88e9fe65c4d8row1_col2\" class=\"data row1 col2\" >270</td>\n",
       "                        <td id=\"T_2a7c8824_624f_11ea_9545_88e9fe65c4d8row1_col3\" class=\"data row1 col3\" >270</td>\n",
       "            </tr>\n",
       "            <tr>\n",
       "                        <th id=\"T_2a7c8824_624f_11ea_9545_88e9fe65c4d8level0_row2\" class=\"row_heading level0 row2\" >1</th>\n",
       "                        <td id=\"T_2a7c8824_624f_11ea_9545_88e9fe65c4d8row2_col0\" class=\"data row2 col0\" >0</td>\n",
       "                        <td id=\"T_2a7c8824_624f_11ea_9545_88e9fe65c4d8row2_col1\" class=\"data row2 col1\" >3</td>\n",
       "                        <td id=\"T_2a7c8824_624f_11ea_9545_88e9fe65c4d8row2_col2\" class=\"data row2 col2\" >810</td>\n",
       "                        <td id=\"T_2a7c8824_624f_11ea_9545_88e9fe65c4d8row2_col3\" class=\"data row2 col3\" >810</td>\n",
       "            </tr>\n",
       "            <tr>\n",
       "                        <th id=\"T_2a7c8824_624f_11ea_9545_88e9fe65c4d8level0_row3\" class=\"row_heading level0 row3\" >4</th>\n",
       "                        <td id=\"T_2a7c8824_624f_11ea_9545_88e9fe65c4d8row3_col0\" class=\"data row3 col0\" >1</td>\n",
       "                        <td id=\"T_2a7c8824_624f_11ea_9545_88e9fe65c4d8row3_col1\" class=\"data row3 col1\" >1</td>\n",
       "                        <td id=\"T_2a7c8824_624f_11ea_9545_88e9fe65c4d8row3_col2\" class=\"data row3 col2\" >360</td>\n",
       "                        <td id=\"T_2a7c8824_624f_11ea_9545_88e9fe65c4d8row3_col3\" class=\"data row3 col3\" >360</td>\n",
       "            </tr>\n",
       "            <tr>\n",
       "                        <th id=\"T_2a7c8824_624f_11ea_9545_88e9fe65c4d8level0_row4\" class=\"row_heading level0 row4\" >0</th>\n",
       "                        <td id=\"T_2a7c8824_624f_11ea_9545_88e9fe65c4d8row4_col0\" class=\"data row4 col0\" >1</td>\n",
       "                        <td id=\"T_2a7c8824_624f_11ea_9545_88e9fe65c4d8row4_col1\" class=\"data row4 col1\" >2</td>\n",
       "                        <td id=\"T_2a7c8824_624f_11ea_9545_88e9fe65c4d8row4_col2\" class=\"data row4 col2\" >249</td>\n",
       "                        <td id=\"T_2a7c8824_624f_11ea_9545_88e9fe65c4d8row4_col3\" class=\"data row4 col3\" >249</td>\n",
       "            </tr>\n",
       "            <tr>\n",
       "                        <th id=\"T_2a7c8824_624f_11ea_9545_88e9fe65c4d8level0_row5\" class=\"row_heading level0 row5\" >2</th>\n",
       "                        <td id=\"T_2a7c8824_624f_11ea_9545_88e9fe65c4d8row5_col0\" class=\"data row5 col0\" >1</td>\n",
       "                        <td id=\"T_2a7c8824_624f_11ea_9545_88e9fe65c4d8row5_col1\" class=\"data row5 col1\" >3</td>\n",
       "                        <td id=\"T_2a7c8824_624f_11ea_9545_88e9fe65c4d8row5_col2\" class=\"data row5 col2\" >255</td>\n",
       "                        <td id=\"T_2a7c8824_624f_11ea_9545_88e9fe65c4d8row5_col3\" class=\"data row5 col3\" >255</td>\n",
       "            </tr>\n",
       "    </tbody></table>"
      ],
      "text/plain": [
       "<pandas.io.formats.style.Styler at 0x125d62a90>"
      ]
     },
     "execution_count": 309,
     "metadata": {},
     "output_type": "execute_result"
    }
   ],
   "source": [
    "bq.stats.freq('titanic', ['Survived', 'Pclass'])"
   ]
  },
  {
   "cell_type": "code",
   "execution_count": 310,
   "metadata": {},
   "outputs": [
    {
     "data": {
      "text/plain": [
       "<google.cloud.bigquery.job.QueryJob at 0x125d565e0>"
      ]
     },
     "execution_count": 310,
     "metadata": {},
     "output_type": "execute_result"
    }
   ],
   "source": [
    "client.query('SELECT * FROM ironhack_database.titanic')"
   ]
  },
  {
   "cell_type": "code",
   "execution_count": null,
   "metadata": {},
   "outputs": [],
   "source": []
  },
  {
   "cell_type": "markdown",
   "metadata": {},
   "source": [
    "# Listing tables of dataset"
   ]
  },
  {
   "cell_type": "code",
   "execution_count": 9,
   "metadata": {},
   "outputs": [
    {
     "data": {
      "text/html": [
       "<div>\n",
       "<style scoped>\n",
       "    .dataframe tbody tr th:only-of-type {\n",
       "        vertical-align: middle;\n",
       "    }\n",
       "\n",
       "    .dataframe tbody tr th {\n",
       "        vertical-align: top;\n",
       "    }\n",
       "\n",
       "    .dataframe thead th {\n",
       "        text-align: right;\n",
       "    }\n",
       "</style>\n",
       "<table border=\"1\" class=\"dataframe\">\n",
       "  <thead>\n",
       "    <tr style=\"text-align: right;\">\n",
       "      <th></th>\n",
       "      <th>table_name</th>\n",
       "    </tr>\n",
       "  </thead>\n",
       "  <tbody>\n",
       "    <tr>\n",
       "      <th>0</th>\n",
       "      <td>titanic</td>\n",
       "    </tr>\n",
       "    <tr>\n",
       "      <th>1</th>\n",
       "      <td>titanic_v2</td>\n",
       "    </tr>\n",
       "  </tbody>\n",
       "</table>\n",
       "</div>"
      ],
      "text/plain": [
       "   table_name\n",
       "0     titanic\n",
       "1  titanic_v2"
      ]
     },
     "execution_count": 9,
     "metadata": {},
     "output_type": "execute_result"
    }
   ],
   "source": [
    "client.tables()"
   ]
  },
  {
   "cell_type": "code",
   "execution_count": 10,
   "metadata": {},
   "outputs": [
    {
     "data": {
      "text/html": [
       "<div>\n",
       "<style scoped>\n",
       "    .dataframe tbody tr th:only-of-type {\n",
       "        vertical-align: middle;\n",
       "    }\n",
       "\n",
       "    .dataframe tbody tr th {\n",
       "        vertical-align: top;\n",
       "    }\n",
       "\n",
       "    .dataframe thead th {\n",
       "        text-align: right;\n",
       "    }\n",
       "</style>\n",
       "<table border=\"1\" class=\"dataframe\">\n",
       "  <thead>\n",
       "    <tr style=\"text-align: right;\">\n",
       "      <th></th>\n",
       "      <th>table_name</th>\n",
       "    </tr>\n",
       "  </thead>\n",
       "  <tbody>\n",
       "    <tr>\n",
       "      <th>0</th>\n",
       "      <td>titanic</td>\n",
       "    </tr>\n",
       "    <tr>\n",
       "      <th>1</th>\n",
       "      <td>titanic_v2</td>\n",
       "    </tr>\n",
       "  </tbody>\n",
       "</table>\n",
       "</div>"
      ],
      "text/plain": [
       "   table_name\n",
       "0     titanic\n",
       "1  titanic_v2"
      ]
     },
     "execution_count": 10,
     "metadata": {},
     "output_type": "execute_result"
    }
   ],
   "source": [
    "client.tables(pattern='.*c')"
   ]
  },
  {
   "cell_type": "markdown",
   "metadata": {},
   "source": [
    "# Estimating costs of queries"
   ]
  },
  {
   "cell_type": "code",
   "execution_count": 11,
   "metadata": {},
   "outputs": [
    {
     "name": "stderr",
     "output_type": "stream",
     "text": [
      "INFO:bq:Processing  0 MB, which costs US$ 0.00\n"
     ]
    },
    {
     "data": {
      "text/plain": [
       "3.1828880310058593e-06"
      ]
     },
     "execution_count": 11,
     "metadata": {},
     "output_type": "execute_result"
    }
   ],
   "source": [
    "sql = '''SELECT * FROM ironhack_database.titanic'''\n",
    "client.cost(sql)"
   ]
  },
  {
   "cell_type": "markdown",
   "metadata": {},
   "source": [
    "> If you forget the `ironhack_database` dataset name, it tries to figure it out for you and retry."
   ]
  },
  {
   "cell_type": "code",
   "execution_count": 12,
   "metadata": {},
   "outputs": [
    {
     "name": "stderr",
     "output_type": "stream",
     "text": [
      "WARNING:bq:POST https://bigquery.googleapis.com/bigquery/v2/projects/ironhack-267217/jobs: Table name \"titanic\" missing dataset while no default dataset is set in the request.\n",
      "\n",
      "(job ID: 1224126a-8299-4fb8-b09c-92420ea2e2df)\n",
      "\n",
      "-----Query Job SQL Follows-----\n",
      "\n",
      "    |    .    |    .    |\n",
      "   1:SELECT * FROM titanic\n",
      "    |    .    |    .    |\n",
      "WARNING:bq:Trying to correct the mistake.\n",
      "INFO:bq:Running the following query:\n",
      "INFO:bq:SELECT * FROM ironhack_database.titanic\n",
      "INFO:bq:Processing  0 MB, which costs US$ 0.00\n"
     ]
    },
    {
     "data": {
      "text/plain": [
       "3.1828880310058593e-06"
      ]
     },
     "execution_count": 12,
     "metadata": {},
     "output_type": "execute_result"
    }
   ],
   "source": [
    "sql = 'SELECT * FROM titanic'\n",
    "client.cost(sql)"
   ]
  },
  {
   "cell_type": "markdown",
   "metadata": {},
   "source": [
    "# Upload table to BigQuery"
   ]
  },
  {
   "cell_type": "code",
   "execution_count": 13,
   "metadata": {},
   "outputs": [],
   "source": [
    "import pandas as pd\n",
    "titanic = pd.read_csv('../../ironhack-analytics/pca/titanic_processed.csv')"
   ]
  },
  {
   "cell_type": "code",
   "execution_count": 14,
   "metadata": {},
   "outputs": [
    {
     "data": {
      "text/html": [
       "<div>\n",
       "<style scoped>\n",
       "    .dataframe tbody tr th:only-of-type {\n",
       "        vertical-align: middle;\n",
       "    }\n",
       "\n",
       "    .dataframe tbody tr th {\n",
       "        vertical-align: top;\n",
       "    }\n",
       "\n",
       "    .dataframe thead th {\n",
       "        text-align: right;\n",
       "    }\n",
       "</style>\n",
       "<table border=\"1\" class=\"dataframe\">\n",
       "  <thead>\n",
       "    <tr style=\"text-align: right;\">\n",
       "      <th></th>\n",
       "      <th>Survived</th>\n",
       "      <th>Pclass</th>\n",
       "      <th>Sex</th>\n",
       "      <th>Age</th>\n",
       "      <th>SibSp</th>\n",
       "      <th>Parch</th>\n",
       "      <th>Fare</th>\n",
       "      <th>Embarked_C</th>\n",
       "      <th>Embarked_Q</th>\n",
       "      <th>Embarked_S</th>\n",
       "    </tr>\n",
       "  </thead>\n",
       "  <tbody>\n",
       "    <tr>\n",
       "      <th>0</th>\n",
       "      <td>1</td>\n",
       "      <td>3</td>\n",
       "      <td>0</td>\n",
       "      <td>38.0</td>\n",
       "      <td>1</td>\n",
       "      <td>5</td>\n",
       "      <td>31.3875</td>\n",
       "      <td>0</td>\n",
       "      <td>0</td>\n",
       "      <td>1</td>\n",
       "    </tr>\n",
       "    <tr>\n",
       "      <th>1</th>\n",
       "      <td>0</td>\n",
       "      <td>1</td>\n",
       "      <td>1</td>\n",
       "      <td>40.0</td>\n",
       "      <td>0</td>\n",
       "      <td>0</td>\n",
       "      <td>27.7208</td>\n",
       "      <td>1</td>\n",
       "      <td>0</td>\n",
       "      <td>0</td>\n",
       "    </tr>\n",
       "    <tr>\n",
       "      <th>2</th>\n",
       "      <td>0</td>\n",
       "      <td>3</td>\n",
       "      <td>1</td>\n",
       "      <td>26.0</td>\n",
       "      <td>0</td>\n",
       "      <td>0</td>\n",
       "      <td>7.8875</td>\n",
       "      <td>0</td>\n",
       "      <td>0</td>\n",
       "      <td>1</td>\n",
       "    </tr>\n",
       "    <tr>\n",
       "      <th>3</th>\n",
       "      <td>1</td>\n",
       "      <td>1</td>\n",
       "      <td>0</td>\n",
       "      <td>30.0</td>\n",
       "      <td>0</td>\n",
       "      <td>0</td>\n",
       "      <td>106.4250</td>\n",
       "      <td>1</td>\n",
       "      <td>0</td>\n",
       "      <td>0</td>\n",
       "    </tr>\n",
       "    <tr>\n",
       "      <th>4</th>\n",
       "      <td>0</td>\n",
       "      <td>2</td>\n",
       "      <td>1</td>\n",
       "      <td>16.0</td>\n",
       "      <td>0</td>\n",
       "      <td>0</td>\n",
       "      <td>10.5000</td>\n",
       "      <td>0</td>\n",
       "      <td>0</td>\n",
       "      <td>1</td>\n",
       "    </tr>\n",
       "  </tbody>\n",
       "</table>\n",
       "</div>"
      ],
      "text/plain": [
       "   Survived  Pclass  Sex   Age  SibSp  Parch      Fare  Embarked_C  \\\n",
       "0         1       3    0  38.0      1      5   31.3875           0   \n",
       "1         0       1    1  40.0      0      0   27.7208           1   \n",
       "2         0       3    1  26.0      0      0    7.8875           0   \n",
       "3         1       1    0  30.0      0      0  106.4250           1   \n",
       "4         0       2    1  16.0      0      0   10.5000           0   \n",
       "\n",
       "   Embarked_Q  Embarked_S  \n",
       "0           0           1  \n",
       "1           0           0  \n",
       "2           0           1  \n",
       "3           0           0  \n",
       "4           0           1  "
      ]
     },
     "execution_count": 14,
     "metadata": {},
     "output_type": "execute_result"
    }
   ],
   "source": [
    "titanic.head()"
   ]
  },
  {
   "cell_type": "code",
   "execution_count": 15,
   "metadata": {},
   "outputs": [
    {
     "name": "stderr",
     "output_type": "stream",
     "text": [
      "WARNING:bq:table_id must be a fully-qualified ID in standard SQL format, e.g., \"project.dataset.table_id\", got titanic_v2\n",
      "WARNING:bq:Infering the dataset and repeating the action.\n",
      "INFO:bq:titanic_v2 uploaded.\n"
     ]
    }
   ],
   "source": [
    "client.upload(titanic, f'titanic_v2');"
   ]
  },
  {
   "cell_type": "markdown",
   "metadata": {},
   "source": [
    "# Download "
   ]
  },
  {
   "cell_type": "code",
   "execution_count": 16,
   "metadata": {},
   "outputs": [
    {
     "data": {
      "text/html": [
       "<div>\n",
       "<style scoped>\n",
       "    .dataframe tbody tr th:only-of-type {\n",
       "        vertical-align: middle;\n",
       "    }\n",
       "\n",
       "    .dataframe tbody tr th {\n",
       "        vertical-align: top;\n",
       "    }\n",
       "\n",
       "    .dataframe thead th {\n",
       "        text-align: right;\n",
       "    }\n",
       "</style>\n",
       "<table border=\"1\" class=\"dataframe\">\n",
       "  <thead>\n",
       "    <tr style=\"text-align: right;\">\n",
       "      <th></th>\n",
       "      <th>Survived</th>\n",
       "      <th>Pclass</th>\n",
       "      <th>Sex</th>\n",
       "      <th>Age</th>\n",
       "      <th>SibSp</th>\n",
       "      <th>Parch</th>\n",
       "      <th>Fare</th>\n",
       "      <th>Embarked_C</th>\n",
       "      <th>Embarked_Q</th>\n",
       "      <th>Embarked_S</th>\n",
       "    </tr>\n",
       "  </thead>\n",
       "  <tbody>\n",
       "    <tr>\n",
       "      <th>0</th>\n",
       "      <td>1</td>\n",
       "      <td>2</td>\n",
       "      <td>1</td>\n",
       "      <td>2.00</td>\n",
       "      <td>1</td>\n",
       "      <td>1</td>\n",
       "      <td>26.0000</td>\n",
       "      <td>0</td>\n",
       "      <td>0</td>\n",
       "      <td>1</td>\n",
       "    </tr>\n",
       "    <tr>\n",
       "      <th>1</th>\n",
       "      <td>1</td>\n",
       "      <td>2</td>\n",
       "      <td>0</td>\n",
       "      <td>2.00</td>\n",
       "      <td>1</td>\n",
       "      <td>1</td>\n",
       "      <td>26.0000</td>\n",
       "      <td>0</td>\n",
       "      <td>0</td>\n",
       "      <td>1</td>\n",
       "    </tr>\n",
       "    <tr>\n",
       "      <th>2</th>\n",
       "      <td>1</td>\n",
       "      <td>2</td>\n",
       "      <td>1</td>\n",
       "      <td>2.00</td>\n",
       "      <td>1</td>\n",
       "      <td>1</td>\n",
       "      <td>26.0000</td>\n",
       "      <td>0</td>\n",
       "      <td>0</td>\n",
       "      <td>1</td>\n",
       "    </tr>\n",
       "    <tr>\n",
       "      <th>3</th>\n",
       "      <td>1</td>\n",
       "      <td>2</td>\n",
       "      <td>0</td>\n",
       "      <td>2.00</td>\n",
       "      <td>1</td>\n",
       "      <td>1</td>\n",
       "      <td>26.0000</td>\n",
       "      <td>0</td>\n",
       "      <td>0</td>\n",
       "      <td>1</td>\n",
       "    </tr>\n",
       "    <tr>\n",
       "      <th>4</th>\n",
       "      <td>1</td>\n",
       "      <td>2</td>\n",
       "      <td>1</td>\n",
       "      <td>2.00</td>\n",
       "      <td>1</td>\n",
       "      <td>1</td>\n",
       "      <td>26.0000</td>\n",
       "      <td>0</td>\n",
       "      <td>0</td>\n",
       "      <td>1</td>\n",
       "    </tr>\n",
       "    <tr>\n",
       "      <th>...</th>\n",
       "      <td>...</td>\n",
       "      <td>...</td>\n",
       "      <td>...</td>\n",
       "      <td>...</td>\n",
       "      <td>...</td>\n",
       "      <td>...</td>\n",
       "      <td>...</td>\n",
       "      <td>...</td>\n",
       "      <td>...</td>\n",
       "      <td>...</td>\n",
       "    </tr>\n",
       "    <tr>\n",
       "      <th>2131</th>\n",
       "      <td>1</td>\n",
       "      <td>2</td>\n",
       "      <td>1</td>\n",
       "      <td>0.83</td>\n",
       "      <td>1</td>\n",
       "      <td>1</td>\n",
       "      <td>18.7500</td>\n",
       "      <td>0</td>\n",
       "      <td>0</td>\n",
       "      <td>1</td>\n",
       "    </tr>\n",
       "    <tr>\n",
       "      <th>2132</th>\n",
       "      <td>1</td>\n",
       "      <td>2</td>\n",
       "      <td>1</td>\n",
       "      <td>0.83</td>\n",
       "      <td>1</td>\n",
       "      <td>1</td>\n",
       "      <td>18.7500</td>\n",
       "      <td>0</td>\n",
       "      <td>0</td>\n",
       "      <td>1</td>\n",
       "    </tr>\n",
       "    <tr>\n",
       "      <th>2133</th>\n",
       "      <td>1</td>\n",
       "      <td>3</td>\n",
       "      <td>1</td>\n",
       "      <td>0.42</td>\n",
       "      <td>0</td>\n",
       "      <td>1</td>\n",
       "      <td>8.5167</td>\n",
       "      <td>1</td>\n",
       "      <td>0</td>\n",
       "      <td>0</td>\n",
       "    </tr>\n",
       "    <tr>\n",
       "      <th>2134</th>\n",
       "      <td>1</td>\n",
       "      <td>3</td>\n",
       "      <td>1</td>\n",
       "      <td>0.42</td>\n",
       "      <td>0</td>\n",
       "      <td>1</td>\n",
       "      <td>8.5167</td>\n",
       "      <td>1</td>\n",
       "      <td>0</td>\n",
       "      <td>0</td>\n",
       "    </tr>\n",
       "    <tr>\n",
       "      <th>2135</th>\n",
       "      <td>1</td>\n",
       "      <td>3</td>\n",
       "      <td>1</td>\n",
       "      <td>0.42</td>\n",
       "      <td>0</td>\n",
       "      <td>1</td>\n",
       "      <td>8.5167</td>\n",
       "      <td>1</td>\n",
       "      <td>0</td>\n",
       "      <td>0</td>\n",
       "    </tr>\n",
       "  </tbody>\n",
       "</table>\n",
       "<p>2136 rows × 10 columns</p>\n",
       "</div>"
      ],
      "text/plain": [
       "      Survived  Pclass  Sex   Age  SibSp  Parch     Fare  Embarked_C  \\\n",
       "0            1       2    1  2.00      1      1  26.0000           0   \n",
       "1            1       2    0  2.00      1      1  26.0000           0   \n",
       "2            1       2    1  2.00      1      1  26.0000           0   \n",
       "3            1       2    0  2.00      1      1  26.0000           0   \n",
       "4            1       2    1  2.00      1      1  26.0000           0   \n",
       "...        ...     ...  ...   ...    ...    ...      ...         ...   \n",
       "2131         1       2    1  0.83      1      1  18.7500           0   \n",
       "2132         1       2    1  0.83      1      1  18.7500           0   \n",
       "2133         1       3    1  0.42      0      1   8.5167           1   \n",
       "2134         1       3    1  0.42      0      1   8.5167           1   \n",
       "2135         1       3    1  0.42      0      1   8.5167           1   \n",
       "\n",
       "      Embarked_Q  Embarked_S  \n",
       "0              0           1  \n",
       "1              0           1  \n",
       "2              0           1  \n",
       "3              0           1  \n",
       "4              0           1  \n",
       "...          ...         ...  \n",
       "2131           0           1  \n",
       "2132           0           1  \n",
       "2133           0           0  \n",
       "2134           0           0  \n",
       "2135           0           0  \n",
       "\n",
       "[2136 rows x 10 columns]"
      ]
     },
     "execution_count": 16,
     "metadata": {},
     "output_type": "execute_result"
    }
   ],
   "source": [
    "client.download('ironhack_database.titanic')"
   ]
  },
  {
   "cell_type": "markdown",
   "metadata": {},
   "source": [
    "## Download specific columns"
   ]
  },
  {
   "cell_type": "markdown",
   "metadata": {},
   "source": [
    "## Download partition"
   ]
  },
  {
   "cell_type": "markdown",
   "metadata": {},
   "source": [
    "## Download to csv"
   ]
  },
  {
   "cell_type": "markdown",
   "metadata": {},
   "source": [
    "# Query"
   ]
  },
  {
   "cell_type": "code",
   "execution_count": 17,
   "metadata": {
    "scrolled": true
   },
   "outputs": [
    {
     "name": "stderr",
     "output_type": "stream",
     "text": [
      "INFO:bq:Processing 10 MB, which costs US$ 0.00\n"
     ]
    },
    {
     "data": {
      "text/html": [
       "<div>\n",
       "<style scoped>\n",
       "    .dataframe tbody tr th:only-of-type {\n",
       "        vertical-align: middle;\n",
       "    }\n",
       "\n",
       "    .dataframe tbody tr th {\n",
       "        vertical-align: top;\n",
       "    }\n",
       "\n",
       "    .dataframe thead th {\n",
       "        text-align: right;\n",
       "    }\n",
       "</style>\n",
       "<table border=\"1\" class=\"dataframe\">\n",
       "  <thead>\n",
       "    <tr style=\"text-align: right;\">\n",
       "      <th></th>\n",
       "      <th>Age</th>\n",
       "      <th>Survived</th>\n",
       "    </tr>\n",
       "  </thead>\n",
       "  <tbody>\n",
       "    <tr>\n",
       "      <th>0</th>\n",
       "      <td>2.00</td>\n",
       "      <td>1</td>\n",
       "    </tr>\n",
       "    <tr>\n",
       "      <th>1</th>\n",
       "      <td>2.00</td>\n",
       "      <td>1</td>\n",
       "    </tr>\n",
       "    <tr>\n",
       "      <th>2</th>\n",
       "      <td>2.00</td>\n",
       "      <td>1</td>\n",
       "    </tr>\n",
       "    <tr>\n",
       "      <th>3</th>\n",
       "      <td>2.00</td>\n",
       "      <td>1</td>\n",
       "    </tr>\n",
       "    <tr>\n",
       "      <th>4</th>\n",
       "      <td>2.00</td>\n",
       "      <td>1</td>\n",
       "    </tr>\n",
       "    <tr>\n",
       "      <th>...</th>\n",
       "      <td>...</td>\n",
       "      <td>...</td>\n",
       "    </tr>\n",
       "    <tr>\n",
       "      <th>2131</th>\n",
       "      <td>0.83</td>\n",
       "      <td>1</td>\n",
       "    </tr>\n",
       "    <tr>\n",
       "      <th>2132</th>\n",
       "      <td>0.83</td>\n",
       "      <td>1</td>\n",
       "    </tr>\n",
       "    <tr>\n",
       "      <th>2133</th>\n",
       "      <td>0.42</td>\n",
       "      <td>1</td>\n",
       "    </tr>\n",
       "    <tr>\n",
       "      <th>2134</th>\n",
       "      <td>0.42</td>\n",
       "      <td>1</td>\n",
       "    </tr>\n",
       "    <tr>\n",
       "      <th>2135</th>\n",
       "      <td>0.42</td>\n",
       "      <td>1</td>\n",
       "    </tr>\n",
       "  </tbody>\n",
       "</table>\n",
       "<p>2136 rows × 2 columns</p>\n",
       "</div>"
      ],
      "text/plain": [
       "       Age  Survived\n",
       "0     2.00         1\n",
       "1     2.00         1\n",
       "2     2.00         1\n",
       "3     2.00         1\n",
       "4     2.00         1\n",
       "...    ...       ...\n",
       "2131  0.83         1\n",
       "2132  0.83         1\n",
       "2133  0.42         1\n",
       "2134  0.42         1\n",
       "2135  0.42         1\n",
       "\n",
       "[2136 rows x 2 columns]"
      ]
     },
     "execution_count": 17,
     "metadata": {},
     "output_type": "execute_result"
    }
   ],
   "source": [
    "client.query('select Age, Survived from ironhack_database.titanic')"
   ]
  },
  {
   "cell_type": "markdown",
   "metadata": {},
   "source": [
    "# Plot module"
   ]
  },
  {
   "cell_type": "code",
   "execution_count": null,
   "metadata": {},
   "outputs": [],
   "source": []
  },
  {
   "cell_type": "code",
   "execution_count": null,
   "metadata": {},
   "outputs": [],
   "source": []
  },
  {
   "cell_type": "code",
   "execution_count": null,
   "metadata": {},
   "outputs": [],
   "source": []
  },
  {
   "cell_type": "code",
   "execution_count": 18,
   "metadata": {},
   "outputs": [
    {
     "ename": "AttributeError",
     "evalue": "'IronSky' object has no attribute 'plot'",
     "output_type": "error",
     "traceback": [
      "\u001b[0;31m---------------------------------------------------------------------------\u001b[0m",
      "\u001b[0;31mAttributeError\u001b[0m                            Traceback (most recent call last)",
      "\u001b[0;32m<ipython-input-18-5b19b59eb70e>\u001b[0m in \u001b[0;36m<module>\u001b[0;34m\u001b[0m\n\u001b[0;32m----> 1\u001b[0;31m \u001b[0mclient\u001b[0m\u001b[0;34m.\u001b[0m\u001b[0mplot\u001b[0m\u001b[0;34m.\u001b[0m\u001b[0mfreq\u001b[0m\u001b[0;34m(\u001b[0m\u001b[0;34m'titanic'\u001b[0m\u001b[0;34m,\u001b[0m \u001b[0;34m'Survived'\u001b[0m\u001b[0;34m)\u001b[0m\u001b[0;34m\u001b[0m\u001b[0;34m\u001b[0m\u001b[0m\n\u001b[0m",
      "\u001b[0;31mAttributeError\u001b[0m: 'IronSky' object has no attribute 'plot'"
     ]
    }
   ],
   "source": [
    "client.plot.freq('titanic', 'Survived')"
   ]
  },
  {
   "cell_type": "code",
   "execution_count": null,
   "metadata": {},
   "outputs": [],
   "source": []
  },
  {
   "cell_type": "code",
   "execution_count": null,
   "metadata": {},
   "outputs": [],
   "source": [
    "client.query('select * from ironhack_database.INFORMATION_SCHEMA.COLUMN_FIELD_PATHS')"
   ]
  },
  {
   "cell_type": "code",
   "execution_count": null,
   "metadata": {},
   "outputs": [],
   "source": [
    "table.schema"
   ]
  },
  {
   "cell_type": "code",
   "execution_count": null,
   "metadata": {},
   "outputs": [],
   "source": []
  },
  {
   "cell_type": "code",
   "execution_count": null,
   "metadata": {},
   "outputs": [],
   "source": [
    "job_config = bigquery.LoadJobConfig()"
   ]
  },
  {
   "cell_type": "code",
   "execution_count": null,
   "metadata": {},
   "outputs": [],
   "source": [
    "job_config.write_disposition = bigquery.WriteDisposition.WRITE_APPEND"
   ]
  },
  {
   "cell_type": "code",
   "execution_count": null,
   "metadata": {},
   "outputs": [],
   "source": [
    "job_config.schema_update_options = [bigquery.SchemaUpdateOption.ALLOW_FIELD_ADDITION]"
   ]
  },
  {
   "cell_type": "code",
   "execution_count": null,
   "metadata": {},
   "outputs": [],
   "source": [
    "y = table.schema[0]"
   ]
  },
  {
   "cell_type": "code",
   "execution_count": null,
   "metadata": {},
   "outputs": [],
   "source": [
    "job_config.schema"
   ]
  }
 ],
 "metadata": {
  "kernelspec": {
   "display_name": "Python 3",
   "language": "python",
   "name": "python3"
  },
  "language_info": {
   "codemirror_mode": {
    "name": "ipython",
    "version": 3
   },
   "file_extension": ".py",
   "mimetype": "text/x-python",
   "name": "python",
   "nbconvert_exporter": "python",
   "pygments_lexer": "ipython3",
   "version": "3.8.0"
  },
  "toc": {
   "base_numbering": 1,
   "nav_menu": {},
   "number_sections": true,
   "sideBar": true,
   "skip_h1_title": false,
   "title_cell": "Table of Contents",
   "title_sidebar": "Contents",
   "toc_cell": false,
   "toc_position": {},
   "toc_section_display": true,
   "toc_window_display": false
  }
 },
 "nbformat": 4,
 "nbformat_minor": 2
}
