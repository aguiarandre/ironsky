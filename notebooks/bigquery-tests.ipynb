{
 "cells": [
  {
   "cell_type": "code",
   "execution_count": 7,
   "metadata": {},
   "outputs": [],
   "source": [
    "import seaborn as sns\n",
    "import matplotlib.pyplot as plt\n",
    "import pandas as pd\n",
    "import numpy as np\n",
    "import re\n",
    "\n",
    "\n",
    "from google.cloud.exceptions import GatewayTimeout\n",
    "from google.api_core.exceptions import AlreadyExists, NotFound\n",
    "from google.cloud import bigquery"
   ]
  },
  {
   "cell_type": "markdown",
   "metadata": {},
   "source": [
    "# Logging Handler"
   ]
  },
  {
   "cell_type": "code",
   "execution_count": 75,
   "metadata": {},
   "outputs": [],
   "source": [
    "import logging\n",
    "\n",
    "from logging.handlers import RotatingFileHandler\n",
    "import sys\n",
    "\n",
    "class IronLog:\n",
    "\n",
    "    def __init__(self, logger_name = None, logfile : str = 'general.log', **kwargs):\n",
    "        logging.basicConfig(level=logging.INFO)\n",
    "        self.LOG_FILE = logfile\n",
    "\n",
    "        self.FORMATTER = logging.Formatter(\"%(asctime)s - %(name)s - %(levelname)s - %(funcName)s - line: %(lineno)s - %(message)s\",\n",
    "                                          \"%Y-%m-%d %H:%M:%S\")\n",
    "        \n",
    "        self.logger = logging.getLogger(logger_name)\n",
    "        self.logger.setLevel(logging.INFO)\n",
    "        \n",
    "        self.mb = kwargs.get('mb', 4)\n",
    "        self.n_files = kwargs.get('n_files', 5)\n",
    "        \n",
    "        self.logger.handlers = []\n",
    "        self.logger.addHandler(\n",
    "            self._get_rotating_file_handler(self.mb, self.n_files)\n",
    "        )\n",
    "\n",
    "    def getLogger(self):\n",
    "        return self.logger\n",
    "        \n",
    "    def _get_console_handler(self):\n",
    "        \"\"\"Return a simple stream handler to provide standard output.\"\"\"\n",
    "        console_handler = logging.StreamHandler(sys.stdout)\n",
    "        console_handler.setFormatter(self.FORMATTER)\n",
    "        return console_handler\n",
    "\n",
    "    def _get_rotating_file_handler(self, mb, n_files):\n",
    "        \"\"\"\n",
    "        Return a rotative log file handler. \n",
    "        It will create a file named `LOG_FILE` and as soon as the file starts to reach \n",
    "        the defined maxBytes, it will be renamed to LOG_FILE.1 up to LOG_FILE.n_files.\n",
    "        The LOG_FILE.n_files is thrown to trash to give space for a new log file.\n",
    "        \n",
    "        So if you have mb = 4 MegaBytes and n_files = 5, the maximum space allowed would be \n",
    "        5 copies of 4MB each + the original log file --> 24 MB max.\n",
    "        \n",
    "        \"\"\"\n",
    "        file_handler = RotatingFileHandler(self.LOG_FILE, \n",
    "                                           maxBytes= mb * 1024**2, \n",
    "                                           backupCount=n_files)\n",
    "        file_handler.setFormatter(self.FORMATTER)\n",
    "        file_handler.setLevel(level=logging.DEBUG)\n",
    "        return file_handler"
   ]
  },
  {
   "cell_type": "markdown",
   "metadata": {},
   "source": [
    "# The Core of the connection"
   ]
  },
  {
   "cell_type": "code",
   "execution_count": 87,
   "metadata": {},
   "outputs": [],
   "source": [
    "from pandas import DataFrame\n",
    "import re\n",
    "\n",
    "from google.cloud import bigquery\n",
    "from google.api_core.exceptions import AlreadyExists, NotFound, BadRequest\n",
    "\n",
    "from functools import wraps\n",
    "\n",
    "\n",
    "class IronSky:\n",
    "\n",
    "    def __init__(self, dataset='ironhack_database'):\n",
    "        self.client = bigquery.Client()\n",
    "        self.dataset = dataset\n",
    "        self.stats = IronStats(self, self.dataset)\n",
    "        self.plot = IronPlot(self, self.dataset)\n",
    "        \n",
    "        return\n",
    "\n",
    "    def tables(self, pattern=None, by_desc=None):\n",
    "        \"\"\"\n",
    "        Return a dataframe containing the tables from the connected dataset.\n",
    "        \"\"\"\n",
    "        # get list of dataset's tables and create the dataframe\n",
    "        ds_list = self.client.list_tables(self.dataset)\n",
    "        result = DataFrame(dict(\n",
    "            table_name=[table.table_id for table in ds_list]\n",
    "        ))\n",
    "        \n",
    "        # filter tables using regular expression\n",
    "        if pattern:\n",
    "            result = result.loc[result.table_name.str.contains(pattern)]\n",
    "\n",
    "        return result\n",
    "\n",
    "    def cost(self, sql, verbose=True):\n",
    "        \"\"\"\n",
    "        Estimate the cost of a query in BigQuery considering each Gb costs $0.02 cents.\n",
    "        \"\"\"\n",
    "        logger = IronLog('bq').getLogger()\n",
    "        \n",
    "        job_config = bigquery.QueryJobConfig()\n",
    "        job_config.dry_run = True\n",
    "        job_config.use_query_cache = False\n",
    "        \n",
    "        try:\n",
    "            job = self.client.query(sql, location='US', job_config=job_config)\n",
    "        except BadRequest as error:\n",
    "            \"Check if the person forgot to put the dataset name (dataset.table_name)\"\n",
    "            msg = error.message\n",
    "            # log the error message and say what you're trying to do.\n",
    "            logger.warning(msg)\n",
    "            logger.warning('Trying to correct the mistake by inputing the dataset name.')\n",
    "\n",
    "            if re.findall('(missing dataset)', msg):\n",
    "                tentative_sql = re.sub('(FROM +)' , f'FROM {self.dataset}.', sql)\n",
    "                logger.info('Running the following query:')\n",
    "                logger.info(tentative_sql)\n",
    "                job = self.client.query(tentative_sql, location='US', job_config=job_config)\n",
    "            \n",
    "        mb = job.total_bytes_processed / 1024**2\n",
    "\n",
    "        # 0.02 cents for each GB processed.\n",
    "        dollar = (job.total_bytes_processed / 1024**3) * 0.02\n",
    "\n",
    "        if verbose:\n",
    "            logger.info(f'Processing {mb:2,.0f} MB, which costs US$ {dollar:,.2f}')\n",
    "            \n",
    "        return dollar\n",
    "\n",
    "    def head(self, table, nrows=5):\n",
    "        \"\"\"\n",
    "        Fetch the table from BigQuery and show the top nrows\n",
    "        in a dataframe format.\"\"\"\n",
    "        table = self.client.get_table(table)\n",
    "        return self.client.list_rows(table, max_results=nrows).to_dataframe()\n",
    "\n",
    "    def partitions(self, table):\n",
    "        \"Return the ids of the partitions of a table.\"\n",
    "        table = self.client.get_table(table)\n",
    "        return self.client.list_partitions(table)\n",
    "    \n",
    "    def describe(self, table):\n",
    "        \"\"\"\n",
    "        Return a dataframe containing information on columns of the dataframe.\n",
    "        \n",
    "        See also:\n",
    "        ---------\n",
    "        client.desc(table)\n",
    "        \n",
    "        \"\"\"\n",
    "        table = self.client.get_table(table)\n",
    "        description = [(col.name, col.field_type, col.description) for col in table.schema]\n",
    "            \n",
    "        \n",
    "        return pd.DataFrame(description, columns=['columns', 'type','description'])\n",
    "    \n",
    "    def desc(self, table):\n",
    "        \"\"\"\n",
    "        Return a dataframe containing information on columns of the dataframe.\n",
    "        \n",
    "        Alias to `.describe()`\n",
    "        \"\"\"\n",
    "        return self.describe(table)\n",
    "\n",
    "    def query(self, sql, verbose=True):\n",
    "        \"\"\"\n",
    "        Send a query to bigquery and return the result as a dataframe.\n",
    "        \n",
    "        Estimate the cost of the query\n",
    "        \"\"\"\n",
    "        job = self.client.query(sql)\n",
    "        result = job.result().to_dataframe()\n",
    "        \n",
    "        if verbose and job.total_bytes_billed is not None:\n",
    "            mb = job.total_bytes_billed / 1024**2\n",
    "            dollar = job.total_bytes_billed / 1024**3 * 0.02\n",
    "            logger = IronLog('bq').getLogger()\n",
    "            logger.info(f'Processing {mb:2,.0f} MB, which costs US$ {dollar:,.2f}')\n",
    "            \n",
    "        return result\n",
    "\n",
    "    def download(self, table):\n",
    "        \"\"\"\n",
    "        Download the table to a dataframe.\n",
    "        \"\"\"\n",
    "        table = self.client.get_table(table)\n",
    "        return self.client.list_rows(table).to_dataframe()\n",
    "\n",
    "    def upload(self, data : DataFrame, table_name : str, overwrite=False):\n",
    "        \"\"\"\n",
    "        Upload a dataframe to the bigquery dataset.\n",
    "        \"\"\"\n",
    "        logger = IronLog('bq').getLogger()\n",
    "\n",
    "        if overwrite:\n",
    "            tables = self.client.tables()\n",
    "        \n",
    "        try:\n",
    "            self.client.load_table_from_dataframe(data, table_name)\n",
    "        except ValueError as error:\n",
    "            \"\"\" \n",
    "            ValueError is usually the case when the user forgot to specify the\n",
    "            `dataset.` prefix.\n",
    "            \n",
    "            The fix here is to try to infer the dataset and input into as the\n",
    "            prefix of the table_name (as `dataset.table_name`)\n",
    "            \"\"\"\n",
    "            logger.warning(error.args[0])\n",
    "            if re.findall('(project.dataset.table_id)', error.args[0]):\n",
    "                logger.warning('Infering the dataset and repeating the action.')\n",
    "                self.client.load_table_from_dataframe(data, f'{self.dataset}.' + table_name)\n",
    "        \n",
    "        logger.info(f'{table_name} uploaded.')\n",
    "\n",
    "        return\n",
    "    \n",
    "    def info(self, table):\n",
    "        \n",
    "        table = self.client.get_table(table)\n",
    "\n",
    "        nrows = table.num_rows\n",
    "        nbytes = table.num_bytes\n",
    "        name = table.table_id\n",
    "        dataset = table.dataset_id\n",
    "        anomes_created = str(table.created.year) + str(table.created.month).zfill(2) + str(table.created.day).zfill(2)\n",
    "        time_created = str(table.created.hour) + str(table.created.minute).zfill(2)\n",
    "        fullname = table.full_table_id\n",
    "        location = table.location\n",
    "\n",
    "        data = pd.DataFrame({'nrows':[self._pretty_format(nrows,'value')], \n",
    "                             'size': [self._pretty_format(nbytes,'bytes')],\n",
    "                             'table_name':[name],\n",
    "                             'dataset_name':[dataset],\n",
    "                             'create_time':[anomes_created],\n",
    "                             'time_created':[time_created],\n",
    "                             'full_table_name':[fullname],\n",
    "                             'table_location':[location]}, index=['value']).T\n",
    "        return data\n",
    "        \n",
    "    @staticmethod\n",
    "    def _pretty_format(value, category='value'):\n",
    "        \"\"\"\n",
    "        Converts unfriendly formats to human readable.\n",
    "        \"\"\"\n",
    "        if category == 'value':\n",
    "            units = ['','K','M','B']\n",
    "            decimal_places = {'' : 0, \n",
    "                              'K':1,\n",
    "                              'M':1,\n",
    "                              'B':1\n",
    "                             }\n",
    "            cutoff = 1000\n",
    "        elif category == 'bytes':\n",
    "            units = ['B','kB','MB','GB','TB']\n",
    "            decimal_places = {'B' : 3, \n",
    "                              'kB':2,\n",
    "                              'MB':1,\n",
    "                              'GB':1,\n",
    "                              'TB':1\n",
    "                             }\n",
    "            cutoff = 1024\n",
    "        else:\n",
    "\n",
    "            raise NotImplementedError()\n",
    "\n",
    "        def _human_readable_size(size, \n",
    "                                units=units, \n",
    "                                decimal_places=decimal_places):\n",
    "            for unit in units:\n",
    "                if size < cutoff:\n",
    "                    break\n",
    "                size /= cutoff\n",
    "\n",
    "            return f\"{size:.{decimal_places[unit]}f}{unit}\"\n",
    "\n",
    "        return _human_readable_size(value)\n",
    "    "
   ]
  },
  {
   "cell_type": "markdown",
   "metadata": {},
   "source": [
    "# The Plot Class"
   ]
  },
  {
   "cell_type": "code",
   "execution_count": 88,
   "metadata": {},
   "outputs": [],
   "source": [
    "class IronPlot:\n",
    "    \"\"\"\n",
    "    The plot class.\n",
    "    \"\"\"\n",
    "    \n",
    "    import matplotlib.pyplot as plt\n",
    "    import seaborn as sns\n",
    "    \n",
    "    def __init__(self, client, dataset):\n",
    "        self.client = client\n",
    "        self.dataset = dataset\n",
    "        \n",
    "    def cum_freq(self, table_name, col_name : Union[str, List], verbose=True):\n",
    "        data = self.client.stats.freq(table_name, col_name).data\n",
    "        \n",
    "        \n",
    "        return data\n"
   ]
  },
  {
   "cell_type": "markdown",
   "metadata": {},
   "source": [
    "# Stylizer."
   ]
  },
  {
   "cell_type": "code",
   "execution_count": 89,
   "metadata": {},
   "outputs": [],
   "source": [
    "class IronStyle:\n",
    "    \n",
    "    def __init__(self, dataframe : DataFrame, \n",
    "                       bg_color : Union[None, str] = 'green', \n",
    "                       highlight : Union[None, str] = None, \n",
    "                       caption : Union[None, str] = None, \n",
    "                       selected_cols : Union[List[str], List] = []):\n",
    "        \"\"\"\n",
    "        Gets a dataframe and apply some layout.\n",
    "        \n",
    "        bg_color : Either None (which means no background color should be selected) \n",
    "                   or a colormap. The list of colormaps can be found using `plt.colormaps()`\n",
    "        highlight: Either None (which means no highligh will be done) or a string representing \n",
    "                   a color, for example 'red' or 'yellow'\n",
    "        caption:   Either None (which means the dataframe will not be captioned) or the string\n",
    "                   you want above the representation of the dataframe\n",
    "                   \n",
    "        \"\"\"\n",
    "        self.dataframe = dataframe\n",
    "        self.bg_color = bg_color\n",
    "        self.highlight = highlight\n",
    "        self.caption = caption\n",
    "        self.selected_cols = selected_cols\n",
    "                \n",
    "    def apply_style(self):\n",
    "        \"\"\"\n",
    "        Return a styler dataframe with the desired styling. \n",
    "        \n",
    "        For the current implementation, apply_style performs background_gradient \n",
    "        and highlight for some specific columns via the argument `selected_cols` \n",
    "        or, if no column is specified, color the columns contains 'percentage'.\n",
    "        \"\"\"\n",
    "        styler = self.dataframe.style\n",
    "        if not self.selected_cols: \n",
    "            self.selected_cols = [col for col in self.dataframe.columns \n",
    "                                  if re.search('percentage', col)]\n",
    "\n",
    "        if self.bg_color:\n",
    "            cm = sns.light_palette(self.bg_color, as_cmap=True)\n",
    "            styler = styler.background_gradient(cmap=cm, subset=self.selected_cols)\n",
    "        if self.highlight:\n",
    "            styler = styler.highlight_max(subset=self.selected_cols, color =self.highlight)\n",
    "        if self.caption:\n",
    "            styler = styler.set_caption(self.caption)\n",
    "            \n",
    "        return styler\n",
    "            \n",
    "    def _plot_all_cmaps(self):\n",
    "        import matplotlib as mpl\n",
    "        import matplotlib.pyplot as plt\n",
    "\n",
    "        def plot_cmaps(cmap):\n",
    "\n",
    "            fig, ax = plt.subplots(figsize=(4,0.4))\n",
    "            col_map = plt.get_cmap(cmap)\n",
    "            mpl.colorbar.ColorbarBase(ax, cmap=col_map, orientation = 'horizontal')\n",
    "\n",
    "            plt.show()\n",
    "\n",
    "        for cmap_id in plt.colormaps():\n",
    "            print(cmap_id)\n",
    "            plot_cmaps(cmap_id)\n",
    "\n",
    "    def _plot_specific_cmap(self, cmap):\n",
    "        import matplotlib as mpl\n",
    "        import matplotlib.pyplot as plt\n",
    "\n",
    "        def plot_cmaps(cmap):\n",
    "\n",
    "            fig, ax = plt.subplots(figsize=(4,0.4))\n",
    "            col_map = plt.get_cmap(cmap)\n",
    "            mpl.colorbar.ColorbarBase(ax, cmap=col_map, orientation = 'horizontal')\n",
    "\n",
    "            plt.show()\n",
    "            \n",
    "        print(cmap)\n",
    "        plot_cmaps(cmap)\n",
    "\n",
    "    "
   ]
  },
  {
   "cell_type": "markdown",
   "metadata": {},
   "source": [
    "# Statistics Handler"
   ]
  },
  {
   "cell_type": "code",
   "execution_count": 90,
   "metadata": {},
   "outputs": [],
   "source": [
    "from typing import List, Union\n",
    "from IPython.display import display, Markdown\n",
    "import inspect\n",
    "\n",
    "\n",
    "class IronStats:\n",
    "    \n",
    "    def __init__(self, client, dataset):\n",
    "        self.client = client\n",
    "        self.dataset = dataset\n",
    "    \n",
    "    def freq(self, \n",
    "             table_name, \n",
    "             col_name : Union[str, List], \n",
    "             order_by_freq=False, \n",
    "             ascending=True,\n",
    "             verbose=True, ):\n",
    "        \"\"\"\n",
    "        Return a dataframe (styler) containing the frequency table of the `col_name` \n",
    "        (which can be a list of columns) specified.\n",
    "        \"\"\"\n",
    "        if not (isinstance(col_name, list) or isinstance(col_name,tuple)):\n",
    "            col_name = [col_name]\n",
    "        \n",
    "        # generate the query for the frequency table\n",
    "        query_str = self._freq_query(table_name, col_name,verbose)\n",
    "        \n",
    "        \n",
    "        # the rest is just fru-fru\n",
    "        freq_cols = ['perc_' + col.lower() for col in col_name]\n",
    "        cols_str = ' and '.join(col_name)\n",
    "        caption = f'''Frequency table for {table_name}<br>Grouped by {cols_str}'''\n",
    "            \n",
    "        if verbose:\n",
    "            import inspect \n",
    "            display(Markdown(f'''```sql \n",
    "            {inspect.cleandoc(query_str)}\n",
    "            ```'''))\n",
    "        \n",
    "        if order_by_freq:\n",
    "            result = self.client.query(query_str).sort_values(by='frequency', \n",
    "                                                              ascending=ascending)\n",
    "        else:\n",
    "            result = self.client.query(query_str).sort_values(by=col_name,\n",
    "                                                              ascending=ascending)\n",
    "        \n",
    "        return IronStyle(result, caption=caption).apply_style()\n",
    "        \n",
    "        \n",
    "    def _freq_query(self, table_name, col_name, verbose):\n",
    "        \n",
    "        \n",
    "        \n",
    "        keys = ', \\n\\t\\t'.join(col_name)\n",
    "        \n",
    "        # each calculated column of the frequency table\n",
    "        counts = ['COUNT(*) AS frequency',\n",
    "                  'COUNT(*)/(SUM(COUNT(*)) OVER()) AS percentage',\n",
    "                  'SUM(COUNT(*)) OVER window_freq AS cumulative_freq',\n",
    "                  '(SUM(COUNT(*)) OVER window_freq)/(SUM(COUNT(*)) OVER ()) AS cumulative_percentage']\n",
    "\n",
    "        aggregations = ',\\n\\t'.join(counts)\n",
    "        query_str = inspect.cleandoc(f\"\"\"\n",
    "         SELECT {keys},\n",
    "                {aggregations}\n",
    "           FROM {self.dataset}.{table_name}\n",
    "          GROUP BY {keys}\n",
    "   WINDOW window_freq AS (ORDER BY COUNT(*) RANGE BETWEEN UNBOUNDED PRECEDING AND CURRENT ROW)\n",
    "        \"\"\")\n",
    "        \n",
    "        return query_str\n",
    "    \n",
    "    \n",
    "    def describe(self, table_name):\n",
    "        \n",
    "        col_names = self.client.desc(table_name)\n",
    "        \n",
    "        counts = [[f'AVG({col}) AS avg_{col}' for col in col_names],\n",
    "                  [f'MIN({col}) AS min_{col}'  for col in col_names]]\n",
    "\n",
    "        aggregations = ',\\n\\t'.join(counts)\n",
    "        \n",
    "        query_str = f'''\n",
    "        SELECT {aggregations}\n",
    "          FROM {self.dataset}.{table_name}\n",
    "        '''"
   ]
  },
  {
   "cell_type": "code",
   "execution_count": null,
   "metadata": {},
   "outputs": [],
   "source": []
  },
  {
   "cell_type": "code",
   "execution_count": null,
   "metadata": {},
   "outputs": [],
   "source": []
  },
  {
   "cell_type": "code",
   "execution_count": null,
   "metadata": {},
   "outputs": [],
   "source": []
  },
  {
   "cell_type": "markdown",
   "metadata": {},
   "source": [
    "# Tutorial"
   ]
  },
  {
   "cell_type": "markdown",
   "metadata": {},
   "source": [
    "## Instantiating the client\n",
    "\n",
    "Create the connection"
   ]
  },
  {
   "cell_type": "code",
   "execution_count": 91,
   "metadata": {},
   "outputs": [],
   "source": [
    "bq = IronSky()"
   ]
  },
  {
   "cell_type": "code",
   "execution_count": null,
   "metadata": {},
   "outputs": [],
   "source": []
  },
  {
   "cell_type": "code",
   "execution_count": 92,
   "metadata": {},
   "outputs": [
    {
     "data": {
      "text/html": [
       "<div>\n",
       "<style scoped>\n",
       "    .dataframe tbody tr th:only-of-type {\n",
       "        vertical-align: middle;\n",
       "    }\n",
       "\n",
       "    .dataframe tbody tr th {\n",
       "        vertical-align: top;\n",
       "    }\n",
       "\n",
       "    .dataframe thead th {\n",
       "        text-align: right;\n",
       "    }\n",
       "</style>\n",
       "<table border=\"1\" class=\"dataframe\">\n",
       "  <thead>\n",
       "    <tr style=\"text-align: right;\">\n",
       "      <th></th>\n",
       "      <th>value</th>\n",
       "    </tr>\n",
       "  </thead>\n",
       "  <tbody>\n",
       "    <tr>\n",
       "      <th>nrows</th>\n",
       "      <td>2.1K</td>\n",
       "    </tr>\n",
       "    <tr>\n",
       "      <th>size</th>\n",
       "      <td>166.88kB</td>\n",
       "    </tr>\n",
       "    <tr>\n",
       "      <th>table_name</th>\n",
       "      <td>titanic</td>\n",
       "    </tr>\n",
       "    <tr>\n",
       "      <th>dataset_name</th>\n",
       "      <td>ironhack_database</td>\n",
       "    </tr>\n",
       "    <tr>\n",
       "      <th>create_time</th>\n",
       "      <td>20200209</td>\n",
       "    </tr>\n",
       "    <tr>\n",
       "      <th>time_created</th>\n",
       "      <td>2147</td>\n",
       "    </tr>\n",
       "    <tr>\n",
       "      <th>full_table_name</th>\n",
       "      <td>ironhack-267217:ironhack_database.titanic</td>\n",
       "    </tr>\n",
       "    <tr>\n",
       "      <th>table_location</th>\n",
       "      <td>US</td>\n",
       "    </tr>\n",
       "  </tbody>\n",
       "</table>\n",
       "</div>"
      ],
      "text/plain": [
       "                                                     value\n",
       "nrows                                                 2.1K\n",
       "size                                              166.88kB\n",
       "table_name                                         titanic\n",
       "dataset_name                             ironhack_database\n",
       "create_time                                       20200209\n",
       "time_created                                          2147\n",
       "full_table_name  ironhack-267217:ironhack_database.titanic\n",
       "table_location                                          US"
      ]
     },
     "execution_count": 92,
     "metadata": {},
     "output_type": "execute_result"
    }
   ],
   "source": [
    "bq.info('ironhack_database.titanic')"
   ]
  },
  {
   "cell_type": "markdown",
   "metadata": {},
   "source": [
    "# Listing tables of dataset"
   ]
  },
  {
   "cell_type": "code",
   "execution_count": 93,
   "metadata": {},
   "outputs": [
    {
     "data": {
      "text/html": [
       "<div>\n",
       "<style scoped>\n",
       "    .dataframe tbody tr th:only-of-type {\n",
       "        vertical-align: middle;\n",
       "    }\n",
       "\n",
       "    .dataframe tbody tr th {\n",
       "        vertical-align: top;\n",
       "    }\n",
       "\n",
       "    .dataframe thead th {\n",
       "        text-align: right;\n",
       "    }\n",
       "</style>\n",
       "<table border=\"1\" class=\"dataframe\">\n",
       "  <thead>\n",
       "    <tr style=\"text-align: right;\">\n",
       "      <th></th>\n",
       "      <th>table_name</th>\n",
       "    </tr>\n",
       "  </thead>\n",
       "  <tbody>\n",
       "    <tr>\n",
       "      <th>0</th>\n",
       "      <td>titanic</td>\n",
       "    </tr>\n",
       "    <tr>\n",
       "      <th>1</th>\n",
       "      <td>titanic_v2</td>\n",
       "    </tr>\n",
       "    <tr>\n",
       "      <th>2</th>\n",
       "      <td>titanic_v3</td>\n",
       "    </tr>\n",
       "  </tbody>\n",
       "</table>\n",
       "</div>"
      ],
      "text/plain": [
       "   table_name\n",
       "0     titanic\n",
       "1  titanic_v2\n",
       "2  titanic_v3"
      ]
     },
     "execution_count": 93,
     "metadata": {},
     "output_type": "execute_result"
    }
   ],
   "source": [
    "bq.tables()"
   ]
  },
  {
   "cell_type": "code",
   "execution_count": 94,
   "metadata": {},
   "outputs": [
    {
     "data": {
      "text/html": [
       "<div>\n",
       "<style scoped>\n",
       "    .dataframe tbody tr th:only-of-type {\n",
       "        vertical-align: middle;\n",
       "    }\n",
       "\n",
       "    .dataframe tbody tr th {\n",
       "        vertical-align: top;\n",
       "    }\n",
       "\n",
       "    .dataframe thead th {\n",
       "        text-align: right;\n",
       "    }\n",
       "</style>\n",
       "<table border=\"1\" class=\"dataframe\">\n",
       "  <thead>\n",
       "    <tr style=\"text-align: right;\">\n",
       "      <th></th>\n",
       "      <th>table_name</th>\n",
       "    </tr>\n",
       "  </thead>\n",
       "  <tbody>\n",
       "    <tr>\n",
       "      <th>1</th>\n",
       "      <td>titanic_v2</td>\n",
       "    </tr>\n",
       "  </tbody>\n",
       "</table>\n",
       "</div>"
      ],
      "text/plain": [
       "   table_name\n",
       "1  titanic_v2"
      ]
     },
     "execution_count": 94,
     "metadata": {},
     "output_type": "execute_result"
    }
   ],
   "source": [
    "bq.tables(pattern='.*v2')"
   ]
  },
  {
   "cell_type": "markdown",
   "metadata": {},
   "source": [
    "# Estimating costs of queries"
   ]
  },
  {
   "cell_type": "code",
   "execution_count": 95,
   "metadata": {},
   "outputs": [
    {
     "name": "stderr",
     "output_type": "stream",
     "text": [
      "INFO:bq:Processing  0 MB, which costs US$ 0.00\n"
     ]
    },
    {
     "data": {
      "text/plain": [
       "3.1828880310058593e-07"
      ]
     },
     "execution_count": 95,
     "metadata": {},
     "output_type": "execute_result"
    }
   ],
   "source": [
    "sql = '''SELECT Survived FROM ironhack_database.titanic'''\n",
    "bq.cost(sql)"
   ]
  },
  {
   "cell_type": "code",
   "execution_count": 96,
   "metadata": {},
   "outputs": [
    {
     "data": {
      "text/html": [
       "<div>\n",
       "<style scoped>\n",
       "    .dataframe tbody tr th:only-of-type {\n",
       "        vertical-align: middle;\n",
       "    }\n",
       "\n",
       "    .dataframe tbody tr th {\n",
       "        vertical-align: top;\n",
       "    }\n",
       "\n",
       "    .dataframe thead th {\n",
       "        text-align: right;\n",
       "    }\n",
       "</style>\n",
       "<table border=\"1\" class=\"dataframe\">\n",
       "  <thead>\n",
       "    <tr style=\"text-align: right;\">\n",
       "      <th></th>\n",
       "      <th>columns</th>\n",
       "      <th>type</th>\n",
       "      <th>description</th>\n",
       "    </tr>\n",
       "  </thead>\n",
       "  <tbody>\n",
       "    <tr>\n",
       "      <th>0</th>\n",
       "      <td>Survived</td>\n",
       "      <td>INTEGER</td>\n",
       "      <td>None</td>\n",
       "    </tr>\n",
       "    <tr>\n",
       "      <th>1</th>\n",
       "      <td>Pclass</td>\n",
       "      <td>INTEGER</td>\n",
       "      <td>None</td>\n",
       "    </tr>\n",
       "    <tr>\n",
       "      <th>2</th>\n",
       "      <td>Sex</td>\n",
       "      <td>INTEGER</td>\n",
       "      <td>None</td>\n",
       "    </tr>\n",
       "    <tr>\n",
       "      <th>3</th>\n",
       "      <td>Age</td>\n",
       "      <td>FLOAT</td>\n",
       "      <td>None</td>\n",
       "    </tr>\n",
       "    <tr>\n",
       "      <th>4</th>\n",
       "      <td>SibSp</td>\n",
       "      <td>INTEGER</td>\n",
       "      <td>None</td>\n",
       "    </tr>\n",
       "    <tr>\n",
       "      <th>5</th>\n",
       "      <td>Parch</td>\n",
       "      <td>INTEGER</td>\n",
       "      <td>None</td>\n",
       "    </tr>\n",
       "    <tr>\n",
       "      <th>6</th>\n",
       "      <td>Fare</td>\n",
       "      <td>FLOAT</td>\n",
       "      <td>None</td>\n",
       "    </tr>\n",
       "    <tr>\n",
       "      <th>7</th>\n",
       "      <td>Embarked_C</td>\n",
       "      <td>INTEGER</td>\n",
       "      <td>None</td>\n",
       "    </tr>\n",
       "    <tr>\n",
       "      <th>8</th>\n",
       "      <td>Embarked_Q</td>\n",
       "      <td>INTEGER</td>\n",
       "      <td>None</td>\n",
       "    </tr>\n",
       "    <tr>\n",
       "      <th>9</th>\n",
       "      <td>Embarked_S</td>\n",
       "      <td>INTEGER</td>\n",
       "      <td>None</td>\n",
       "    </tr>\n",
       "  </tbody>\n",
       "</table>\n",
       "</div>"
      ],
      "text/plain": [
       "      columns     type description\n",
       "0    Survived  INTEGER        None\n",
       "1      Pclass  INTEGER        None\n",
       "2         Sex  INTEGER        None\n",
       "3         Age    FLOAT        None\n",
       "4       SibSp  INTEGER        None\n",
       "5       Parch  INTEGER        None\n",
       "6        Fare    FLOAT        None\n",
       "7  Embarked_C  INTEGER        None\n",
       "8  Embarked_Q  INTEGER        None\n",
       "9  Embarked_S  INTEGER        None"
      ]
     },
     "execution_count": 96,
     "metadata": {},
     "output_type": "execute_result"
    }
   ],
   "source": [
    "bq.describe('ironhack_database.titanic')"
   ]
  },
  {
   "cell_type": "code",
   "execution_count": 97,
   "metadata": {},
   "outputs": [
    {
     "data": {
      "text/html": [
       "<div>\n",
       "<style scoped>\n",
       "    .dataframe tbody tr th:only-of-type {\n",
       "        vertical-align: middle;\n",
       "    }\n",
       "\n",
       "    .dataframe tbody tr th {\n",
       "        vertical-align: top;\n",
       "    }\n",
       "\n",
       "    .dataframe thead th {\n",
       "        text-align: right;\n",
       "    }\n",
       "</style>\n",
       "<table border=\"1\" class=\"dataframe\">\n",
       "  <thead>\n",
       "    <tr style=\"text-align: right;\">\n",
       "      <th></th>\n",
       "      <th>columns</th>\n",
       "      <th>type</th>\n",
       "      <th>description</th>\n",
       "    </tr>\n",
       "  </thead>\n",
       "  <tbody>\n",
       "    <tr>\n",
       "      <th>0</th>\n",
       "      <td>Survived</td>\n",
       "      <td>INTEGER</td>\n",
       "      <td>None</td>\n",
       "    </tr>\n",
       "    <tr>\n",
       "      <th>1</th>\n",
       "      <td>Pclass</td>\n",
       "      <td>INTEGER</td>\n",
       "      <td>None</td>\n",
       "    </tr>\n",
       "    <tr>\n",
       "      <th>2</th>\n",
       "      <td>Sex</td>\n",
       "      <td>INTEGER</td>\n",
       "      <td>None</td>\n",
       "    </tr>\n",
       "    <tr>\n",
       "      <th>3</th>\n",
       "      <td>Age</td>\n",
       "      <td>FLOAT</td>\n",
       "      <td>None</td>\n",
       "    </tr>\n",
       "    <tr>\n",
       "      <th>4</th>\n",
       "      <td>SibSp</td>\n",
       "      <td>INTEGER</td>\n",
       "      <td>None</td>\n",
       "    </tr>\n",
       "    <tr>\n",
       "      <th>5</th>\n",
       "      <td>Parch</td>\n",
       "      <td>INTEGER</td>\n",
       "      <td>None</td>\n",
       "    </tr>\n",
       "    <tr>\n",
       "      <th>6</th>\n",
       "      <td>Fare</td>\n",
       "      <td>FLOAT</td>\n",
       "      <td>None</td>\n",
       "    </tr>\n",
       "    <tr>\n",
       "      <th>7</th>\n",
       "      <td>Embarked_C</td>\n",
       "      <td>INTEGER</td>\n",
       "      <td>None</td>\n",
       "    </tr>\n",
       "    <tr>\n",
       "      <th>8</th>\n",
       "      <td>Embarked_Q</td>\n",
       "      <td>INTEGER</td>\n",
       "      <td>None</td>\n",
       "    </tr>\n",
       "    <tr>\n",
       "      <th>9</th>\n",
       "      <td>Embarked_S</td>\n",
       "      <td>INTEGER</td>\n",
       "      <td>None</td>\n",
       "    </tr>\n",
       "  </tbody>\n",
       "</table>\n",
       "</div>"
      ],
      "text/plain": [
       "      columns     type description\n",
       "0    Survived  INTEGER        None\n",
       "1      Pclass  INTEGER        None\n",
       "2         Sex  INTEGER        None\n",
       "3         Age    FLOAT        None\n",
       "4       SibSp  INTEGER        None\n",
       "5       Parch  INTEGER        None\n",
       "6        Fare    FLOAT        None\n",
       "7  Embarked_C  INTEGER        None\n",
       "8  Embarked_Q  INTEGER        None\n",
       "9  Embarked_S  INTEGER        None"
      ]
     },
     "execution_count": 97,
     "metadata": {},
     "output_type": "execute_result"
    }
   ],
   "source": [
    "bq.desc('ironhack_database.titanic')"
   ]
  },
  {
   "cell_type": "markdown",
   "metadata": {},
   "source": [
    "> If you forget the `ironhack_database` dataset name, it tries to figure it out for you and retry."
   ]
  },
  {
   "cell_type": "code",
   "execution_count": 99,
   "metadata": {},
   "outputs": [
    {
     "name": "stderr",
     "output_type": "stream",
     "text": [
      "WARNING:bq:POST https://bigquery.googleapis.com/bigquery/v2/projects/ironhack-267217/jobs: Table name \"titanic\" missing dataset while no default dataset is set in the request.\n",
      "\n",
      "(job ID: 4682c8fc-d25c-4387-b236-eb320abd5fa6)\n",
      "\n",
      "-----Query Job SQL Follows-----\n",
      "\n",
      "    |    .    |    .    |\n",
      "   1:SELECT * FROM titanic\n",
      "    |    .    |    .    |\n",
      "WARNING:bq:Trying to correct the mistake by inputing the dataset name.\n",
      "INFO:bq:Running the following query:\n",
      "INFO:bq:SELECT * FROM ironhack_database.titanic\n",
      "INFO:bq:Processing  0 MB, which costs US$ 0.00\n"
     ]
    },
    {
     "data": {
      "text/plain": [
       "3.1828880310058593e-06"
      ]
     },
     "execution_count": 99,
     "metadata": {},
     "output_type": "execute_result"
    }
   ],
   "source": [
    "sql = 'SELECT * FROM titanic'\n",
    "bq.cost(sql)"
   ]
  },
  {
   "cell_type": "markdown",
   "metadata": {},
   "source": [
    "# Upload table to BigQuery"
   ]
  },
  {
   "cell_type": "code",
   "execution_count": 105,
   "metadata": {},
   "outputs": [],
   "source": [
    "import pandas as pd\n",
    "titanic = pd.read_csv('../../archived/ironhack-analytics/pca/titanic_processed.csv')"
   ]
  },
  {
   "cell_type": "code",
   "execution_count": 106,
   "metadata": {},
   "outputs": [
    {
     "data": {
      "text/html": [
       "<div>\n",
       "<style scoped>\n",
       "    .dataframe tbody tr th:only-of-type {\n",
       "        vertical-align: middle;\n",
       "    }\n",
       "\n",
       "    .dataframe tbody tr th {\n",
       "        vertical-align: top;\n",
       "    }\n",
       "\n",
       "    .dataframe thead th {\n",
       "        text-align: right;\n",
       "    }\n",
       "</style>\n",
       "<table border=\"1\" class=\"dataframe\">\n",
       "  <thead>\n",
       "    <tr style=\"text-align: right;\">\n",
       "      <th></th>\n",
       "      <th>Survived</th>\n",
       "      <th>Pclass</th>\n",
       "      <th>Sex</th>\n",
       "      <th>Age</th>\n",
       "      <th>SibSp</th>\n",
       "      <th>Parch</th>\n",
       "      <th>Fare</th>\n",
       "      <th>Embarked_C</th>\n",
       "      <th>Embarked_Q</th>\n",
       "      <th>Embarked_S</th>\n",
       "    </tr>\n",
       "  </thead>\n",
       "  <tbody>\n",
       "    <tr>\n",
       "      <th>0</th>\n",
       "      <td>1</td>\n",
       "      <td>3</td>\n",
       "      <td>0</td>\n",
       "      <td>38.0</td>\n",
       "      <td>1</td>\n",
       "      <td>5</td>\n",
       "      <td>31.3875</td>\n",
       "      <td>0</td>\n",
       "      <td>0</td>\n",
       "      <td>1</td>\n",
       "    </tr>\n",
       "    <tr>\n",
       "      <th>1</th>\n",
       "      <td>0</td>\n",
       "      <td>1</td>\n",
       "      <td>1</td>\n",
       "      <td>40.0</td>\n",
       "      <td>0</td>\n",
       "      <td>0</td>\n",
       "      <td>27.7208</td>\n",
       "      <td>1</td>\n",
       "      <td>0</td>\n",
       "      <td>0</td>\n",
       "    </tr>\n",
       "    <tr>\n",
       "      <th>2</th>\n",
       "      <td>0</td>\n",
       "      <td>3</td>\n",
       "      <td>1</td>\n",
       "      <td>26.0</td>\n",
       "      <td>0</td>\n",
       "      <td>0</td>\n",
       "      <td>7.8875</td>\n",
       "      <td>0</td>\n",
       "      <td>0</td>\n",
       "      <td>1</td>\n",
       "    </tr>\n",
       "    <tr>\n",
       "      <th>3</th>\n",
       "      <td>1</td>\n",
       "      <td>1</td>\n",
       "      <td>0</td>\n",
       "      <td>30.0</td>\n",
       "      <td>0</td>\n",
       "      <td>0</td>\n",
       "      <td>106.4250</td>\n",
       "      <td>1</td>\n",
       "      <td>0</td>\n",
       "      <td>0</td>\n",
       "    </tr>\n",
       "    <tr>\n",
       "      <th>4</th>\n",
       "      <td>0</td>\n",
       "      <td>2</td>\n",
       "      <td>1</td>\n",
       "      <td>16.0</td>\n",
       "      <td>0</td>\n",
       "      <td>0</td>\n",
       "      <td>10.5000</td>\n",
       "      <td>0</td>\n",
       "      <td>0</td>\n",
       "      <td>1</td>\n",
       "    </tr>\n",
       "  </tbody>\n",
       "</table>\n",
       "</div>"
      ],
      "text/plain": [
       "   Survived  Pclass  Sex   Age  SibSp  Parch      Fare  Embarked_C  \\\n",
       "0         1       3    0  38.0      1      5   31.3875           0   \n",
       "1         0       1    1  40.0      0      0   27.7208           1   \n",
       "2         0       3    1  26.0      0      0    7.8875           0   \n",
       "3         1       1    0  30.0      0      0  106.4250           1   \n",
       "4         0       2    1  16.0      0      0   10.5000           0   \n",
       "\n",
       "   Embarked_Q  Embarked_S  \n",
       "0           0           1  \n",
       "1           0           0  \n",
       "2           0           1  \n",
       "3           0           0  \n",
       "4           0           1  "
      ]
     },
     "execution_count": 106,
     "metadata": {},
     "output_type": "execute_result"
    }
   ],
   "source": [
    "titanic.head()"
   ]
  },
  {
   "cell_type": "code",
   "execution_count": 969,
   "metadata": {},
   "outputs": [
    {
     "name": "stderr",
     "output_type": "stream",
     "text": [
      "WARNING:bq:table_id must be a fully-qualified ID in standard SQL format, e.g., \"project.dataset.table_id\", got titanic_v3\n",
      "WARNING:bq:Infering the dataset and repeating the action.\n",
      "INFO:bq:titanic_v3 uploaded.\n"
     ]
    }
   ],
   "source": [
    "bq.upload(titanic, f'titanic_v3');"
   ]
  },
  {
   "cell_type": "markdown",
   "metadata": {},
   "source": [
    "# Download "
   ]
  },
  {
   "cell_type": "code",
   "execution_count": 971,
   "metadata": {},
   "outputs": [
    {
     "data": {
      "text/html": [
       "<div>\n",
       "<style scoped>\n",
       "    .dataframe tbody tr th:only-of-type {\n",
       "        vertical-align: middle;\n",
       "    }\n",
       "\n",
       "    .dataframe tbody tr th {\n",
       "        vertical-align: top;\n",
       "    }\n",
       "\n",
       "    .dataframe thead th {\n",
       "        text-align: right;\n",
       "    }\n",
       "</style>\n",
       "<table border=\"1\" class=\"dataframe\">\n",
       "  <thead>\n",
       "    <tr style=\"text-align: right;\">\n",
       "      <th></th>\n",
       "      <th>Survived</th>\n",
       "      <th>Pclass</th>\n",
       "      <th>Sex</th>\n",
       "      <th>Age</th>\n",
       "      <th>SibSp</th>\n",
       "      <th>Parch</th>\n",
       "      <th>Fare</th>\n",
       "      <th>Embarked_C</th>\n",
       "      <th>Embarked_Q</th>\n",
       "      <th>Embarked_S</th>\n",
       "    </tr>\n",
       "  </thead>\n",
       "  <tbody>\n",
       "    <tr>\n",
       "      <th>0</th>\n",
       "      <td>0</td>\n",
       "      <td>3</td>\n",
       "      <td>1</td>\n",
       "      <td>49.0</td>\n",
       "      <td>0</td>\n",
       "      <td>0</td>\n",
       "      <td>0.0000</td>\n",
       "      <td>0</td>\n",
       "      <td>0</td>\n",
       "      <td>1</td>\n",
       "    </tr>\n",
       "    <tr>\n",
       "      <th>1</th>\n",
       "      <td>0</td>\n",
       "      <td>3</td>\n",
       "      <td>1</td>\n",
       "      <td>36.0</td>\n",
       "      <td>0</td>\n",
       "      <td>0</td>\n",
       "      <td>0.0000</td>\n",
       "      <td>0</td>\n",
       "      <td>0</td>\n",
       "      <td>1</td>\n",
       "    </tr>\n",
       "    <tr>\n",
       "      <th>2</th>\n",
       "      <td>0</td>\n",
       "      <td>1</td>\n",
       "      <td>1</td>\n",
       "      <td>38.0</td>\n",
       "      <td>0</td>\n",
       "      <td>0</td>\n",
       "      <td>0.0000</td>\n",
       "      <td>0</td>\n",
       "      <td>0</td>\n",
       "      <td>1</td>\n",
       "    </tr>\n",
       "    <tr>\n",
       "      <th>3</th>\n",
       "      <td>0</td>\n",
       "      <td>1</td>\n",
       "      <td>1</td>\n",
       "      <td>39.0</td>\n",
       "      <td>0</td>\n",
       "      <td>0</td>\n",
       "      <td>0.0000</td>\n",
       "      <td>0</td>\n",
       "      <td>0</td>\n",
       "      <td>1</td>\n",
       "    </tr>\n",
       "    <tr>\n",
       "      <th>4</th>\n",
       "      <td>0</td>\n",
       "      <td>3</td>\n",
       "      <td>1</td>\n",
       "      <td>19.0</td>\n",
       "      <td>0</td>\n",
       "      <td>0</td>\n",
       "      <td>0.0000</td>\n",
       "      <td>0</td>\n",
       "      <td>0</td>\n",
       "      <td>1</td>\n",
       "    </tr>\n",
       "    <tr>\n",
       "      <th>...</th>\n",
       "      <td>...</td>\n",
       "      <td>...</td>\n",
       "      <td>...</td>\n",
       "      <td>...</td>\n",
       "      <td>...</td>\n",
       "      <td>...</td>\n",
       "      <td>...</td>\n",
       "      <td>...</td>\n",
       "      <td>...</td>\n",
       "      <td>...</td>\n",
       "    </tr>\n",
       "    <tr>\n",
       "      <th>707</th>\n",
       "      <td>1</td>\n",
       "      <td>3</td>\n",
       "      <td>1</td>\n",
       "      <td>29.0</td>\n",
       "      <td>0</td>\n",
       "      <td>0</td>\n",
       "      <td>7.8958</td>\n",
       "      <td>1</td>\n",
       "      <td>0</td>\n",
       "      <td>0</td>\n",
       "    </tr>\n",
       "    <tr>\n",
       "      <th>708</th>\n",
       "      <td>1</td>\n",
       "      <td>1</td>\n",
       "      <td>0</td>\n",
       "      <td>54.0</td>\n",
       "      <td>1</td>\n",
       "      <td>0</td>\n",
       "      <td>78.2667</td>\n",
       "      <td>1</td>\n",
       "      <td>0</td>\n",
       "      <td>0</td>\n",
       "    </tr>\n",
       "    <tr>\n",
       "      <th>709</th>\n",
       "      <td>1</td>\n",
       "      <td>1</td>\n",
       "      <td>0</td>\n",
       "      <td>52.0</td>\n",
       "      <td>1</td>\n",
       "      <td>0</td>\n",
       "      <td>78.2667</td>\n",
       "      <td>1</td>\n",
       "      <td>0</td>\n",
       "      <td>0</td>\n",
       "    </tr>\n",
       "    <tr>\n",
       "      <th>710</th>\n",
       "      <td>1</td>\n",
       "      <td>1</td>\n",
       "      <td>1</td>\n",
       "      <td>25.0</td>\n",
       "      <td>1</td>\n",
       "      <td>0</td>\n",
       "      <td>91.0792</td>\n",
       "      <td>1</td>\n",
       "      <td>0</td>\n",
       "      <td>0</td>\n",
       "    </tr>\n",
       "    <tr>\n",
       "      <th>711</th>\n",
       "      <td>1</td>\n",
       "      <td>1</td>\n",
       "      <td>0</td>\n",
       "      <td>19.0</td>\n",
       "      <td>1</td>\n",
       "      <td>0</td>\n",
       "      <td>91.0792</td>\n",
       "      <td>1</td>\n",
       "      <td>0</td>\n",
       "      <td>0</td>\n",
       "    </tr>\n",
       "  </tbody>\n",
       "</table>\n",
       "<p>712 rows × 10 columns</p>\n",
       "</div>"
      ],
      "text/plain": [
       "     Survived  Pclass  Sex   Age  SibSp  Parch     Fare  Embarked_C  \\\n",
       "0           0       3    1  49.0      0      0   0.0000           0   \n",
       "1           0       3    1  36.0      0      0   0.0000           0   \n",
       "2           0       1    1  38.0      0      0   0.0000           0   \n",
       "3           0       1    1  39.0      0      0   0.0000           0   \n",
       "4           0       3    1  19.0      0      0   0.0000           0   \n",
       "..        ...     ...  ...   ...    ...    ...      ...         ...   \n",
       "707         1       3    1  29.0      0      0   7.8958           1   \n",
       "708         1       1    0  54.0      1      0  78.2667           1   \n",
       "709         1       1    0  52.0      1      0  78.2667           1   \n",
       "710         1       1    1  25.0      1      0  91.0792           1   \n",
       "711         1       1    0  19.0      1      0  91.0792           1   \n",
       "\n",
       "     Embarked_Q  Embarked_S  \n",
       "0             0           1  \n",
       "1             0           1  \n",
       "2             0           1  \n",
       "3             0           1  \n",
       "4             0           1  \n",
       "..          ...         ...  \n",
       "707           0           0  \n",
       "708           0           0  \n",
       "709           0           0  \n",
       "710           0           0  \n",
       "711           0           0  \n",
       "\n",
       "[712 rows x 10 columns]"
      ]
     },
     "execution_count": 971,
     "metadata": {},
     "output_type": "execute_result"
    }
   ],
   "source": [
    "bq.download('ironhack_database.titanic_v3')"
   ]
  },
  {
   "cell_type": "markdown",
   "metadata": {},
   "source": [
    "## Download specific columns"
   ]
  },
  {
   "cell_type": "markdown",
   "metadata": {},
   "source": [
    "## Download partition"
   ]
  },
  {
   "cell_type": "markdown",
   "metadata": {},
   "source": [
    "## Download to csv\n",
    "\n",
    "This should download directly to csv, without passing in memory"
   ]
  },
  {
   "cell_type": "markdown",
   "metadata": {},
   "source": [
    "# Query"
   ]
  },
  {
   "cell_type": "code",
   "execution_count": 107,
   "metadata": {
    "scrolled": true
   },
   "outputs": [
    {
     "name": "stderr",
     "output_type": "stream",
     "text": [
      "INFO:bq:Processing 10 MB, which costs US$ 0.00\n"
     ]
    },
    {
     "data": {
      "text/html": [
       "<div>\n",
       "<style scoped>\n",
       "    .dataframe tbody tr th:only-of-type {\n",
       "        vertical-align: middle;\n",
       "    }\n",
       "\n",
       "    .dataframe tbody tr th {\n",
       "        vertical-align: top;\n",
       "    }\n",
       "\n",
       "    .dataframe thead th {\n",
       "        text-align: right;\n",
       "    }\n",
       "</style>\n",
       "<table border=\"1\" class=\"dataframe\">\n",
       "  <thead>\n",
       "    <tr style=\"text-align: right;\">\n",
       "      <th></th>\n",
       "      <th>Age</th>\n",
       "      <th>Survived</th>\n",
       "    </tr>\n",
       "  </thead>\n",
       "  <tbody>\n",
       "    <tr>\n",
       "      <th>0</th>\n",
       "      <td>2.00</td>\n",
       "      <td>1</td>\n",
       "    </tr>\n",
       "    <tr>\n",
       "      <th>1</th>\n",
       "      <td>2.00</td>\n",
       "      <td>1</td>\n",
       "    </tr>\n",
       "    <tr>\n",
       "      <th>2</th>\n",
       "      <td>2.00</td>\n",
       "      <td>1</td>\n",
       "    </tr>\n",
       "    <tr>\n",
       "      <th>3</th>\n",
       "      <td>2.00</td>\n",
       "      <td>1</td>\n",
       "    </tr>\n",
       "    <tr>\n",
       "      <th>4</th>\n",
       "      <td>2.00</td>\n",
       "      <td>1</td>\n",
       "    </tr>\n",
       "    <tr>\n",
       "      <th>...</th>\n",
       "      <td>...</td>\n",
       "      <td>...</td>\n",
       "    </tr>\n",
       "    <tr>\n",
       "      <th>2131</th>\n",
       "      <td>0.83</td>\n",
       "      <td>1</td>\n",
       "    </tr>\n",
       "    <tr>\n",
       "      <th>2132</th>\n",
       "      <td>0.83</td>\n",
       "      <td>1</td>\n",
       "    </tr>\n",
       "    <tr>\n",
       "      <th>2133</th>\n",
       "      <td>0.42</td>\n",
       "      <td>1</td>\n",
       "    </tr>\n",
       "    <tr>\n",
       "      <th>2134</th>\n",
       "      <td>0.42</td>\n",
       "      <td>1</td>\n",
       "    </tr>\n",
       "    <tr>\n",
       "      <th>2135</th>\n",
       "      <td>0.42</td>\n",
       "      <td>1</td>\n",
       "    </tr>\n",
       "  </tbody>\n",
       "</table>\n",
       "<p>2136 rows × 2 columns</p>\n",
       "</div>"
      ],
      "text/plain": [
       "       Age  Survived\n",
       "0     2.00         1\n",
       "1     2.00         1\n",
       "2     2.00         1\n",
       "3     2.00         1\n",
       "4     2.00         1\n",
       "...    ...       ...\n",
       "2131  0.83         1\n",
       "2132  0.83         1\n",
       "2133  0.42         1\n",
       "2134  0.42         1\n",
       "2135  0.42         1\n",
       "\n",
       "[2136 rows x 2 columns]"
      ]
     },
     "execution_count": 107,
     "metadata": {},
     "output_type": "execute_result"
    }
   ],
   "source": [
    "bq.query('select Age, Survived from ironhack_database.titanic')"
   ]
  },
  {
   "cell_type": "code",
   "execution_count": null,
   "metadata": {},
   "outputs": [],
   "source": []
  },
  {
   "cell_type": "code",
   "execution_count": null,
   "metadata": {},
   "outputs": [],
   "source": []
  },
  {
   "cell_type": "code",
   "execution_count": null,
   "metadata": {},
   "outputs": [],
   "source": []
  },
  {
   "cell_type": "markdown",
   "metadata": {},
   "source": [
    "# Stats module"
   ]
  },
  {
   "cell_type": "markdown",
   "metadata": {},
   "source": [
    "## Stats.freq for 1 column"
   ]
  },
  {
   "cell_type": "code",
   "execution_count": 108,
   "metadata": {
    "scrolled": true
   },
   "outputs": [
    {
     "data": {
      "text/markdown": [
       "```sql \n",
       "            SELECT Survived,\n",
       "             COUNT(*) AS frequency,\n",
       "     COUNT(*)/(SUM(COUNT(*)) OVER()) AS percentage,\n",
       "     SUM(COUNT(*)) OVER window_freq AS cumulative_freq,\n",
       "     (SUM(COUNT(*)) OVER window_freq)/(SUM(COUNT(*)) OVER ()) AS cumulative_percentage\n",
       "        FROM ironhack_database.titanic\n",
       "       GROUP BY Survived\n",
       "WINDOW window_freq AS (ORDER BY COUNT(*) RANGE BETWEEN UNBOUNDED PRECEDING AND CURRENT ROW)\n",
       "     \n",
       "            ```"
      ],
      "text/plain": [
       "<IPython.core.display.Markdown object>"
      ]
     },
     "metadata": {},
     "output_type": "display_data"
    },
    {
     "name": "stderr",
     "output_type": "stream",
     "text": [
      "INFO:bq:Processing  0 MB, which costs US$ 0.00\n"
     ]
    },
    {
     "data": {
      "text/html": [
       "<style  type=\"text/css\" >\n",
       "    #T_3ea82782_6fe6_11ea_8352_88e9fe65c4d8row0_col2 {\n",
       "            background-color:  #008000;\n",
       "            color:  #f1f1f1;\n",
       "        }    #T_3ea82782_6fe6_11ea_8352_88e9fe65c4d8row0_col4 {\n",
       "            background-color:  #008000;\n",
       "            color:  #f1f1f1;\n",
       "        }    #T_3ea82782_6fe6_11ea_8352_88e9fe65c4d8row1_col2 {\n",
       "            background-color:  #e5ffe5;\n",
       "            color:  #000000;\n",
       "        }    #T_3ea82782_6fe6_11ea_8352_88e9fe65c4d8row1_col4 {\n",
       "            background-color:  #e5ffe5;\n",
       "            color:  #000000;\n",
       "        }</style><table id=\"T_3ea82782_6fe6_11ea_8352_88e9fe65c4d8\" ><caption>Frequency table for titanic<br>Grouped by Survived</caption><thead>    <tr>        <th class=\"blank level0\" ></th>        <th class=\"col_heading level0 col0\" >Survived</th>        <th class=\"col_heading level0 col1\" >frequency</th>        <th class=\"col_heading level0 col2\" >percentage</th>        <th class=\"col_heading level0 col3\" >cumulative_freq</th>        <th class=\"col_heading level0 col4\" >cumulative_percentage</th>    </tr></thead><tbody>\n",
       "                <tr>\n",
       "                        <th id=\"T_3ea82782_6fe6_11ea_8352_88e9fe65c4d8level0_row0\" class=\"row_heading level0 row0\" >1</th>\n",
       "                        <td id=\"T_3ea82782_6fe6_11ea_8352_88e9fe65c4d8row0_col0\" class=\"data row0 col0\" >0</td>\n",
       "                        <td id=\"T_3ea82782_6fe6_11ea_8352_88e9fe65c4d8row0_col1\" class=\"data row0 col1\" >1272</td>\n",
       "                        <td id=\"T_3ea82782_6fe6_11ea_8352_88e9fe65c4d8row0_col2\" class=\"data row0 col2\" >0.595506</td>\n",
       "                        <td id=\"T_3ea82782_6fe6_11ea_8352_88e9fe65c4d8row0_col3\" class=\"data row0 col3\" >2136</td>\n",
       "                        <td id=\"T_3ea82782_6fe6_11ea_8352_88e9fe65c4d8row0_col4\" class=\"data row0 col4\" >1.000000</td>\n",
       "            </tr>\n",
       "            <tr>\n",
       "                        <th id=\"T_3ea82782_6fe6_11ea_8352_88e9fe65c4d8level0_row1\" class=\"row_heading level0 row1\" >0</th>\n",
       "                        <td id=\"T_3ea82782_6fe6_11ea_8352_88e9fe65c4d8row1_col0\" class=\"data row1 col0\" >1</td>\n",
       "                        <td id=\"T_3ea82782_6fe6_11ea_8352_88e9fe65c4d8row1_col1\" class=\"data row1 col1\" >864</td>\n",
       "                        <td id=\"T_3ea82782_6fe6_11ea_8352_88e9fe65c4d8row1_col2\" class=\"data row1 col2\" >0.404494</td>\n",
       "                        <td id=\"T_3ea82782_6fe6_11ea_8352_88e9fe65c4d8row1_col3\" class=\"data row1 col3\" >864</td>\n",
       "                        <td id=\"T_3ea82782_6fe6_11ea_8352_88e9fe65c4d8row1_col4\" class=\"data row1 col4\" >0.404494</td>\n",
       "            </tr>\n",
       "    </tbody></table>"
      ],
      "text/plain": [
       "<pandas.io.formats.style.Styler at 0x126574580>"
      ]
     },
     "execution_count": 108,
     "metadata": {},
     "output_type": "execute_result"
    }
   ],
   "source": [
    "bq.stats.freq('titanic','Survived')"
   ]
  },
  {
   "cell_type": "markdown",
   "metadata": {},
   "source": [
    "## Stats.freq for 2 columns"
   ]
  },
  {
   "cell_type": "code",
   "execution_count": 69,
   "metadata": {},
   "outputs": [
    {
     "data": {
      "text/markdown": [
       "```sql \n",
       "            SELECT Survived, \n",
       "             Pclass,\n",
       "             COUNT(*) AS frequency,\n",
       "     COUNT(*)/(SUM(COUNT(*)) OVER()) AS percentage,\n",
       "     SUM(COUNT(*)) OVER window_freq AS cumulative_freq,\n",
       "     (SUM(COUNT(*)) OVER window_freq)/(SUM(COUNT(*)) OVER ()) AS cumulative_percentage\n",
       "        FROM ironhack_database.titanic\n",
       "       GROUP BY Survived, \n",
       "             Pclass\n",
       "WINDOW window_freq AS (ORDER BY COUNT(*) RANGE BETWEEN UNBOUNDED PRECEDING AND CURRENT ROW)\n",
       "     \n",
       "            ```"
      ],
      "text/plain": [
       "<IPython.core.display.Markdown object>"
      ]
     },
     "metadata": {},
     "output_type": "display_data"
    },
    {
     "data": {
      "text/html": [
       "<style  type=\"text/css\" >\n",
       "    #T_2024f1c4_6fe5_11ea_8352_88e9fe65c4d8row0_col3 {\n",
       "            background-color:  #e5ffe5;\n",
       "            color:  #000000;\n",
       "        }    #T_2024f1c4_6fe5_11ea_8352_88e9fe65c4d8row0_col5 {\n",
       "            background-color:  #e5ffe5;\n",
       "            color:  #000000;\n",
       "        }    #T_2024f1c4_6fe5_11ea_8352_88e9fe65c4d8row1_col3 {\n",
       "            background-color:  #c9efc9;\n",
       "            color:  #000000;\n",
       "        }    #T_2024f1c4_6fe5_11ea_8352_88e9fe65c4d8row1_col5 {\n",
       "            background-color:  #8bcd8b;\n",
       "            color:  #000000;\n",
       "        }    #T_2024f1c4_6fe5_11ea_8352_88e9fe65c4d8row2_col3 {\n",
       "            background-color:  #008000;\n",
       "            color:  #f1f1f1;\n",
       "        }    #T_2024f1c4_6fe5_11ea_8352_88e9fe65c4d8row2_col5 {\n",
       "            background-color:  #008000;\n",
       "            color:  #f1f1f1;\n",
       "        }    #T_2024f1c4_6fe5_11ea_8352_88e9fe65c4d8row3_col3 {\n",
       "            background-color:  #a7dda7;\n",
       "            color:  #000000;\n",
       "        }    #T_2024f1c4_6fe5_11ea_8352_88e9fe65c4d8row3_col5 {\n",
       "            background-color:  #5fb55f;\n",
       "            color:  #000000;\n",
       "        }    #T_2024f1c4_6fe5_11ea_8352_88e9fe65c4d8row4_col3 {\n",
       "            background-color:  #d1f4d1;\n",
       "            color:  #000000;\n",
       "        }    #T_2024f1c4_6fe5_11ea_8352_88e9fe65c4d8row4_col5 {\n",
       "            background-color:  #c9efc9;\n",
       "            color:  #000000;\n",
       "        }    #T_2024f1c4_6fe5_11ea_8352_88e9fe65c4d8row5_col3 {\n",
       "            background-color:  #cef2ce;\n",
       "            color:  #000000;\n",
       "        }    #T_2024f1c4_6fe5_11ea_8352_88e9fe65c4d8row5_col5 {\n",
       "            background-color:  #aadeaa;\n",
       "            color:  #000000;\n",
       "        }</style><table id=\"T_2024f1c4_6fe5_11ea_8352_88e9fe65c4d8\" ><caption>Frequency table for titanic<br>Grouped by Survived and Pclass</caption><thead>    <tr>        <th class=\"blank level0\" ></th>        <th class=\"col_heading level0 col0\" >Survived</th>        <th class=\"col_heading level0 col1\" >Pclass</th>        <th class=\"col_heading level0 col2\" >frequency</th>        <th class=\"col_heading level0 col3\" >percentage</th>        <th class=\"col_heading level0 col4\" >cumulative_freq</th>        <th class=\"col_heading level0 col5\" >cumulative_percentage</th>    </tr></thead><tbody>\n",
       "                <tr>\n",
       "                        <th id=\"T_2024f1c4_6fe5_11ea_8352_88e9fe65c4d8level0_row0\" class=\"row_heading level0 row0\" >0</th>\n",
       "                        <td id=\"T_2024f1c4_6fe5_11ea_8352_88e9fe65c4d8row0_col0\" class=\"data row0 col0\" >0</td>\n",
       "                        <td id=\"T_2024f1c4_6fe5_11ea_8352_88e9fe65c4d8row0_col1\" class=\"data row0 col1\" >1</td>\n",
       "                        <td id=\"T_2024f1c4_6fe5_11ea_8352_88e9fe65c4d8row0_col2\" class=\"data row0 col2\" >192</td>\n",
       "                        <td id=\"T_2024f1c4_6fe5_11ea_8352_88e9fe65c4d8row0_col3\" class=\"data row0 col3\" >0.089888</td>\n",
       "                        <td id=\"T_2024f1c4_6fe5_11ea_8352_88e9fe65c4d8row0_col4\" class=\"data row0 col4\" >192</td>\n",
       "                        <td id=\"T_2024f1c4_6fe5_11ea_8352_88e9fe65c4d8row0_col5\" class=\"data row0 col5\" >0.089888</td>\n",
       "            </tr>\n",
       "            <tr>\n",
       "                        <th id=\"T_2024f1c4_6fe5_11ea_8352_88e9fe65c4d8level0_row1\" class=\"row_heading level0 row1\" >3</th>\n",
       "                        <td id=\"T_2024f1c4_6fe5_11ea_8352_88e9fe65c4d8row1_col0\" class=\"data row1 col0\" >0</td>\n",
       "                        <td id=\"T_2024f1c4_6fe5_11ea_8352_88e9fe65c4d8row1_col1\" class=\"data row1 col1\" >2</td>\n",
       "                        <td id=\"T_2024f1c4_6fe5_11ea_8352_88e9fe65c4d8row1_col2\" class=\"data row1 col2\" >270</td>\n",
       "                        <td id=\"T_2024f1c4_6fe5_11ea_8352_88e9fe65c4d8row1_col3\" class=\"data row1 col3\" >0.126404</td>\n",
       "                        <td id=\"T_2024f1c4_6fe5_11ea_8352_88e9fe65c4d8row1_col4\" class=\"data row1 col4\" >966</td>\n",
       "                        <td id=\"T_2024f1c4_6fe5_11ea_8352_88e9fe65c4d8row1_col5\" class=\"data row1 col5\" >0.452247</td>\n",
       "            </tr>\n",
       "            <tr>\n",
       "                        <th id=\"T_2024f1c4_6fe5_11ea_8352_88e9fe65c4d8level0_row2\" class=\"row_heading level0 row2\" >5</th>\n",
       "                        <td id=\"T_2024f1c4_6fe5_11ea_8352_88e9fe65c4d8row2_col0\" class=\"data row2 col0\" >0</td>\n",
       "                        <td id=\"T_2024f1c4_6fe5_11ea_8352_88e9fe65c4d8row2_col1\" class=\"data row2 col1\" >3</td>\n",
       "                        <td id=\"T_2024f1c4_6fe5_11ea_8352_88e9fe65c4d8row2_col2\" class=\"data row2 col2\" >810</td>\n",
       "                        <td id=\"T_2024f1c4_6fe5_11ea_8352_88e9fe65c4d8row2_col3\" class=\"data row2 col3\" >0.379213</td>\n",
       "                        <td id=\"T_2024f1c4_6fe5_11ea_8352_88e9fe65c4d8row2_col4\" class=\"data row2 col4\" >2136</td>\n",
       "                        <td id=\"T_2024f1c4_6fe5_11ea_8352_88e9fe65c4d8row2_col5\" class=\"data row2 col5\" >1.000000</td>\n",
       "            </tr>\n",
       "            <tr>\n",
       "                        <th id=\"T_2024f1c4_6fe5_11ea_8352_88e9fe65c4d8level0_row3\" class=\"row_heading level0 row3\" >4</th>\n",
       "                        <td id=\"T_2024f1c4_6fe5_11ea_8352_88e9fe65c4d8row3_col0\" class=\"data row3 col0\" >1</td>\n",
       "                        <td id=\"T_2024f1c4_6fe5_11ea_8352_88e9fe65c4d8row3_col1\" class=\"data row3 col1\" >1</td>\n",
       "                        <td id=\"T_2024f1c4_6fe5_11ea_8352_88e9fe65c4d8row3_col2\" class=\"data row3 col2\" >360</td>\n",
       "                        <td id=\"T_2024f1c4_6fe5_11ea_8352_88e9fe65c4d8row3_col3\" class=\"data row3 col3\" >0.168539</td>\n",
       "                        <td id=\"T_2024f1c4_6fe5_11ea_8352_88e9fe65c4d8row3_col4\" class=\"data row3 col4\" >1326</td>\n",
       "                        <td id=\"T_2024f1c4_6fe5_11ea_8352_88e9fe65c4d8row3_col5\" class=\"data row3 col5\" >0.620787</td>\n",
       "            </tr>\n",
       "            <tr>\n",
       "                        <th id=\"T_2024f1c4_6fe5_11ea_8352_88e9fe65c4d8level0_row4\" class=\"row_heading level0 row4\" >1</th>\n",
       "                        <td id=\"T_2024f1c4_6fe5_11ea_8352_88e9fe65c4d8row4_col0\" class=\"data row4 col0\" >1</td>\n",
       "                        <td id=\"T_2024f1c4_6fe5_11ea_8352_88e9fe65c4d8row4_col1\" class=\"data row4 col1\" >2</td>\n",
       "                        <td id=\"T_2024f1c4_6fe5_11ea_8352_88e9fe65c4d8row4_col2\" class=\"data row4 col2\" >249</td>\n",
       "                        <td id=\"T_2024f1c4_6fe5_11ea_8352_88e9fe65c4d8row4_col3\" class=\"data row4 col3\" >0.116573</td>\n",
       "                        <td id=\"T_2024f1c4_6fe5_11ea_8352_88e9fe65c4d8row4_col4\" class=\"data row4 col4\" >441</td>\n",
       "                        <td id=\"T_2024f1c4_6fe5_11ea_8352_88e9fe65c4d8row4_col5\" class=\"data row4 col5\" >0.206461</td>\n",
       "            </tr>\n",
       "            <tr>\n",
       "                        <th id=\"T_2024f1c4_6fe5_11ea_8352_88e9fe65c4d8level0_row5\" class=\"row_heading level0 row5\" >2</th>\n",
       "                        <td id=\"T_2024f1c4_6fe5_11ea_8352_88e9fe65c4d8row5_col0\" class=\"data row5 col0\" >1</td>\n",
       "                        <td id=\"T_2024f1c4_6fe5_11ea_8352_88e9fe65c4d8row5_col1\" class=\"data row5 col1\" >3</td>\n",
       "                        <td id=\"T_2024f1c4_6fe5_11ea_8352_88e9fe65c4d8row5_col2\" class=\"data row5 col2\" >255</td>\n",
       "                        <td id=\"T_2024f1c4_6fe5_11ea_8352_88e9fe65c4d8row5_col3\" class=\"data row5 col3\" >0.119382</td>\n",
       "                        <td id=\"T_2024f1c4_6fe5_11ea_8352_88e9fe65c4d8row5_col4\" class=\"data row5 col4\" >696</td>\n",
       "                        <td id=\"T_2024f1c4_6fe5_11ea_8352_88e9fe65c4d8row5_col5\" class=\"data row5 col5\" >0.325843</td>\n",
       "            </tr>\n",
       "    </tbody></table>"
      ],
      "text/plain": [
       "<pandas.io.formats.style.Styler at 0x120a6c940>"
      ]
     },
     "execution_count": 69,
     "metadata": {},
     "output_type": "execute_result"
    }
   ],
   "source": [
    "bq.stats.freq('titanic', ['Survived', 'Pclass'])"
   ]
  },
  {
   "cell_type": "markdown",
   "metadata": {},
   "source": [
    "## Stats.freq for 2 columns, order by freq\n"
   ]
  },
  {
   "cell_type": "code",
   "execution_count": 70,
   "metadata": {},
   "outputs": [
    {
     "data": {
      "text/markdown": [
       "```sql \n",
       "            SELECT Survived, \n",
       "             Pclass,\n",
       "             COUNT(*) AS frequency,\n",
       "     COUNT(*)/(SUM(COUNT(*)) OVER()) AS percentage,\n",
       "     SUM(COUNT(*)) OVER window_freq AS cumulative_freq,\n",
       "     (SUM(COUNT(*)) OVER window_freq)/(SUM(COUNT(*)) OVER ()) AS cumulative_percentage\n",
       "        FROM ironhack_database.titanic\n",
       "       GROUP BY Survived, \n",
       "             Pclass\n",
       "WINDOW window_freq AS (ORDER BY COUNT(*) RANGE BETWEEN UNBOUNDED PRECEDING AND CURRENT ROW)\n",
       "     \n",
       "            ```"
      ],
      "text/plain": [
       "<IPython.core.display.Markdown object>"
      ]
     },
     "metadata": {},
     "output_type": "display_data"
    },
    {
     "data": {
      "text/html": [
       "<style  type=\"text/css\" >\n",
       "    #T_2227d98c_6fe5_11ea_8352_88e9fe65c4d8row0_col3 {\n",
       "            background-color:  #e5ffe5;\n",
       "            color:  #000000;\n",
       "        }    #T_2227d98c_6fe5_11ea_8352_88e9fe65c4d8row0_col5 {\n",
       "            background-color:  #e5ffe5;\n",
       "            color:  #000000;\n",
       "        }    #T_2227d98c_6fe5_11ea_8352_88e9fe65c4d8row1_col3 {\n",
       "            background-color:  #d1f4d1;\n",
       "            color:  #000000;\n",
       "        }    #T_2227d98c_6fe5_11ea_8352_88e9fe65c4d8row1_col5 {\n",
       "            background-color:  #c9efc9;\n",
       "            color:  #000000;\n",
       "        }    #T_2227d98c_6fe5_11ea_8352_88e9fe65c4d8row2_col3 {\n",
       "            background-color:  #cef2ce;\n",
       "            color:  #000000;\n",
       "        }    #T_2227d98c_6fe5_11ea_8352_88e9fe65c4d8row2_col5 {\n",
       "            background-color:  #aadeaa;\n",
       "            color:  #000000;\n",
       "        }    #T_2227d98c_6fe5_11ea_8352_88e9fe65c4d8row3_col3 {\n",
       "            background-color:  #c9efc9;\n",
       "            color:  #000000;\n",
       "        }    #T_2227d98c_6fe5_11ea_8352_88e9fe65c4d8row3_col5 {\n",
       "            background-color:  #8bcd8b;\n",
       "            color:  #000000;\n",
       "        }    #T_2227d98c_6fe5_11ea_8352_88e9fe65c4d8row4_col3 {\n",
       "            background-color:  #a7dda7;\n",
       "            color:  #000000;\n",
       "        }    #T_2227d98c_6fe5_11ea_8352_88e9fe65c4d8row4_col5 {\n",
       "            background-color:  #5fb55f;\n",
       "            color:  #000000;\n",
       "        }    #T_2227d98c_6fe5_11ea_8352_88e9fe65c4d8row5_col3 {\n",
       "            background-color:  #008000;\n",
       "            color:  #f1f1f1;\n",
       "        }    #T_2227d98c_6fe5_11ea_8352_88e9fe65c4d8row5_col5 {\n",
       "            background-color:  #008000;\n",
       "            color:  #f1f1f1;\n",
       "        }</style><table id=\"T_2227d98c_6fe5_11ea_8352_88e9fe65c4d8\" ><caption>Frequency table for titanic<br>Grouped by Survived and Pclass</caption><thead>    <tr>        <th class=\"blank level0\" ></th>        <th class=\"col_heading level0 col0\" >Survived</th>        <th class=\"col_heading level0 col1\" >Pclass</th>        <th class=\"col_heading level0 col2\" >frequency</th>        <th class=\"col_heading level0 col3\" >percentage</th>        <th class=\"col_heading level0 col4\" >cumulative_freq</th>        <th class=\"col_heading level0 col5\" >cumulative_percentage</th>    </tr></thead><tbody>\n",
       "                <tr>\n",
       "                        <th id=\"T_2227d98c_6fe5_11ea_8352_88e9fe65c4d8level0_row0\" class=\"row_heading level0 row0\" >0</th>\n",
       "                        <td id=\"T_2227d98c_6fe5_11ea_8352_88e9fe65c4d8row0_col0\" class=\"data row0 col0\" >0</td>\n",
       "                        <td id=\"T_2227d98c_6fe5_11ea_8352_88e9fe65c4d8row0_col1\" class=\"data row0 col1\" >1</td>\n",
       "                        <td id=\"T_2227d98c_6fe5_11ea_8352_88e9fe65c4d8row0_col2\" class=\"data row0 col2\" >192</td>\n",
       "                        <td id=\"T_2227d98c_6fe5_11ea_8352_88e9fe65c4d8row0_col3\" class=\"data row0 col3\" >0.089888</td>\n",
       "                        <td id=\"T_2227d98c_6fe5_11ea_8352_88e9fe65c4d8row0_col4\" class=\"data row0 col4\" >192</td>\n",
       "                        <td id=\"T_2227d98c_6fe5_11ea_8352_88e9fe65c4d8row0_col5\" class=\"data row0 col5\" >0.089888</td>\n",
       "            </tr>\n",
       "            <tr>\n",
       "                        <th id=\"T_2227d98c_6fe5_11ea_8352_88e9fe65c4d8level0_row1\" class=\"row_heading level0 row1\" >1</th>\n",
       "                        <td id=\"T_2227d98c_6fe5_11ea_8352_88e9fe65c4d8row1_col0\" class=\"data row1 col0\" >1</td>\n",
       "                        <td id=\"T_2227d98c_6fe5_11ea_8352_88e9fe65c4d8row1_col1\" class=\"data row1 col1\" >2</td>\n",
       "                        <td id=\"T_2227d98c_6fe5_11ea_8352_88e9fe65c4d8row1_col2\" class=\"data row1 col2\" >249</td>\n",
       "                        <td id=\"T_2227d98c_6fe5_11ea_8352_88e9fe65c4d8row1_col3\" class=\"data row1 col3\" >0.116573</td>\n",
       "                        <td id=\"T_2227d98c_6fe5_11ea_8352_88e9fe65c4d8row1_col4\" class=\"data row1 col4\" >441</td>\n",
       "                        <td id=\"T_2227d98c_6fe5_11ea_8352_88e9fe65c4d8row1_col5\" class=\"data row1 col5\" >0.206461</td>\n",
       "            </tr>\n",
       "            <tr>\n",
       "                        <th id=\"T_2227d98c_6fe5_11ea_8352_88e9fe65c4d8level0_row2\" class=\"row_heading level0 row2\" >2</th>\n",
       "                        <td id=\"T_2227d98c_6fe5_11ea_8352_88e9fe65c4d8row2_col0\" class=\"data row2 col0\" >1</td>\n",
       "                        <td id=\"T_2227d98c_6fe5_11ea_8352_88e9fe65c4d8row2_col1\" class=\"data row2 col1\" >3</td>\n",
       "                        <td id=\"T_2227d98c_6fe5_11ea_8352_88e9fe65c4d8row2_col2\" class=\"data row2 col2\" >255</td>\n",
       "                        <td id=\"T_2227d98c_6fe5_11ea_8352_88e9fe65c4d8row2_col3\" class=\"data row2 col3\" >0.119382</td>\n",
       "                        <td id=\"T_2227d98c_6fe5_11ea_8352_88e9fe65c4d8row2_col4\" class=\"data row2 col4\" >696</td>\n",
       "                        <td id=\"T_2227d98c_6fe5_11ea_8352_88e9fe65c4d8row2_col5\" class=\"data row2 col5\" >0.325843</td>\n",
       "            </tr>\n",
       "            <tr>\n",
       "                        <th id=\"T_2227d98c_6fe5_11ea_8352_88e9fe65c4d8level0_row3\" class=\"row_heading level0 row3\" >3</th>\n",
       "                        <td id=\"T_2227d98c_6fe5_11ea_8352_88e9fe65c4d8row3_col0\" class=\"data row3 col0\" >0</td>\n",
       "                        <td id=\"T_2227d98c_6fe5_11ea_8352_88e9fe65c4d8row3_col1\" class=\"data row3 col1\" >2</td>\n",
       "                        <td id=\"T_2227d98c_6fe5_11ea_8352_88e9fe65c4d8row3_col2\" class=\"data row3 col2\" >270</td>\n",
       "                        <td id=\"T_2227d98c_6fe5_11ea_8352_88e9fe65c4d8row3_col3\" class=\"data row3 col3\" >0.126404</td>\n",
       "                        <td id=\"T_2227d98c_6fe5_11ea_8352_88e9fe65c4d8row3_col4\" class=\"data row3 col4\" >966</td>\n",
       "                        <td id=\"T_2227d98c_6fe5_11ea_8352_88e9fe65c4d8row3_col5\" class=\"data row3 col5\" >0.452247</td>\n",
       "            </tr>\n",
       "            <tr>\n",
       "                        <th id=\"T_2227d98c_6fe5_11ea_8352_88e9fe65c4d8level0_row4\" class=\"row_heading level0 row4\" >4</th>\n",
       "                        <td id=\"T_2227d98c_6fe5_11ea_8352_88e9fe65c4d8row4_col0\" class=\"data row4 col0\" >1</td>\n",
       "                        <td id=\"T_2227d98c_6fe5_11ea_8352_88e9fe65c4d8row4_col1\" class=\"data row4 col1\" >1</td>\n",
       "                        <td id=\"T_2227d98c_6fe5_11ea_8352_88e9fe65c4d8row4_col2\" class=\"data row4 col2\" >360</td>\n",
       "                        <td id=\"T_2227d98c_6fe5_11ea_8352_88e9fe65c4d8row4_col3\" class=\"data row4 col3\" >0.168539</td>\n",
       "                        <td id=\"T_2227d98c_6fe5_11ea_8352_88e9fe65c4d8row4_col4\" class=\"data row4 col4\" >1326</td>\n",
       "                        <td id=\"T_2227d98c_6fe5_11ea_8352_88e9fe65c4d8row4_col5\" class=\"data row4 col5\" >0.620787</td>\n",
       "            </tr>\n",
       "            <tr>\n",
       "                        <th id=\"T_2227d98c_6fe5_11ea_8352_88e9fe65c4d8level0_row5\" class=\"row_heading level0 row5\" >5</th>\n",
       "                        <td id=\"T_2227d98c_6fe5_11ea_8352_88e9fe65c4d8row5_col0\" class=\"data row5 col0\" >0</td>\n",
       "                        <td id=\"T_2227d98c_6fe5_11ea_8352_88e9fe65c4d8row5_col1\" class=\"data row5 col1\" >3</td>\n",
       "                        <td id=\"T_2227d98c_6fe5_11ea_8352_88e9fe65c4d8row5_col2\" class=\"data row5 col2\" >810</td>\n",
       "                        <td id=\"T_2227d98c_6fe5_11ea_8352_88e9fe65c4d8row5_col3\" class=\"data row5 col3\" >0.379213</td>\n",
       "                        <td id=\"T_2227d98c_6fe5_11ea_8352_88e9fe65c4d8row5_col4\" class=\"data row5 col4\" >2136</td>\n",
       "                        <td id=\"T_2227d98c_6fe5_11ea_8352_88e9fe65c4d8row5_col5\" class=\"data row5 col5\" >1.000000</td>\n",
       "            </tr>\n",
       "    </tbody></table>"
      ],
      "text/plain": [
       "<pandas.io.formats.style.Styler at 0x123dcb9d0>"
      ]
     },
     "execution_count": 70,
     "metadata": {},
     "output_type": "execute_result"
    }
   ],
   "source": [
    "bq.stats.freq('titanic', ['Survived', 'Pclass'], order_by_freq=True)"
   ]
  },
  {
   "cell_type": "markdown",
   "metadata": {},
   "source": [
    "## Stats.freq for 2 columns, order by freq, ascending=False"
   ]
  },
  {
   "cell_type": "code",
   "execution_count": 71,
   "metadata": {},
   "outputs": [
    {
     "data": {
      "text/markdown": [
       "```sql \n",
       "            SELECT Survived, \n",
       "             Pclass,\n",
       "             COUNT(*) AS frequency,\n",
       "     COUNT(*)/(SUM(COUNT(*)) OVER()) AS percentage,\n",
       "     SUM(COUNT(*)) OVER window_freq AS cumulative_freq,\n",
       "     (SUM(COUNT(*)) OVER window_freq)/(SUM(COUNT(*)) OVER ()) AS cumulative_percentage\n",
       "        FROM ironhack_database.titanic\n",
       "       GROUP BY Survived, \n",
       "             Pclass\n",
       "WINDOW window_freq AS (ORDER BY COUNT(*) RANGE BETWEEN UNBOUNDED PRECEDING AND CURRENT ROW)\n",
       "     \n",
       "            ```"
      ],
      "text/plain": [
       "<IPython.core.display.Markdown object>"
      ]
     },
     "metadata": {},
     "output_type": "display_data"
    },
    {
     "data": {
      "text/html": [
       "<style  type=\"text/css\" >\n",
       "    #T_23dac8d4_6fe5_11ea_8352_88e9fe65c4d8row0_col3 {\n",
       "            background-color:  #008000;\n",
       "            color:  #f1f1f1;\n",
       "        }    #T_23dac8d4_6fe5_11ea_8352_88e9fe65c4d8row0_col5 {\n",
       "            background-color:  #008000;\n",
       "            color:  #f1f1f1;\n",
       "        }    #T_23dac8d4_6fe5_11ea_8352_88e9fe65c4d8row1_col3 {\n",
       "            background-color:  #a7dda7;\n",
       "            color:  #000000;\n",
       "        }    #T_23dac8d4_6fe5_11ea_8352_88e9fe65c4d8row1_col5 {\n",
       "            background-color:  #5fb55f;\n",
       "            color:  #000000;\n",
       "        }    #T_23dac8d4_6fe5_11ea_8352_88e9fe65c4d8row2_col3 {\n",
       "            background-color:  #c9efc9;\n",
       "            color:  #000000;\n",
       "        }    #T_23dac8d4_6fe5_11ea_8352_88e9fe65c4d8row2_col5 {\n",
       "            background-color:  #8bcd8b;\n",
       "            color:  #000000;\n",
       "        }    #T_23dac8d4_6fe5_11ea_8352_88e9fe65c4d8row3_col3 {\n",
       "            background-color:  #cef2ce;\n",
       "            color:  #000000;\n",
       "        }    #T_23dac8d4_6fe5_11ea_8352_88e9fe65c4d8row3_col5 {\n",
       "            background-color:  #aadeaa;\n",
       "            color:  #000000;\n",
       "        }    #T_23dac8d4_6fe5_11ea_8352_88e9fe65c4d8row4_col3 {\n",
       "            background-color:  #d1f4d1;\n",
       "            color:  #000000;\n",
       "        }    #T_23dac8d4_6fe5_11ea_8352_88e9fe65c4d8row4_col5 {\n",
       "            background-color:  #c9efc9;\n",
       "            color:  #000000;\n",
       "        }    #T_23dac8d4_6fe5_11ea_8352_88e9fe65c4d8row5_col3 {\n",
       "            background-color:  #e5ffe5;\n",
       "            color:  #000000;\n",
       "        }    #T_23dac8d4_6fe5_11ea_8352_88e9fe65c4d8row5_col5 {\n",
       "            background-color:  #e5ffe5;\n",
       "            color:  #000000;\n",
       "        }</style><table id=\"T_23dac8d4_6fe5_11ea_8352_88e9fe65c4d8\" ><caption>Frequency table for titanic<br>Grouped by Survived and Pclass</caption><thead>    <tr>        <th class=\"blank level0\" ></th>        <th class=\"col_heading level0 col0\" >Survived</th>        <th class=\"col_heading level0 col1\" >Pclass</th>        <th class=\"col_heading level0 col2\" >frequency</th>        <th class=\"col_heading level0 col3\" >percentage</th>        <th class=\"col_heading level0 col4\" >cumulative_freq</th>        <th class=\"col_heading level0 col5\" >cumulative_percentage</th>    </tr></thead><tbody>\n",
       "                <tr>\n",
       "                        <th id=\"T_23dac8d4_6fe5_11ea_8352_88e9fe65c4d8level0_row0\" class=\"row_heading level0 row0\" >5</th>\n",
       "                        <td id=\"T_23dac8d4_6fe5_11ea_8352_88e9fe65c4d8row0_col0\" class=\"data row0 col0\" >0</td>\n",
       "                        <td id=\"T_23dac8d4_6fe5_11ea_8352_88e9fe65c4d8row0_col1\" class=\"data row0 col1\" >3</td>\n",
       "                        <td id=\"T_23dac8d4_6fe5_11ea_8352_88e9fe65c4d8row0_col2\" class=\"data row0 col2\" >810</td>\n",
       "                        <td id=\"T_23dac8d4_6fe5_11ea_8352_88e9fe65c4d8row0_col3\" class=\"data row0 col3\" >0.379213</td>\n",
       "                        <td id=\"T_23dac8d4_6fe5_11ea_8352_88e9fe65c4d8row0_col4\" class=\"data row0 col4\" >2136</td>\n",
       "                        <td id=\"T_23dac8d4_6fe5_11ea_8352_88e9fe65c4d8row0_col5\" class=\"data row0 col5\" >1.000000</td>\n",
       "            </tr>\n",
       "            <tr>\n",
       "                        <th id=\"T_23dac8d4_6fe5_11ea_8352_88e9fe65c4d8level0_row1\" class=\"row_heading level0 row1\" >4</th>\n",
       "                        <td id=\"T_23dac8d4_6fe5_11ea_8352_88e9fe65c4d8row1_col0\" class=\"data row1 col0\" >1</td>\n",
       "                        <td id=\"T_23dac8d4_6fe5_11ea_8352_88e9fe65c4d8row1_col1\" class=\"data row1 col1\" >1</td>\n",
       "                        <td id=\"T_23dac8d4_6fe5_11ea_8352_88e9fe65c4d8row1_col2\" class=\"data row1 col2\" >360</td>\n",
       "                        <td id=\"T_23dac8d4_6fe5_11ea_8352_88e9fe65c4d8row1_col3\" class=\"data row1 col3\" >0.168539</td>\n",
       "                        <td id=\"T_23dac8d4_6fe5_11ea_8352_88e9fe65c4d8row1_col4\" class=\"data row1 col4\" >1326</td>\n",
       "                        <td id=\"T_23dac8d4_6fe5_11ea_8352_88e9fe65c4d8row1_col5\" class=\"data row1 col5\" >0.620787</td>\n",
       "            </tr>\n",
       "            <tr>\n",
       "                        <th id=\"T_23dac8d4_6fe5_11ea_8352_88e9fe65c4d8level0_row2\" class=\"row_heading level0 row2\" >3</th>\n",
       "                        <td id=\"T_23dac8d4_6fe5_11ea_8352_88e9fe65c4d8row2_col0\" class=\"data row2 col0\" >0</td>\n",
       "                        <td id=\"T_23dac8d4_6fe5_11ea_8352_88e9fe65c4d8row2_col1\" class=\"data row2 col1\" >2</td>\n",
       "                        <td id=\"T_23dac8d4_6fe5_11ea_8352_88e9fe65c4d8row2_col2\" class=\"data row2 col2\" >270</td>\n",
       "                        <td id=\"T_23dac8d4_6fe5_11ea_8352_88e9fe65c4d8row2_col3\" class=\"data row2 col3\" >0.126404</td>\n",
       "                        <td id=\"T_23dac8d4_6fe5_11ea_8352_88e9fe65c4d8row2_col4\" class=\"data row2 col4\" >966</td>\n",
       "                        <td id=\"T_23dac8d4_6fe5_11ea_8352_88e9fe65c4d8row2_col5\" class=\"data row2 col5\" >0.452247</td>\n",
       "            </tr>\n",
       "            <tr>\n",
       "                        <th id=\"T_23dac8d4_6fe5_11ea_8352_88e9fe65c4d8level0_row3\" class=\"row_heading level0 row3\" >2</th>\n",
       "                        <td id=\"T_23dac8d4_6fe5_11ea_8352_88e9fe65c4d8row3_col0\" class=\"data row3 col0\" >1</td>\n",
       "                        <td id=\"T_23dac8d4_6fe5_11ea_8352_88e9fe65c4d8row3_col1\" class=\"data row3 col1\" >3</td>\n",
       "                        <td id=\"T_23dac8d4_6fe5_11ea_8352_88e9fe65c4d8row3_col2\" class=\"data row3 col2\" >255</td>\n",
       "                        <td id=\"T_23dac8d4_6fe5_11ea_8352_88e9fe65c4d8row3_col3\" class=\"data row3 col3\" >0.119382</td>\n",
       "                        <td id=\"T_23dac8d4_6fe5_11ea_8352_88e9fe65c4d8row3_col4\" class=\"data row3 col4\" >696</td>\n",
       "                        <td id=\"T_23dac8d4_6fe5_11ea_8352_88e9fe65c4d8row3_col5\" class=\"data row3 col5\" >0.325843</td>\n",
       "            </tr>\n",
       "            <tr>\n",
       "                        <th id=\"T_23dac8d4_6fe5_11ea_8352_88e9fe65c4d8level0_row4\" class=\"row_heading level0 row4\" >1</th>\n",
       "                        <td id=\"T_23dac8d4_6fe5_11ea_8352_88e9fe65c4d8row4_col0\" class=\"data row4 col0\" >1</td>\n",
       "                        <td id=\"T_23dac8d4_6fe5_11ea_8352_88e9fe65c4d8row4_col1\" class=\"data row4 col1\" >2</td>\n",
       "                        <td id=\"T_23dac8d4_6fe5_11ea_8352_88e9fe65c4d8row4_col2\" class=\"data row4 col2\" >249</td>\n",
       "                        <td id=\"T_23dac8d4_6fe5_11ea_8352_88e9fe65c4d8row4_col3\" class=\"data row4 col3\" >0.116573</td>\n",
       "                        <td id=\"T_23dac8d4_6fe5_11ea_8352_88e9fe65c4d8row4_col4\" class=\"data row4 col4\" >441</td>\n",
       "                        <td id=\"T_23dac8d4_6fe5_11ea_8352_88e9fe65c4d8row4_col5\" class=\"data row4 col5\" >0.206461</td>\n",
       "            </tr>\n",
       "            <tr>\n",
       "                        <th id=\"T_23dac8d4_6fe5_11ea_8352_88e9fe65c4d8level0_row5\" class=\"row_heading level0 row5\" >0</th>\n",
       "                        <td id=\"T_23dac8d4_6fe5_11ea_8352_88e9fe65c4d8row5_col0\" class=\"data row5 col0\" >0</td>\n",
       "                        <td id=\"T_23dac8d4_6fe5_11ea_8352_88e9fe65c4d8row5_col1\" class=\"data row5 col1\" >1</td>\n",
       "                        <td id=\"T_23dac8d4_6fe5_11ea_8352_88e9fe65c4d8row5_col2\" class=\"data row5 col2\" >192</td>\n",
       "                        <td id=\"T_23dac8d4_6fe5_11ea_8352_88e9fe65c4d8row5_col3\" class=\"data row5 col3\" >0.089888</td>\n",
       "                        <td id=\"T_23dac8d4_6fe5_11ea_8352_88e9fe65c4d8row5_col4\" class=\"data row5 col4\" >192</td>\n",
       "                        <td id=\"T_23dac8d4_6fe5_11ea_8352_88e9fe65c4d8row5_col5\" class=\"data row5 col5\" >0.089888</td>\n",
       "            </tr>\n",
       "    </tbody></table>"
      ],
      "text/plain": [
       "<pandas.io.formats.style.Styler at 0x123db7190>"
      ]
     },
     "execution_count": 71,
     "metadata": {},
     "output_type": "execute_result"
    }
   ],
   "source": [
    "bq.stats.freq('titanic', ['Survived', 'Pclass'], order_by_freq=True, ascending=False)"
   ]
  },
  {
   "cell_type": "markdown",
   "metadata": {},
   "source": [
    "## Stats.describe"
   ]
  },
  {
   "cell_type": "code",
   "execution_count": null,
   "metadata": {},
   "outputs": [],
   "source": [
    "# bq.stats.describe('titanic')"
   ]
  },
  {
   "cell_type": "code",
   "execution_count": null,
   "metadata": {},
   "outputs": [],
   "source": []
  },
  {
   "cell_type": "code",
   "execution_count": null,
   "metadata": {},
   "outputs": [],
   "source": []
  },
  {
   "cell_type": "markdown",
   "metadata": {},
   "source": [
    "# Plot module"
   ]
  },
  {
   "cell_type": "markdown",
   "metadata": {},
   "source": [
    "## Plot.cum_freq"
   ]
  },
  {
   "cell_type": "code",
   "execution_count": 110,
   "metadata": {},
   "outputs": [
    {
     "data": {
      "text/markdown": [
       "```sql \n",
       "            SELECT Survived,\n",
       "             COUNT(*) AS frequency,\n",
       "     COUNT(*)/(SUM(COUNT(*)) OVER()) AS percentage,\n",
       "     SUM(COUNT(*)) OVER window_freq AS cumulative_freq,\n",
       "     (SUM(COUNT(*)) OVER window_freq)/(SUM(COUNT(*)) OVER ()) AS cumulative_percentage\n",
       "        FROM ironhack_database.titanic\n",
       "       GROUP BY Survived\n",
       "WINDOW window_freq AS (ORDER BY COUNT(*) RANGE BETWEEN UNBOUNDED PRECEDING AND CURRENT ROW)\n",
       "     \n",
       "            ```"
      ],
      "text/plain": [
       "<IPython.core.display.Markdown object>"
      ]
     },
     "metadata": {},
     "output_type": "display_data"
    },
    {
     "name": "stderr",
     "output_type": "stream",
     "text": [
      "INFO:bq:Processing  0 MB, which costs US$ 0.00\n"
     ]
    },
    {
     "data": {
      "text/html": [
       "<div>\n",
       "<style scoped>\n",
       "    .dataframe tbody tr th:only-of-type {\n",
       "        vertical-align: middle;\n",
       "    }\n",
       "\n",
       "    .dataframe tbody tr th {\n",
       "        vertical-align: top;\n",
       "    }\n",
       "\n",
       "    .dataframe thead th {\n",
       "        text-align: right;\n",
       "    }\n",
       "</style>\n",
       "<table border=\"1\" class=\"dataframe\">\n",
       "  <thead>\n",
       "    <tr style=\"text-align: right;\">\n",
       "      <th></th>\n",
       "      <th>Survived</th>\n",
       "      <th>frequency</th>\n",
       "      <th>percentage</th>\n",
       "      <th>cumulative_freq</th>\n",
       "      <th>cumulative_percentage</th>\n",
       "    </tr>\n",
       "  </thead>\n",
       "  <tbody>\n",
       "    <tr>\n",
       "      <th>1</th>\n",
       "      <td>0</td>\n",
       "      <td>1272</td>\n",
       "      <td>0.595506</td>\n",
       "      <td>2136</td>\n",
       "      <td>1.000000</td>\n",
       "    </tr>\n",
       "    <tr>\n",
       "      <th>0</th>\n",
       "      <td>1</td>\n",
       "      <td>864</td>\n",
       "      <td>0.404494</td>\n",
       "      <td>864</td>\n",
       "      <td>0.404494</td>\n",
       "    </tr>\n",
       "  </tbody>\n",
       "</table>\n",
       "</div>"
      ],
      "text/plain": [
       "   Survived  frequency  percentage  cumulative_freq  cumulative_percentage\n",
       "1         0       1272    0.595506             2136               1.000000\n",
       "0         1        864    0.404494              864               0.404494"
      ]
     },
     "execution_count": 110,
     "metadata": {},
     "output_type": "execute_result"
    }
   ],
   "source": [
    "bq.plot.cum_freq('titanic','Survived',  )"
   ]
  },
  {
   "cell_type": "code",
   "execution_count": 365,
   "metadata": {
    "scrolled": true
   },
   "outputs": [
    {
     "data": {
      "text/plain": [
       "[<matplotlib.lines.Line2D at 0x126bddeb0>]"
      ]
     },
     "execution_count": 365,
     "metadata": {},
     "output_type": "execute_result"
    },
    {
     "data": {
      "image/png": "[encoded data removed]",
      "text/plain": [
       "<Figure size 432x288 with 1 Axes>"
      ]
     },
     "metadata": {
      "needs_background": "light"
     },
     "output_type": "display_data"
    }
   ],
   "source": [
    "sns.barplot(x=[0,1], y=df.sort_values(by='qtd_survived')['qtd_survived'])\n",
    "plt.plot([0,1], df.sort_values(by='qtd_survived')['qtd_survived'], '-s')"
   ]
  },
  {
   "cell_type": "markdown",
   "metadata": {},
   "source": [
    "# Plot module"
   ]
  },
  {
   "cell_type": "code",
   "execution_count": null,
   "metadata": {},
   "outputs": [],
   "source": [
    "bq.plot.cum_freq('titanic')"
   ]
  },
  {
   "cell_type": "code",
   "execution_count": 946,
   "metadata": {},
   "outputs": [
    {
     "data": {
      "text/plain": [
       "[<matplotlib.lines.Line2D at 0x12f406670>]"
      ]
     },
     "execution_count": 946,
     "metadata": {},
     "output_type": "execute_result"
    },
    {
     "data": {
      "image/png": "[encoded data removed]",
      "text/plain": [
       "<Figure size 1296x432 with 2 Axes>"
      ]
     },
     "metadata": {
      "needs_background": "light"
     },
     "output_type": "display_data"
    }
   ],
   "source": [
    "fig, ax = plt.subplots(1,1,figsize=(18,6))\n",
    "sns.barplot(x=x.Age, y=x.frequency, order = x.Age)\n",
    "fig.autofmt_xdate( rotation=60, )\n",
    "\n",
    "ax2 = ax.twinx()\n",
    "cumulative_sum = np.cumsum(x.frequency).reset_index(drop=True)\n",
    "\n",
    "ax2.plot(np.cumsum(x.frequency).reset_index(drop=True).index, \n",
    "         np.cumsum(x.frequency).reset_index(drop=True) , \n",
    "         '--')\n"
   ]
  },
  {
   "cell_type": "code",
   "execution_count": 118,
   "metadata": {},
   "outputs": [
    {
     "data": {
      "text/markdown": [
       "```sql \n",
       "            SELECT Age,\n",
       "             COUNT(*) AS frequency,\n",
       "     COUNT(*)/(SUM(COUNT(*)) OVER()) AS percentage,\n",
       "     SUM(COUNT(*)) OVER window_freq AS cumulative_freq,\n",
       "     (SUM(COUNT(*)) OVER window_freq)/(SUM(COUNT(*)) OVER ()) AS cumulative_percentage\n",
       "        FROM ironhack_database.titanic\n",
       "       GROUP BY Age\n",
       "WINDOW window_freq AS (ORDER BY COUNT(*) RANGE BETWEEN UNBOUNDED PRECEDING AND CURRENT ROW)\n",
       "     \n",
       "            ```"
      ],
      "text/plain": [
       "<IPython.core.display.Markdown object>"
      ]
     },
     "metadata": {},
     "output_type": "display_data"
    },
    {
     "name": "stderr",
     "output_type": "stream",
     "text": [
      "INFO:bq:Processing  0 MB, which costs US$ 0.00\n"
     ]
    }
   ],
   "source": [
    "df = bq.plot.cum_freq('titanic', 'Age')"
   ]
  },
  {
   "cell_type": "code",
   "execution_count": 121,
   "metadata": {},
   "outputs": [
    {
     "data": {
      "text/plain": [
       "[<matplotlib.lines.Line2D at 0x129519190>]"
      ]
     },
     "execution_count": 121,
     "metadata": {},
     "output_type": "execute_result"
    },
    {
     "data": {
      "image/png": "[encoded data removed]",
      "text/plain": [
       "<Figure size 1296x432 with 2 Axes>"
      ]
     },
     "metadata": {
      "needs_background": "light"
     },
     "output_type": "display_data"
    }
   ],
   "source": [
    "fig, ax = plt.subplots(1,1,figsize=(18,6))\n",
    "sns.barplot(x=df.Age, y=df.frequency, order = df.Age)\n",
    "fig.autofmt_xdate( rotation=60, )\n",
    "\n",
    "ax2 = ax.twinx()\n",
    "cumulative_sum = np.cumsum(df.frequency).reset_index(drop=True)\n",
    "\n",
    "ax2.plot(np.cumsum(df.frequency).reset_index(drop=True).index, \n",
    "         np.cumsum(df.frequency).reset_index(drop=True) , \n",
    "         '--')\n"
   ]
  },
  {
   "cell_type": "code",
   "execution_count": null,
   "metadata": {},
   "outputs": [],
   "source": []
  }
 ],
 "metadata": {
  "kernelspec": {
   "display_name": "Python 3",
   "language": "python",
   "name": "python3"
  },
  "language_info": {
   "codemirror_mode": {
    "name": "ipython",
    "version": 3
   },
   "file_extension": ".py",
   "mimetype": "text/x-python",
   "name": "python",
   "nbconvert_exporter": "python",
   "pygments_lexer": "ipython3",
   "version": "3.8.0"
  },
  "toc": {
   "base_numbering": 1,
   "nav_menu": {},
   "number_sections": true,
   "sideBar": true,
   "skip_h1_title": false,
   "title_cell": "Table of Contents",
   "title_sidebar": "Contents",
   "toc_cell": false,
   "toc_position": {},
   "toc_section_display": true,
   "toc_window_display": false
  }
 },
 "nbformat": 4,
 "nbformat_minor": 2
}
